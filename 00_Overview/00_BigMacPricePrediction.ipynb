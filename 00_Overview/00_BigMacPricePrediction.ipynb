{
  "nbformat": 4,
  "nbformat_minor": 0,
  "metadata": {
    "colab": {
      "name": "Copy of BigMacPricePrediction.ipynb",
      "provenance": []
    },
    "kernelspec": {
      "name": "python3",
      "display_name": "Python 3"
    },
    "language_info": {
      "name": "python"
    }
  },
  "cells": [
    {
      "cell_type": "code",
      "execution_count": null,
      "metadata": {
        "colab": {
          "base_uri": "https://localhost:8080/"
        },
        "id": "Yq2af_lFXNVl",
        "outputId": "87095ea5-7698-413b-8289-850777c80c23"
      },
      "outputs": [
        {
          "output_type": "stream",
          "name": "stdout",
          "text": [
            "Big Mac Data Analysis\n"
          ]
        }
      ],
      "source": [
        "import pandas as pd\n",
        "import numpy as np\n",
        "import matplotlib.pyplot as plt\n",
        "from scipy.optimize import curve_fit\n",
        "print(\"Big Mac Data Analysis\")\n"
      ]
    },
    {
      "cell_type": "code",
      "source": [
        "df = pd.read_csv('/content/drive/MyDrive/big-mac-source-data.csv', parse_dates=['date'])\n",
        "df = df.loc[df['currency_code']=='USD']\n",
        "print(df[1:10].to_string())"
      ],
      "metadata": {
        "colab": {
          "base_uri": "https://localhost:8080/"
        },
        "id": "izEANal3YeXs",
        "outputId": "cacff4d9-b1e0-4fca-95b6-76052dcb9365"
      },
      "execution_count": null,
      "outputs": [
        {
          "output_type": "stream",
          "name": "stdout",
          "text": [
            "              name iso_a3 currency_code  local_price  dollar_ex  GDP_dollar       date\n",
            "55   United States    USA           USD         2.54        1.0         NaN 2001-04-01\n",
            "87   United States    USA           USD         2.49        1.0         NaN 2002-04-01\n",
            "119  United States    USA           USD         2.71        1.0         NaN 2003-04-01\n",
            "158  United States    USA           USD         2.90        1.0         NaN 2004-05-01\n",
            "199  United States    USA           USD         3.06        1.0         NaN 2005-06-01\n",
            "232  United States    USA           USD         3.15        1.0         NaN 2006-01-01\n",
            "272  United States    USA           USD         3.10        1.0         NaN 2006-05-01\n",
            "313  United States    USA           USD         3.22        1.0         NaN 2007-01-01\n",
            "354  United States    USA           USD         3.41        1.0         NaN 2007-06-01\n"
          ]
        }
      ]
    },
    {
      "cell_type": "code",
      "source": [
        "df.dtypes"
      ],
      "metadata": {
        "colab": {
          "base_uri": "https://localhost:8080/"
        },
        "id": "JA8377fsZP7V",
        "outputId": "d08cb9a2-d2d3-4a4a-e7ca-4a95861c30c6"
      },
      "execution_count": null,
      "outputs": [
        {
          "output_type": "execute_result",
          "data": {
            "text/plain": [
              "name                     object\n",
              "iso_a3                   object\n",
              "currency_code            object\n",
              "local_price             float64\n",
              "dollar_ex               float64\n",
              "GDP_dollar              float64\n",
              "date             datetime64[ns]\n",
              "dtype: object"
            ]
          },
          "metadata": {},
          "execution_count": 10
        }
      ]
    },
    {
      "cell_type": "code",
      "source": [
        "df.plot.scatter(x='date', y='local_price', s=20)"
      ],
      "metadata": {
        "colab": {
          "base_uri": "https://localhost:8080/",
          "height": 297
        },
        "id": "XaviQ1CeZpjd",
        "outputId": "4d342b66-7ee8-4ec8-d1da-0a64bbf169c2"
      },
      "execution_count": null,
      "outputs": [
        {
          "output_type": "execute_result",
          "data": {
            "text/plain": [
              "<matplotlib.axes._subplots.AxesSubplot at 0x7faa4dbefdd0>"
            ]
          },
          "metadata": {},
          "execution_count": 11
        },
        {
          "output_type": "display_data",
          "data": {
            "text/plain": [
              "<Figure size 432x288 with 1 Axes>"
            ],
            "image/png": "[encoded data removed]"
          },
          "metadata": {
            "needs_background": "light"
          }
        }
      ]
    },
    {
      "cell_type": "code",
      "source": [
        "#@title\n",
        "# Create an empty df with same schema\n",
        "dfOld = df.copy()[0:0] \n",
        "\n",
        "# Add older data\n",
        "dfOld.loc[len(dfOld.index)] = ['United States', 'USA', 'USD', 0.45, 1.0, 0.0, pd.to_datetime('1967-01-01')]\n",
        "dfOld.loc[len(dfOld.index)] = ['United States', 'USA', 'USD', 0.49, 1.0, 0.0, pd.to_datetime('1968-01-01')]\n",
        "dfOld.loc[len(dfOld.index)] = ['United States', 'USA', 'USD', 0.49, 1.0, 0.0, pd.to_datetime('1969-01-01')]\n",
        "dfOld.loc[len(dfOld.index)] = ['United States', 'USA', 'USD', 0.65, 1.0, 0.0, pd.to_datetime('1970-01-01')]\n",
        "dfOld.loc[len(dfOld.index)] = ['United States', 'USA', 'USD', np.nan, 1.0, 0.0, pd.to_datetime('1971-01-01')]\n",
        "dfOld.loc[len(dfOld.index)] = ['United States', 'USA', 'USD', np.nan, 1.0, 0.0, pd.to_datetime('1972-01-01')]\n",
        "dfOld.loc[len(dfOld.index)] = ['United States', 'USA', 'USD', np.nan, 1.0, 0.0, pd.to_datetime('1973-01-01')]\n",
        "dfOld.loc[len(dfOld.index)] = ['United States', 'USA', 'USD', np.nan, 1.0, 0.0, pd.to_datetime('1974-01-01')]\n",
        "dfOld.loc[len(dfOld.index)] = ['United States', 'USA', 'USD', np.nan, 1.0, 0.0, pd.to_datetime('1975-01-01')]\n",
        "dfOld.loc[len(dfOld.index)] = ['United States', 'USA', 'USD', np.nan, 1.0, 0.0, pd.to_datetime('1976-01-01')]\n",
        "dfOld.loc[len(dfOld.index)] = ['United States', 'USA', 'USD', np.nan, 1.0, 0.0, pd.to_datetime('1977-01-01')]\n",
        "dfOld.loc[len(dfOld.index)] = ['United States', 'USA', 'USD', np.nan, 1.0, 0.0, pd.to_datetime('1978-01-01')]\n",
        "dfOld.loc[len(dfOld.index)] = ['United States', 'USA', 'USD', np.nan, 1.0, 0.0, pd.to_datetime('1979-01-01')]\n",
        "dfOld.loc[len(dfOld.index)] = ['United States', 'USA', 'USD', np.nan, 1.0, 0.0, pd.to_datetime('1980-01-01')]\n",
        "dfOld.loc[len(dfOld.index)] = ['United States', 'USA', 'USD', np.nan, 1.0, 0.0, pd.to_datetime('1981-01-01')]\n",
        "dfOld.loc[len(dfOld.index)] = ['United States', 'USA', 'USD', np.nan, 1.0, 0.0, pd.to_datetime('1982-01-01')]\n",
        "dfOld.loc[len(dfOld.index)] = ['United States', 'USA', 'USD', np.nan, 1.0, 0.0, pd.to_datetime('1983-01-01')]\n",
        "dfOld.loc[len(dfOld.index)] = ['United States', 'USA', 'USD', np.nan, 1.0, 0.0, pd.to_datetime('1984-01-01')]\n",
        "dfOld.loc[len(dfOld.index)] = ['United States', 'USA', 'USD', 1.6, 1.0, 0.0, pd.to_datetime('1985-01-01')]\n",
        "dfOld.loc[len(dfOld.index)] = ['United States', 'USA', 'USD', np.nan, 1.0, 0.0, pd.to_datetime('1986-01-01')]\n",
        "dfOld.loc[len(dfOld.index)] = ['United States', 'USA', 'USD', np.nan, 1.0, 0.0, pd.to_datetime('1987-01-01')]\n",
        "dfOld.loc[len(dfOld.index)] = ['United States', 'USA', 'USD', 2.39, 1.0, 0.0, pd.to_datetime('1988-01-01')]\n",
        "dfOld.loc[len(dfOld.index)] = ['United States', 'USA', 'USD', 2.02, 1.0, 0.0, pd.to_datetime('1989-01-01')]\n",
        "dfOld.loc[len(dfOld.index)] = ['United States', 'USA', 'USD', 2.2, 1.0, 0.0, pd.to_datetime('1990-01-01')]\n",
        "dfOld.loc[len(dfOld.index)] = ['United States', 'USA', 'USD', 2.25, 1.0, 0.0, pd.to_datetime('1991-01-01')]\n",
        "dfOld.loc[len(dfOld.index)] = ['United States', 'USA', 'USD', 2.19, 1.0, 0.0, pd.to_datetime('1992-01-01')]\n",
        "dfOld.loc[len(dfOld.index)] = ['United States', 'USA', 'USD', 2.28, 1.0, 0.0, pd.to_datetime('1993-01-01')]\n",
        "dfOld.loc[len(dfOld.index)] = ['United States', 'USA', 'USD', 2.3, 1.0, 0.0, pd.to_datetime('1994-01-01')]\n",
        "dfOld.loc[len(dfOld.index)] = ['United States', 'USA', 'USD', 2.32, 1.0, 0.0, pd.to_datetime('1995-01-01')]\n",
        "dfOld.loc[len(dfOld.index)] = ['United States', 'USA', 'USD', 2.36, 1.0, 0.0, pd.to_datetime('1996-01-01')]\n",
        "dfOld.loc[len(dfOld.index)] = ['United States', 'USA', 'USD', 2.42, 1.0, 0.0, pd.to_datetime('1997-01-01')]\n",
        "dfOld.loc[len(dfOld.index)] = ['United States', 'USA', 'USD', 2.56, 1.0, 0.0, pd.to_datetime('1998-01-01')]\n",
        "dfOld.loc[len(dfOld.index)] = ['United States', 'USA', 'USD', 2.43, 1.0, 0.0, pd.to_datetime('1999-01-01')]\n"
      ],
      "metadata": {
        "cellView": "form",
        "id": "RcTAC2XYbT1U"
      },
      "execution_count": null,
      "outputs": []
    },
    {
      "cell_type": "code",
      "source": [
        "dfFull = dfOld.append(df)\n",
        "dfFull.plot.scatter(x = 'date', y = 'local_price', s = 20)\n"
      ],
      "metadata": {
        "colab": {
          "base_uri": "https://localhost:8080/",
          "height": 298
        },
        "id": "jY2fdb8gb_I1",
        "outputId": "a63cf9c4-83b3-4c0c-c79f-bbbb9601077f"
      },
      "execution_count": null,
      "outputs": [
        {
          "output_type": "execute_result",
          "data": {
            "text/plain": [
              "<matplotlib.axes._subplots.AxesSubplot at 0x7faa4d4a2ed0>"
            ]
          },
          "metadata": {},
          "execution_count": 17
        },
        {
          "output_type": "display_data",
          "data": {
            "text/plain": [
              "<Figure size 432x288 with 1 Axes>"
            ],
            "image/png": "[encoded data removed]"
          },
          "metadata": {
            "needs_background": "light"
          }
        }
      ]
    },
    {
      "cell_type": "code",
      "source": [
        "dfFull['local_price'] = dfFull['local_price'].interpolate()\n",
        "dfFull.plot.scatter(x = 'date', y = 'local_price', s = 20)"
      ],
      "metadata": {
        "colab": {
          "base_uri": "https://localhost:8080/",
          "height": 298
        },
        "id": "W2dVFBefc_Q8",
        "outputId": "4b236ecd-cefd-44c3-e669-2f1abb99a58e"
      },
      "execution_count": null,
      "outputs": [
        {
          "output_type": "execute_result",
          "data": {
            "text/plain": [
              "<matplotlib.axes._subplots.AxesSubplot at 0x7faa4d400890>"
            ]
          },
          "metadata": {},
          "execution_count": 18
        },
        {
          "output_type": "display_data",
          "data": {
            "text/plain": [
              "<Figure size 432x288 with 1 Axes>"
            ],
            "image/png": "[encoded data removed]"
          },
          "metadata": {
            "needs_background": "light"
          }
        }
      ]
    },
    {
      "cell_type": "code",
      "source": [
        "def func(x,a,b,c):\n",
        "  return a * np.exp(b * (x-1964)/20 + c)\n",
        "dfFull['year'] = pd.DatetimeIndex(dfFull['date']).year\n",
        "print(dfFull[1:10].to_string())\n"
      ],
      "metadata": {
        "colab": {
          "base_uri": "https://localhost:8080/"
        },
        "id": "ZUkWJhtgeBrG",
        "outputId": "7e6b469a-2c7e-41ba-f430-6d97ad82fa4d"
      },
      "execution_count": null,
      "outputs": [
        {
          "output_type": "stream",
          "name": "stdout",
          "text": [
            "            name iso_a3 currency_code  local_price  dollar_ex  GDP_dollar       date  year\n",
            "1  United States    USA           USD     0.490000        1.0         0.0 1968-01-01  1968\n",
            "2  United States    USA           USD     0.490000        1.0         0.0 1969-01-01  1969\n",
            "3  United States    USA           USD     0.650000        1.0         0.0 1970-01-01  1970\n",
            "4  United States    USA           USD     0.713333        1.0         0.0 1971-01-01  1971\n",
            "5  United States    USA           USD     0.776667        1.0         0.0 1972-01-01  1972\n",
            "6  United States    USA           USD     0.840000        1.0         0.0 1973-01-01  1973\n",
            "7  United States    USA           USD     0.903333        1.0         0.0 1974-01-01  1974\n",
            "8  United States    USA           USD     0.966667        1.0         0.0 1975-01-01  1975\n",
            "9  United States    USA           USD     1.030000        1.0         0.0 1976-01-01  1976\n"
          ]
        }
      ]
    },
    {
      "cell_type": "code",
      "source": [
        "x = dfFull['year']\n",
        "y = dfFull['local_price']\n",
        "popt, pcov = curve_fit(func, x, y)\n",
        "print(popt)\n"
      ],
      "metadata": {
        "colab": {
          "base_uri": "https://localhost:8080/"
        },
        "id": "l1am17O2fzVY",
        "outputId": "acdb61cf-e6d7-4748-d0b0-5b243eba769a"
      },
      "execution_count": null,
      "outputs": [
        {
          "output_type": "stream",
          "name": "stdout",
          "text": [
            "[0.29466543 0.74940116 0.85834991]\n"
          ]
        }
      ]
    },
    {
      "cell_type": "code",
      "source": [
        "xDates = np.linspace(1965,2030,66)\n",
        "plt.figure()\n",
        "plt.plot(x, y, 'ko', label=\"Big Mac Data\")\n",
        "plt.plot(xDates, func(xDates, *popt), 'r-', label=\"Fitted Curve\")\n",
        "plt.legend()\n",
        "plt.show()\n",
        "\n"
      ],
      "metadata": {
        "colab": {
          "base_uri": "https://localhost:8080/",
          "height": 265
        },
        "id": "1Cwj-9-RgjIU",
        "outputId": "f53bba66-0bbf-489e-a803-c01a22b0573e"
      },
      "execution_count": null,
      "outputs": [
        {
          "output_type": "display_data",
          "data": {
            "text/plain": [
              "<Figure size 432x288 with 1 Axes>"
            ],
            "image/png": "[encoded data removed]"
          },
          "metadata": {
            "needs_background": "light"
          }
        }
      ]
    }
  ]
}