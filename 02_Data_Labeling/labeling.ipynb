{
 "cells": [
  {
   "cell_type": "markdown",
   "id": "35c95051",
   "metadata": {},
   "source": [
    "# Groundtruth Labeling\n",
    "\n",
    "<b>NOTE</b>: It is very important that in every step, you check that you are in the us-west-2 region as many resources cannot be reached across regions. <i><b>Specifically</b>, the S3 bucket must be created in <b>us-west-2</b>, and the same is for the SageMaker notebook instance.</i> Also, when creating the notebook instance, assign it the <b>ConcurMLWorkshopUse</b>.\n",
    "\n",
    "## Class material can be downloaded here\n",
    "\n",
    "https://github.com/ConcurDataScience/ConcurMLWorkshop\n",
    "\n",
    "<img src=\"//d1.awsstatic.com/product-marketing/product-page-diagram_SageMaker-Ground-Truth-Plus.b07ea09f6243c1a8a2358c704ce2a227c78b0153.png\" width=\"70%\" alt=\"How Amazon SageMaker Ground Truth Plus works\" title=\"How Amazon SageMaker Ground Truth Plus works\">"
   ]
  },
  {
   "cell_type": "markdown",
   "id": "663cd799",
   "metadata": {},
   "source": [
    "## Steps Overview\n",
    "\n",
    "### Decide what to label and decide on the UI template to use \n",
    "* What is your input? Text, image, audio, or video? \n",
    "* Classification, Bounding box, Single label, multi-label?\n",
    "* Out of the box, SageMaker console has text classification and image classification.\n",
    "* You can also use a custom built template.\n",
    "\n",
    "### Prepare the input\n",
    "* The input is in JSON format: <i>how does it look like?</i>\n",
    "* It is called an input manifest: <i>how does it look like?</i>\n",
    "* It needs to provide all the data that the UI template can consume: <i>what data?</i>\n",
    "\n",
    "### Create the job\n",
    "* The data needs to be in S3: <i>what data to upload?</i>\n",
    "* The job needs to have read/write access to the S3 bucket: <i>what access policies to update?</i>\n",
    "* Labelers need to have user account setup to access the AWS labeling portal: <i>how to setup the accounts?</i>\n",
    "* Must specify instructions for the labeler on what to do specifically for the labeling job: <i>how do we do that?</i>\n",
    "\n",
    "### Do labeling\n",
    "* The output will be in S3: <i>what are the outputs?</i>\n",
    "* The consolidated output will be in an output manifest file: <i>how does it look like?</i>\n",
    "* It will be generated after all tasks are completed: <i>why?</i>\n",
    "\n",
    "### Do ETL\n",
    "* This extracts the data from the output manifest file: <i>why ETL?</i>\n",
    "* It generates CSV file that the Athena table queries from: <i>How to setup Athena table?</i>"
   ]
  },
  {
   "cell_type": "markdown",
   "id": "67f59415",
   "metadata": {},
   "source": [
    "## Preparations\n",
    "\n",
    "Here we install the dependencies. <b>pyathena</b> will allow us to work with the data with SQL."
   ]
  },
  {
   "cell_type": "code",
   "execution_count": 1,
   "id": "7a1a48f6",
   "metadata": {},
   "outputs": [
    {
     "name": "stdout",
     "output_type": "stream",
     "text": [
      "/home/ec2-user/anaconda3/envs/amazonei_tensorflow_p36/lib/python3.6/site-packages/secretstorage/dhcrypto.py:16: CryptographyDeprecationWarning: int_from_bytes is deprecated, use int.from_bytes instead\n",
      "  from cryptography.utils import int_from_bytes\n",
      "/home/ec2-user/anaconda3/envs/amazonei_tensorflow_p36/lib/python3.6/site-packages/secretstorage/util.py:25: CryptographyDeprecationWarning: int_from_bytes is deprecated, use int.from_bytes instead\n",
      "  from cryptography.utils import int_from_bytes\n",
      "Collecting pyathena\n",
      "  Downloading PyAthena-2.3.2-py3-none-any.whl (37 kB)\n",
      "Requirement already satisfied: botocore>=1.5.52 in /home/ec2-user/anaconda3/envs/amazonei_tensorflow_p36/lib/python3.6/site-packages (from pyathena) (1.24.25)\n",
      "Requirement already satisfied: tenacity>=4.1.0 in /home/ec2-user/anaconda3/envs/amazonei_tensorflow_p36/lib/python3.6/site-packages (from pyathena) (8.0.1)\n",
      "Requirement already satisfied: boto3>=1.4.4 in /home/ec2-user/anaconda3/envs/amazonei_tensorflow_p36/lib/python3.6/site-packages (from pyathena) (1.21.25)\n",
      "Requirement already satisfied: jmespath<2.0.0,>=0.7.1 in /home/ec2-user/anaconda3/envs/amazonei_tensorflow_p36/lib/python3.6/site-packages (from boto3>=1.4.4->pyathena) (0.10.0)\n",
      "Requirement already satisfied: s3transfer<0.6.0,>=0.5.0 in /home/ec2-user/anaconda3/envs/amazonei_tensorflow_p36/lib/python3.6/site-packages (from boto3>=1.4.4->pyathena) (0.5.0)\n",
      "Requirement already satisfied: urllib3<1.27,>=1.25.4 in /home/ec2-user/anaconda3/envs/amazonei_tensorflow_p36/lib/python3.6/site-packages (from botocore>=1.5.52->pyathena) (1.26.8)\n",
      "Requirement already satisfied: python-dateutil<3.0.0,>=2.1 in /home/ec2-user/anaconda3/envs/amazonei_tensorflow_p36/lib/python3.6/site-packages (from botocore>=1.5.52->pyathena) (2.8.1)\n",
      "Requirement already satisfied: six>=1.5 in /home/ec2-user/anaconda3/envs/amazonei_tensorflow_p36/lib/python3.6/site-packages (from python-dateutil<3.0.0,>=2.1->botocore>=1.5.52->pyathena) (1.14.0)\n",
      "Installing collected packages: pyathena\n",
      "Successfully installed pyathena-2.3.2\n"
     ]
    }
   ],
   "source": [
    "!pip install pyathena"
   ]
  },
  {
   "cell_type": "code",
   "execution_count": null,
   "id": "70c98939",
   "metadata": {},
   "outputs": [],
   "source": []
  },
  {
   "cell_type": "markdown",
   "id": "0ecb5c3e",
   "metadata": {},
   "source": [
    "### Dependencies\n",
    "\n",
    "Let's do some imports and **define the bucket name** that we will use though out this session.**"
   ]
  },
  {
   "cell_type": "code",
   "execution_count": 2,
   "id": "59f6b08f",
   "metadata": {},
   "outputs": [],
   "source": [
    "from pyathena import connect\n",
    "import pandas as pd\n",
    "import json\n",
    "import boto3\n",
    "bucket_name = 'twitter-sentiment-hl'"
   ]
  },
  {
   "cell_type": "markdown",
   "id": "7859e104",
   "metadata": {},
   "source": [
    "### Decide UI Template to Use\n",
    "\n",
    "* Text classification: https://docs.aws.amazon.com/sagemaker/latest/dg/sms-text-classification.html - for the first job.\n",
    "* Amazon template repo: https://github.com/aws-samples/amazon-sagemaker-ground-truth-task-uis.\n",
    "* We will use the twitter sentiment template: [resources/sentiment-analysis-tweet.liquid](resources/sentiment-analysis-tweet.liquid) - for the second job.\n",
    "\n",
    "The UI template will largely dictate the format of the input data for labeling."
   ]
  },
  {
   "cell_type": "code",
   "execution_count": 3,
   "id": "323b0fb3",
   "metadata": {},
   "outputs": [
    {
     "name": "stdout",
     "output_type": "stream",
     "text": [
      "upload: resources/sentiment-analysis-tweet.liquid to s3://twitter-sentiment-hl/labeling_data_component/labeling_data_input/sentiment-analysis-tweet.liquid\n"
     ]
    }
   ],
   "source": [
    "!aws s3 cp resources/sentiment-analysis-tweet.liquid s3://$bucket_name/labeling_data_component/labeling_data_input/"
   ]
  },
  {
   "cell_type": "markdown",
   "id": "fae4e580",
   "metadata": {},
   "source": [
    "### Prepare Raw Data\n",
    "\n",
    "Below we have some <b>tweet data</b>. We will need to label them using the AWS Groundtruth tool."
   ]
  },
  {
   "cell_type": "code",
   "execution_count": 4,
   "id": "4734fba3",
   "metadata": {},
   "outputs": [
    {
     "name": "stdout",
     "output_type": "stream",
     "text": [
      "   tweet_id         entity                                         tweet_text\n",
      "0     13085  Xbox(Xseries)  Colt is trying it again. You guys ready for so...\n",
      "1     13137    Borderlands                    totally absolutely love the new\n",
      "2     13009  Xbox(Xseries)  @IdleSloth1984 what the hell do you mean? Xbox...\n"
     ]
    }
   ],
   "source": [
    "rawdata = pd.read_csv('resources/tweet_data.csv', delimiter='\\t')\n",
    "print(rawdata.head())\n",
    "rawdata = rawdata.reset_index()  # make sure indexes pair with number of rows"
   ]
  },
  {
   "cell_type": "markdown",
   "id": "03d20706",
   "metadata": {},
   "source": [
    "### Generate Input Manifest\n",
    "\n",
    "The manifest must provide the data that the UI template needs. Typically in a manifest, \n",
    "* you want to include the data referenced by the UI template, \n",
    "* you want to have ID that allow you to uniquely identify the data, and \n",
    "* you can have any other data that the UI template does not need, just in case if it is convenient to do so.\n",
    "\n",
    "The format for text classification template: https://docs.aws.amazon.com/sagemaker/latest/dg/sms-supported-data-formats.html"
   ]
  },
  {
   "cell_type": "code",
   "execution_count": 5,
   "id": "a902e1b5",
   "metadata": {},
   "outputs": [],
   "source": [
    "with open('resources/input.manifest', 'w') as mft:\n",
    "    for index, row in rawdata.iterrows():\n",
    "        task = {\n",
    "            'source': row['tweet_text'],\n",
    "            'entity': row['entity'],         \n",
    "            'tweet_id': row['tweet_id']            \n",
    "        }\n",
    "        mft.write(json.dumps(task))\n",
    "        mft.write(\"\\n\")"
   ]
  },
  {
   "cell_type": "markdown",
   "id": "5dc5a1a3",
   "metadata": {},
   "source": [
    "Next let's:\n",
    "* take a look at the generated manifest file and make sure it looks good.\n",
    "* upload it and also upload the <i>sentiments.json</i> file which will will use for the second job.<br/>\n",
    "* **verify** that they are in S3."
   ]
  },
  {
   "cell_type": "code",
   "execution_count": 6,
   "id": "05c527fa",
   "metadata": {},
   "outputs": [
    {
     "name": "stdout",
     "output_type": "stream",
     "text": [
      "upload: resources/input.manifest to s3://twitter-sentiment-hl/labeling_data_component/labeling_data_input/input.manifest\n",
      "upload: resources/sentiments.json to s3://twitter-sentiment-hl/labeling_data_component/labeling_data_input/sentiments.json\n"
     ]
    }
   ],
   "source": [
    "!aws s3 cp resources/input.manifest s3://$bucket_name/labeling_data_component/labeling_data_input/\n",
    "!aws s3 cp resources/sentiments.json s3://$bucket_name/labeling_data_component/labeling_data_input/"
   ]
  },
  {
   "cell_type": "raw",
   "id": "4990783a",
   "metadata": {},
   "source": []
  },
  {
   "cell_type": "raw",
   "id": "0e38f6fd",
   "metadata": {},
   "source": [
    "## Create the labeling job\n",
    "\n",
    "In this section we will:\n",
    "\n",
    "* Create a labeling job from the SageMaker console.\n",
    "* Create a labeling job using boto3.\n",
    "\n",
    "In AWS, a labeling job can be created using the SageMaker console manually, or using code by invoking one of the AWS APIs.\n",
    "\n",
    "Doing it fomr the console is generally good for one time only job. It will also help to better understand some concepts and the process involved. In comparison, creating using code allow you to automate the process and make it easy to repeat what you have done over and over."
   ]
  },
  {
   "cell_type": "code",
   "execution_count": null,
   "id": "49cfd458",
   "metadata": {},
   "outputs": [],
   "source": []
  },
  {
   "cell_type": "markdown",
   "id": "e2d023e9",
   "metadata": {},
   "source": [
    "### Create a job from the console\n",
    "\n",
    "We will create a new job using the SageMaker console. After this exercise, we will:\n",
    "\n",
    "* understand a few concepts and,\n",
    "* get a labeler account setup with your personal email - a one-time thing. You won't need to do this the second time.\n",
    "\n",
    "Here are the steps we will go through:\n",
    "\n",
    "* Generate a bucket policy which give labeling jobs access to the bucket.\n",
    "* Update our <code>ConcurMLWorkshopUse</code> rolw with that policy.\n",
    "* Create a job using the SageMaker console."
   ]
  },
  {
   "cell_type": "markdown",
   "id": "5c9709ed",
   "metadata": {},
   "source": [
    "#### Give role access to S3 bucket\n",
    "\n",
    "Even with the S3FullAccess, it is not enough for the labeling UI to access the S3 bucket. You must update your role with bucket specific permissions as shown below. More information about this can be found [here](https://docs.aws.amazon.com/sagemaker/latest/dg/sms-security-permission-console-access.html)."
   ]
  },
  {
   "cell_type": "code",
   "execution_count": 10,
   "id": "cf943192",
   "metadata": {},
   "outputs": [
    {
     "name": "stdout",
     "output_type": "stream",
     "text": [
      "{\n",
      "  \"Version\": \"2012-10-17\",\n",
      "  \"Statement\": [\n",
      "    {\n",
      "      \"Action\": [\n",
      "        \"s3:ListBucket\"\n",
      "      ],\n",
      "      \"Effect\": \"Allow\",\n",
      "      \"Resource\": [\n",
      "        \"arn:aws:s3:::twitter-sentiment-hl\"\n",
      "      ]\n",
      "    },\n",
      "    {\n",
      "      \"Action\": [\n",
      "        \"s3:GetObject\",\n",
      "        \"s3:PutObject\",\n",
      "        \"s3:DeleteObject\"\n",
      "      ],\n",
      "      \"Effect\": \"Allow\",\n",
      "      \"Resource\": [\n",
      "        \"arn:aws:s3:::twitter-sentiment-hl/*\"\n",
      "      ]\n",
      "    }\n",
      "  ]\n",
      "}\n"
     ]
    }
   ],
   "source": [
    "policy = {\n",
    "    \"Version\": \"2012-10-17\",\n",
    "    \"Statement\": [\n",
    "        {\n",
    "            \"Action\": [\n",
    "                \"s3:ListBucket\"\n",
    "            ],\n",
    "            \"Effect\": \"Allow\",\n",
    "            \"Resource\": [\n",
    "                f\"arn:aws:s3:::{bucket_name}\"\n",
    "            ]\n",
    "        },\n",
    "        {\n",
    "            \"Action\": [\n",
    "                \"s3:GetObject\",\n",
    "                \"s3:PutObject\",\n",
    "                \"s3:DeleteObject\"\n",
    "            ],\n",
    "            \"Effect\": \"Allow\",\n",
    "            \"Resource\": [\n",
    "                f\"arn:aws:s3:::{bucket_name}/*\"\n",
    "            ]\n",
    "        }\n",
    "    ]\n",
    "}\n",
    "print(json.dumps(policy, indent=2))"
   ]
  },
  {
   "cell_type": "markdown",
   "id": "af88f087",
   "metadata": {},
   "source": [
    "#### Activity after the first job is created\n",
    "\n",
    "* Check email to complete registration as labeler.\n",
    "* Verify that the new job is listed in Sagemaker.\n",
    "* Verify that a new work team is listed in SageMaker.\n",
    "* Verify that your email address is listed in the team in the **Confirmed** status.\n",
    "* Complete the labeling tasks.\n",
    "\n",
    "We will review the labeling out put later since AWS takes a little time to produce the output."
   ]
  },
  {
   "cell_type": "code",
   "execution_count": null,
   "id": "7e723716",
   "metadata": {},
   "outputs": [],
   "source": []
  },
  {
   "cell_type": "markdown",
   "id": "e6fe27ea",
   "metadata": {},
   "source": [
    "### Create a job using code\n",
    "\n",
    "Now we will create a similar job using code. After this, you will be able to\n",
    "\n",
    "* easily repeat the process to create a new job.\n",
    "* know how to customize your jobs going forward."
   ]
  },
  {
   "cell_type": "markdown",
   "id": "1e4684a1",
   "metadata": {},
   "source": [
    "#### Configurations\n",
    "\n",
    "AWS allows you to specify and pre and post processing lambda for a labeling job, which give you an opportunity the plugin a different logic to process the task data before and after it is sent to the labeling UI.\n",
    "\n",
    "* AWS provided [PreHumanTaskLambdaArn](https://docs.aws.amazon.com/sagemaker/latest/APIReference/API_HumanTaskConfig.html#SageMaker-Type-HumanTaskConfig-PreHumanTaskLambdaArn) \n",
    "* AWS provided [AnnotationConsolidationLambdaArn](https://docs.aws.amazon.com/sagemaker/latest/APIReference/API_AnnotationConsolidationConfig.html) "
   ]
  },
  {
   "cell_type": "code",
   "execution_count": 15,
   "id": "7a3457c3",
   "metadata": {},
   "outputs": [],
   "source": [
    "job_name = 'workshop-hl2'\n",
    "role_arn = 'arn:aws:iam::786774050055:role/ConcurMLWorkshopUse'\n",
    "team_arn = 'arn:aws:sagemaker:us-west-2:786774050055:workteam/private-crowd/workshop'\n",
    "pre_lambda_arn = \"arn:aws:lambda:us-west-2:081040173940:function:PRE-TextMultiClass\"\n",
    "post_lambda_arn = \"arn:aws:lambda:us-west-2:081040173940:function:ACS-TextMultiClass\"\n",
    "\n",
    "human_task_config = {\n",
    "    \"WorkteamArn\": team_arn,\n",
    "    \"UiConfig\": {\n",
    "      \"UiTemplateS3Uri\": f\"s3://{bucket_name}/labeling_data_component/labeling_data_input/sentiment-analysis-tweet.liquid\"\n",
    "    },\n",
    "    \"PreHumanTaskLambdaArn\": pre_lambda_arn,\n",
    "    \"TaskTitle\": \"Please pick the proper sentiment for the tweet\",\n",
    "    \"TaskDescription\": \"Please pick the proper sentiment for the tweet\",\n",
    "    \"NumberOfHumanWorkersPerDataObject\": 1,\n",
    "    \"TaskTimeLimitInSeconds\": 3600,\n",
    "    \"TaskAvailabilityLifetimeInSeconds\": 864000,\n",
    "    \"MaxConcurrentTaskCount\": 1000,\n",
    "    \"AnnotationConsolidationConfig\": {\n",
    "      \"AnnotationConsolidationLambdaArn\": post_lambda_arn\n",
    "    }\n",
    "}\n",
    "\n",
    "output_path = f\"s3://{bucket_name}/labeling_data_component/labeling_data_output/\""
   ]
  },
  {
   "cell_type": "markdown",
   "id": "9533aea2",
   "metadata": {},
   "source": [
    "#### Invoking SageMaker API"
   ]
  },
  {
   "cell_type": "code",
   "execution_count": 16,
   "id": "604e35ce",
   "metadata": {},
   "outputs": [
    {
     "name": "stdout",
     "output_type": "stream",
     "text": [
      "{'LabelingJobArn': 'arn:aws:sagemaker:us-west-2:786774050055:labeling-job/workshop-hl2', 'ResponseMetadata': {'RequestId': '67e80f3f-c023-4637-b2fe-2c4e61af0170', 'HTTPStatusCode': 200, 'HTTPHeaders': {'x-amzn-requestid': '67e80f3f-c023-4637-b2fe-2c4e61af0170', 'content-type': 'application/x-amz-json-1.1', 'content-length': '87', 'date': 'Sun, 03 Apr 2022 18:51:35 GMT'}, 'RetryAttempts': 0}}\n"
     ]
    }
   ],
   "source": [
    "def create_labeling_job(job_name, role_arn, bucket_name, team_arn):\n",
    "    # Only if a folder for the job DOES NOT exist, then create it, or fail it!\n",
    "    REGION = boto3.session.Session().region_name\n",
    "    sagemaker_client = boto3.client('sagemaker', REGION)\n",
    "    response = sagemaker_client.create_labeling_job(\n",
    "        LabelingJobName = job_name,\n",
    "        LabelAttributeName = \"sentiment\",\n",
    "        InputConfig={\n",
    "            'DataSource': {\n",
    "                'S3DataSource': {\n",
    "                    'ManifestS3Uri': f's3://{bucket_name}/labeling_data_component/labeling_data_input/input.manifest'\n",
    "                }\n",
    "            }\n",
    "        },\n",
    "        OutputConfig={\n",
    "            'S3OutputPath': f'{output_path}',\n",
    "            'KmsKeyId': 'alias/aws/s3'\n",
    "        },\n",
    "        RoleArn=role_arn,\n",
    "        LabelCategoryConfigS3Uri = f\"s3://{bucket_name}/labeling_data_component/labeling_data_input/sentiments.json\",\n",
    "        HumanTaskConfig=human_task_config\n",
    "    )\n",
    "    print(response)\n",
    "\n",
    "create_labeling_job(job_name, role_arn, bucket_name, team_arn)"
   ]
  },
  {
   "cell_type": "markdown",
   "id": "fdcfbf10",
   "metadata": {},
   "source": [
    "## Output ETL\n",
    "\n",
    "The raw output from SageMaker is not easily consumable by a program to use it for model training. We can use an ETL to extract the data and make it available through Athena. In this step we will do the following:\n",
    "\n",
    "* Download and inspect the output.manifest\n",
    "* Create an ETL script and run it to generate a csv\n",
    "* Create an Athena table that points to the csv file generated\n",
    "* Query the table and review the data"
   ]
  },
  {
   "cell_type": "markdown",
   "id": "2e1e7888",
   "metadata": {},
   "source": [
    "### Download the output.manifest\n",
    "\n",
    "Note that the output manifest will be generated by AWS only after all labels are done."
   ]
  },
  {
   "cell_type": "code",
   "execution_count": 24,
   "id": "8eb9ec6d",
   "metadata": {},
   "outputs": [
    {
     "name": "stdout",
     "output_type": "stream",
     "text": [
      "{\"source\":\"Colt is trying it again. You guys ready for some sweet sweet music. Shhhhhh and listen\",\"entity\":\"Xbox(Xseries)\",\"tweet_id\":13085,\"twitter-test-3\":1,\"twitter-test-3-metadata\":{\"class-name\":\"Negative\",\"job-name\":\"labeling-job/twitter-test-3\",\"confidence\":0,\"type\":\"groundtruth/text-classification\",\"human-annotated\":\"yes\",\"creation-date\":\"2022-04-03T03:43:02.232662\"}}\n",
      "{\"source\":\"totally absolutely love the new\",\"entity\":\"Borderlands\",\"tweet_id\":13137,\"twitter-test-3\":1,\"twitter-test-3-metadata\":{\"class-name\":\"Negative\",\"job-name\":\"labeling-job/twitter-test-3\",\"confidence\":0,\"type\":\"groundtruth/text-classification\",\"human-annotated\":\"yes\",\"creation-date\":\"2022-04-03T03:43:02.232671\"}}\n",
      "{\"source\":\"@IdleSloth1984 what the hell do you mean? Xbox x is litterly a pc. What the hell is the use of buying a worse pc. At least the ps5 will have a better controller. And more. Plus we actually HAVE vr. You restarted xbot\",\"entity\":\"Xbox(Xseries)\",\"tweet_id\":13009,\"twitter-test-3\":0,\"twitter-test-3-metadata\":{\"class-name\":\"Positive\",\"job-name\":\"labeling-job/twitter-test-3\",\"confidence\":0,\"type\":\"groundtruth/text-classification\",\"human-annotated\":\"yes\",\"creation-date\":\"2022-04-03T03:43:02.232637\"}}\n",
      "\n"
     ]
    }
   ],
   "source": [
    "job_name='twitter-test-3'\n",
    "!aws s3 cp s3://$bucket_name/labeling_data_component/labeling_data_output/$job_name/manifests/output/output.manifest resources/output.manifest > /dev/null\n",
    "with open('resources/output.manifest', 'r') as mft:\n",
    "    output = mft.read()\n",
    "    print(output)"
   ]
  },
  {
   "cell_type": "markdown",
   "id": "df53d42e",
   "metadata": {},
   "source": [
    "### Elements in output manifest\n",
    "\n",
    "* The **source**.\n",
    "* The label **class-name** under **twitter-test-3-metadata**.\n",
    "* The **confidence**. For more detail about how this is calculated see the corresponding [aws help page](https://docs.aws.amazon.com/sagemaker/latest/dg/sms-data-output.html#sms-output-confidence).\n",
    "* Other pass-through fields: **tweet_id** and **entity**."
   ]
  },
  {
   "cell_type": "markdown",
   "id": "261c485e",
   "metadata": {},
   "source": [
    "### Do the ETL"
   ]
  },
  {
   "cell_type": "code",
   "execution_count": 25,
   "id": "3e5a7e26",
   "metadata": {},
   "outputs": [],
   "source": [
    "with open('resources/output.manifest', 'r') as output:\n",
    "    outlines = output.readlines()\n",
    "\n",
    "with open('resources/outputetl.csv', 'w') as outetl:\n",
    "    header = ['tweet_id', 'entity', 'sentiment', 'confidence', 'tweet_text']\n",
    "    outetl.write('\\t'.join(header))\n",
    "    outetl.write('\\n')\n",
    "    for line in outlines:\n",
    "        data = json.loads(line)\n",
    "        output = [str(data['tweet_id'])]\n",
    "        output.append(data['entity'])\n",
    "        for key in data:\n",
    "            if key.endswith('-metadata'):\n",
    "                output.append(data[key]['class-name'])\n",
    "                output.append(str(data[key]['confidence']))\n",
    "                                   \n",
    "        output.append(data['source'])\n",
    "        outetl.write('\\t'.join(output))\n",
    "        outetl.write('\\n')"
   ]
  },
  {
   "cell_type": "code",
   "execution_count": 26,
   "id": "d11a02e8",
   "metadata": {},
   "outputs": [
    {
     "name": "stdout",
     "output_type": "stream",
     "text": [
      "upload: resources/outputetl.csv to s3://twitter-sentiment-hl/labeling_data_component/labeling_data_etl/outputetl.csv\n"
     ]
    }
   ],
   "source": [
    "!aws s3 cp resources/outputetl.csv s3://$bucket_name/labeling_data_component/labeling_data_etl/"
   ]
  },
  {
   "cell_type": "markdown",
   "id": "2f289f3c",
   "metadata": {},
   "source": [
    "### Create the Athena database and table\n",
    "\n",
    "If you have not yet created the Athena database, do the following to create the database:\n",
    "1. Navigate to Athena in AWS console\n",
    "2. Check to make sure that you are in the us-west-2 region (Oregon)\n",
    "3. In Setting, Click on Manage and make sure that \n",
    "* you specify the logging folder, \n",
    "* your own accoutn is the bucket owner and \n",
    "* give yourself full control over the query results\n",
    "4. Run the below command to create an Athena database:\n",
    "> CREATE DATABASE `ml-workshop-db`\n",
    "5. Create the Athena table\n",
    "* Run below command to create the table ddl and \n",
    "* Execute the ddl in Athena to generate the table"
   ]
  },
  {
   "cell_type": "code",
   "execution_count": 27,
   "id": "0c52ddea",
   "metadata": {},
   "outputs": [
    {
     "name": "stdout",
     "output_type": "stream",
     "text": [
      "\n",
      "CREATE EXTERNAL TABLE `labeling_output`(\n",
      "  `tweet_id` string COMMENT 'from deserializer',\n",
      "  `entity` string COMMENT 'from deserializer',\n",
      "  `sentiment` string COMMENT 'from deserializer',\n",
      "  `confidence` string COMMENT 'from deserializer',\n",
      "  `tweet_text` string COMMENT 'from deserializer')\n",
      "ROW FORMAT SERDE\n",
      "  'org.apache.hadoop.hive.serde2.OpenCSVSerde'\n",
      "WITH SERDEPROPERTIES (\n",
      "  'escapeChar'='\\\\',\n",
      "  'quoteChar'='\\\"',\n",
      "  'separatorChar'='\\t')\n",
      "STORED AS INPUTFORMAT\n",
      "  'org.apache.hadoop.mapred.TextInputFormat'\n",
      "OUTPUTFORMAT\n",
      "  'org.apache.hadoop.hive.ql.io.HiveIgnoreKeyTextOutputFormat'\n",
      "LOCATION\n",
      "  's3://twitter-sentiment-hl/labeling_data_component/labeling_data_etl'\n",
      "TBLPROPERTIES (\n",
      "  'has_encrypted_data'='false',\n",
      "  'skip.header.line.count'='1',\n",
      "  'transient_lastDdlTime'='1645737537')\n",
      "\n"
     ]
    }
   ],
   "source": [
    "ddl_query = f\"\"\"\n",
    "CREATE EXTERNAL TABLE `labeling_output`(\n",
    "  `tweet_id` string COMMENT 'from deserializer',\n",
    "  `entity` string COMMENT 'from deserializer',\n",
    "  `sentiment` string COMMENT 'from deserializer',\n",
    "  `confidence` string COMMENT 'from deserializer',\n",
    "  `tweet_text` string COMMENT 'from deserializer')\n",
    "ROW FORMAT SERDE\n",
    "  'org.apache.hadoop.hive.serde2.OpenCSVSerde'\n",
    "WITH SERDEPROPERTIES (\n",
    "  'escapeChar'='\\\\\\\\',\n",
    "  'quoteChar'='\\\\\"',\n",
    "  'separatorChar'='\\\\t')\n",
    "STORED AS INPUTFORMAT\n",
    "  'org.apache.hadoop.mapred.TextInputFormat'\n",
    "OUTPUTFORMAT\n",
    "  'org.apache.hadoop.hive.ql.io.HiveIgnoreKeyTextOutputFormat'\n",
    "LOCATION\n",
    "  's3://{bucket_name}/labeling_data_component/labeling_data_etl'\n",
    "TBLPROPERTIES (\n",
    "  'has_encrypted_data'='false',\n",
    "  'skip.header.line.count'='1',\n",
    "  'transient_lastDdlTime'='1645737537')\n",
    "\"\"\"\n",
    "\n",
    "print(ddl_query)"
   ]
  },
  {
   "cell_type": "markdown",
   "id": "0ba8fe9f",
   "metadata": {
    "toc-hr-collapsed": true,
    "toc-nb-collapsed": true
   },
   "source": [
    "## Wrap up - What is possible?\n",
    "\n",
    "A demo of a custom bounding box NER template"
   ]
  },
  {
   "cell_type": "code",
   "execution_count": null,
   "id": "30b9d050",
   "metadata": {},
   "outputs": [],
   "source": []
  }
 ],
 "metadata": {
  "kernelspec": {
   "display_name": "conda_amazonei_tensorflow_p36",
   "language": "python",
   "name": "conda_amazonei_tensorflow_p36"
  },
  "language_info": {
   "codemirror_mode": {
    "name": "ipython",
    "version": 3
   },
   "file_extension": ".py",
   "mimetype": "text/x-python",
   "name": "python",
   "nbconvert_exporter": "python",
   "pygments_lexer": "ipython3",
   "version": "3.6.10"
  }
 },
 "nbformat": 4,
 "nbformat_minor": 5
}
