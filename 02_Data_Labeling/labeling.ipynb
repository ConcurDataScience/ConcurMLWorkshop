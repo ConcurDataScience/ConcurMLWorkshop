{
 "cells": [
  {
   "cell_type": "markdown",
   "id": "0a06c48e",
   "metadata": {},
   "source": [
    "# Groundtruth Labeling\n",
    "\n",
    "<img src=\"//d1.awsstatic.com/product-marketing/product-page-diagram_SageMaker-Ground-Truth-Plus.b07ea09f6243c1a8a2358c704ce2a227c78b0153.png\" width=\"100%\" alt=\"How Amazon SageMaker Ground Truth Plus works\" title=\"How Amazon SageMaker Ground Truth Plus works\">\n",
    "\n",
    "Steps:\n",
    "\n",
    "* Decide what to present to the labeler - the UI template.\n",
    "* Prepare the input\n",
    "* Create the job\n",
    "* Do labeling\n",
    "* ETL\n",
    "* Training"
   ]
  },
  {
   "cell_type": "markdown",
   "id": "020354d2",
   "metadata": {},
   "source": [
    "## Install Dependencies\n",
    "\n",
    "<h4>Here we install the dependencies. <b>pyathena</b> is will allow us to work with the data like a database.</h4>"
   ]
  },
  {
   "cell_type": "code",
   "execution_count": 104,
   "id": "6c0c3fb7",
   "metadata": {},
   "outputs": [
    {
     "name": "stdout",
     "output_type": "stream",
     "text": [
      "/home/ec2-user/anaconda3/envs/amazonei_tensorflow_p36/lib/python3.6/site-packages/secretstorage/dhcrypto.py:16: CryptographyDeprecationWarning: int_from_bytes is deprecated, use int.from_bytes instead\n",
      "  from cryptography.utils import int_from_bytes\n",
      "/home/ec2-user/anaconda3/envs/amazonei_tensorflow_p36/lib/python3.6/site-packages/secretstorage/util.py:25: CryptographyDeprecationWarning: int_from_bytes is deprecated, use int.from_bytes instead\n",
      "  from cryptography.utils import int_from_bytes\n",
      "Requirement already satisfied: pyathena in /home/ec2-user/anaconda3/envs/amazonei_tensorflow_p36/lib/python3.6/site-packages (2.3.2)\n",
      "Requirement already satisfied: boto3>=1.4.4 in /home/ec2-user/anaconda3/envs/amazonei_tensorflow_p36/lib/python3.6/site-packages (from pyathena) (1.21.12)\n",
      "Requirement already satisfied: tenacity>=4.1.0 in /home/ec2-user/anaconda3/envs/amazonei_tensorflow_p36/lib/python3.6/site-packages (from pyathena) (8.0.1)\n",
      "Requirement already satisfied: botocore>=1.5.52 in /home/ec2-user/anaconda3/envs/amazonei_tensorflow_p36/lib/python3.6/site-packages (from pyathena) (1.24.12)\n",
      "Requirement already satisfied: jmespath<1.0.0,>=0.7.1 in /home/ec2-user/anaconda3/envs/amazonei_tensorflow_p36/lib/python3.6/site-packages (from boto3>=1.4.4->pyathena) (0.10.0)\n",
      "Requirement already satisfied: s3transfer<0.6.0,>=0.5.0 in /home/ec2-user/anaconda3/envs/amazonei_tensorflow_p36/lib/python3.6/site-packages (from boto3>=1.4.4->pyathena) (0.5.0)\n",
      "Requirement already satisfied: urllib3<1.27,>=1.25.4 in /home/ec2-user/anaconda3/envs/amazonei_tensorflow_p36/lib/python3.6/site-packages (from botocore>=1.5.52->pyathena) (1.26.8)\n",
      "Requirement already satisfied: python-dateutil<3.0.0,>=2.1 in /home/ec2-user/anaconda3/envs/amazonei_tensorflow_p36/lib/python3.6/site-packages (from botocore>=1.5.52->pyathena) (2.8.1)\n",
      "Requirement already satisfied: six>=1.5 in /home/ec2-user/anaconda3/envs/amazonei_tensorflow_p36/lib/python3.6/site-packages (from python-dateutil<3.0.0,>=2.1->botocore>=1.5.52->pyathena) (1.14.0)\n"
     ]
    }
   ],
   "source": [
    "!pip install pyathena"
   ]
  },
  {
   "cell_type": "code",
   "execution_count": 105,
   "id": "761c1773",
   "metadata": {},
   "outputs": [],
   "source": [
    "from pyathena import connect\n",
    "import pandas as pd\n",
    "import json\n",
    "import boto3"
   ]
  },
  {
   "cell_type": "markdown",
   "id": "50cbd1c1",
   "metadata": {},
   "source": [
    "## Decide UI Template to Use\n",
    "\n",
    "This will dictate the format of the input data for labeling. AWS has a list of templates you can use as is or modify to make your own: https://github.com/aws-samples/amazon-sagemaker-ground-truth-task-uis. Some of these are what's provided by Groundtruth console as the out-of-the-box ones."
   ]
  },
  {
   "cell_type": "code",
   "execution_count": 111,
   "id": "93ea4dd5",
   "metadata": {},
   "outputs": [
    {
     "name": "stdout",
     "output_type": "stream",
     "text": [
      "upload: resources/sentiment-analysis-tweet.liquid to s3://datascience-ml-workshop-prep/labeling_data_component/labeling_data_input/sentiment-analysis-tweet.liquid\n"
     ]
    }
   ],
   "source": [
    "!aws s3 cp resources/sentiment-analysis-tweet.liquid s3://datascience-ml-workshop-prep/labeling_data_component/labeling_data_input/"
   ]
  },
  {
   "cell_type": "markdown",
   "id": "a6d91361",
   "metadata": {},
   "source": [
    "## Prepare Raw Data\n",
    "\n",
    "Below we have some tweet data. We will need to label them using the AWS Groundtruth tool."
   ]
  },
  {
   "cell_type": "code",
   "execution_count": 106,
   "id": "68a2177d",
   "metadata": {},
   "outputs": [
    {
     "name": "stdout",
     "output_type": "stream",
     "text": [
      "   tweet_id                                         tweet_text\n",
      "0     13085  Colt is trying it again. You guys ready for so...\n",
      "1     13137                    totally absolutely love the new\n",
      "2     13009  @IdleSloth1984 what the hell do you mean? Xbox...\n",
      "3     13049  Please win that I was forever Xbox gang, but I...\n",
      "4     13071  It is hard to overcome how devastating the del...\n"
     ]
    }
   ],
   "source": [
    "rawdata = pd.read_csv('resources/tweet_data.csv', delimiter='\\t')\n",
    "print(rawdata.head())\n",
    "rawdata = rawdata.reset_index()  # make sure indexes pair with number of rows"
   ]
  },
  {
   "cell_type": "markdown",
   "id": "0233479c",
   "metadata": {},
   "source": [
    "## Generate Input Manifest\n",
    "\n",
    "The manifest data format is determined by the task template. AWS as a few out-of-the-box supported templates and their corresponding supported manifest data format is https://docs.aws.amazon.com/sagemaker/latest/dg/sms-supported-data-formats.html"
   ]
  },
  {
   "cell_type": "code",
   "execution_count": 107,
   "id": "2db64d05",
   "metadata": {},
   "outputs": [],
   "source": [
    "with open('resources/input.manifest', 'w') as mft:\n",
    "    for index, row in rawdata.iterrows():\n",
    "        task = {\n",
    "            'source': row['tweet_text'],\n",
    "            'tweet_id': row['tweet_id']            \n",
    "        }\n",
    "        mft.write(json.dumps(task))\n",
    "        mft.write(\"\\n\")"
   ]
  },
  {
   "cell_type": "code",
   "execution_count": 110,
   "id": "16714293",
   "metadata": {},
   "outputs": [
    {
     "name": "stdout",
     "output_type": "stream",
     "text": [
      "upload: resources/sentiment-analysis-tweet.liquid to s3://datascience-ml-workshop-prep/labeling_data_component/labeling_data_input/sentiment-analysis-tweet.liquid\n",
      "upload: resources/input.manifest to s3://datascience-ml-workshop-prep/labeling_data_component/labeling_data_input/input.manifest\n",
      "upload: resources/sentiments.json to s3://datascience-ml-workshop-prep/labeling_data_component/labeling_data_input/sentiments.json\n"
     ]
    }
   ],
   "source": [
    "!aws s3 cp resources/input.manifest s3://datascience-ml-workshop-prep/labeling_data_component/labeling_data_input/\n",
    "!aws s3 cp resources/sentiments.json s3://datascience-ml-workshop-prep/labeling_data_component/labeling_data_input/"
   ]
  },
  {
   "cell_type": "markdown",
   "id": "2cd14523",
   "metadata": {},
   "source": [
    "## Create the labeling job\n",
    "\n",
    "* AWS provided PreHumanTaskLambdaArn can be found on page https://docs.aws.amazon.com/sagemaker/latest/APIReference/API_HumanTaskConfig.html#SageMaker-Type-HumanTaskConfig-PreHumanTaskLambdaArn\n",
    "* AWS provided AnnotationConsolidationLambdaArn can be found on page https://docs.aws.amazon.com/sagemaker/latest/APIReference/API_AnnotationConsolidationConfig.html"
   ]
  },
  {
   "cell_type": "code",
   "execution_count": 109,
   "id": "6597a6ec",
   "metadata": {},
   "outputs": [],
   "source": [
    "def create_labeling_job(job_name):\n",
    "    human_task_config = {\n",
    "        \"WorkteamArn\": \"arn:aws:sagemaker:us-west-2:995383923238:workteam/private-crowd/workshop\",\n",
    "        \"UiConfig\": {\n",
    "          \"UiTemplateS3Uri\": \"s3://datascience-ml-workshop-prep/labeling_data_component/labeling_data_input/sentiment-analysis-tweet.liquid\"\n",
    "        },\n",
    "        \"PreHumanTaskLambdaArn\": \"arn:aws:lambda:us-west-2:081040173940:function:PRE-TextMultiClass\",\n",
    "        \"TaskTitle\": \"Please pick the proper sentiment for the tweet\",\n",
    "        \"TaskDescription\": \"Please pick the proper sentiment for the tweet\",\n",
    "        \"NumberOfHumanWorkersPerDataObject\": 1,\n",
    "        \"TaskTimeLimitInSeconds\": 3600,\n",
    "        \"TaskAvailabilityLifetimeInSeconds\": 864000,\n",
    "        \"MaxConcurrentTaskCount\": 1000,\n",
    "        \"AnnotationConsolidationConfig\": {\n",
    "          \"AnnotationConsolidationLambdaArn\": \"arn:aws:lambda:us-west-2:081040173940:function:ACS-TextMultiClass\"\n",
    "        }\n",
    "    }\n",
    "\n",
    "    output_path = \"s3://datascience-ml-workshop-prep/labeling_data_component/labeling_data_output/\"\n",
    "\n",
    "    # Only if a folder for the job DOES NOT exist, then create it, or fail it!\n",
    "    REGION = boto3.session.Session().region_name\n",
    "    sagemaker_client = boto3.client('sagemaker', REGION)\n",
    "    response = sagemaker_client.create_labeling_job(\n",
    "        LabelingJobName = job_name,\n",
    "        LabelAttributeName = \"sentiment\",\n",
    "        InputConfig={\n",
    "            'DataSource': {\n",
    "                'S3DataSource': {\n",
    "                    'ManifestS3Uri': 's3://datascience-ml-workshop-prep/labeling_data_component/labeling_data_input/input.manifest'\n",
    "                }\n",
    "            }\n",
    "        },\n",
    "        OutputConfig={\n",
    "            'S3OutputPath': f'{output_path}',\n",
    "            'KmsKeyId': 'alias/aws/s3'\n",
    "        },\n",
    "        RoleArn=\"arn:aws:iam::995383923238:role/service-role/AmazonSageMaker-ExecutionRole-20220326T142852\",\n",
    "        LabelCategoryConfigS3Uri=\"s3://datascience-ml-workshop-prep/labeling_data_component/labeling_data_input/sentiments.json\",\n",
    "        HumanTaskConfig=human_task_config,\n",
    "        Tags=[{\"Key\":\"RoleType\", \"Value\":\"dsml\"}]\n",
    "    )\n",
    "\n",
    "job_name='workshop-hl7'\n",
    "create_labeling_job(job_name)"
   ]
  },
  {
   "cell_type": "markdown",
   "id": "47c98cca",
   "metadata": {},
   "source": [
    "## Output ETL\n",
    "\n",
    "<h4>The output manifest will be generated by AWS only after all labels are done.</h4>"
   ]
  },
  {
   "cell_type": "code",
   "execution_count": 93,
   "id": "3e41ab8f",
   "metadata": {},
   "outputs": [
    {
     "name": "stdout",
     "output_type": "stream",
     "text": [
      "download: s3://datascience-ml-workshop-prep/labeling_data_component/labeling_data_output/workshop-hl2/manifests/output/output.manifest to resources/output.manifest\n"
     ]
    }
   ],
   "source": [
    "!aws s3 cp s3://datascience-ml-workshop-prep/labeling_data_component/labeling_data_output/workshop-hl2/manifests/output/output.manifest resources/output.manifest"
   ]
  },
  {
   "cell_type": "code",
   "execution_count": 94,
   "id": "ad11cb84",
   "metadata": {},
   "outputs": [],
   "source": [
    "with open('resources/output.manifest', 'r') as output:\n",
    "    outlines = output.readlines()\n",
    "\n",
    "with open('resources/outputetl.csv', 'w') as outetl:\n",
    "    header = ['tweet_id', 'sentiment', 'confidence', 'tweet_text']\n",
    "    outetl.write('\\t'.join(header))\n",
    "    outetl.write('\\n')\n",
    "    for line in outlines:\n",
    "        data = json.loads(line)\n",
    "        output = [str(data['tweet_id'])]\n",
    "        for key in data:\n",
    "            if key.endswith('-metadata'):\n",
    "                output.append(data[key]['class-name'])\n",
    "                output.append(str(data[key]['confidence']))\n",
    "                                   \n",
    "        output.append(data['source'])\n",
    "        outetl.write('\\t'.join(output))\n",
    "        outetl.write('\\n')"
   ]
  },
  {
   "cell_type": "code",
   "execution_count": 95,
   "id": "7bbdace3",
   "metadata": {},
   "outputs": [
    {
     "name": "stdout",
     "output_type": "stream",
     "text": [
      "upload: resources/outputetl.csv to s3://datascience-ml-workshop-prep/labeling_data_component/labeling_data_etl/outputetl.csv\n"
     ]
    }
   ],
   "source": [
    "!aws s3 cp resources/outputetl.csv s3://datascience-ml-workshop-prep/labeling_data_component/labeling_data_etl/"
   ]
  },
  {
   "cell_type": "markdown",
   "id": "b2b26cd8",
   "metadata": {},
   "source": [
    "## Next Step\n",
    "\n",
    "<h4>Once the model is trained. It can produce predictions, but some will have low scores initially. Let's label those with low scores so that it can be used to improve the model.</h4>\n",
    "\n",
    "<img src=\"//d1.awsstatic.com/a2i/Product-Page-Diagram_A2I%402x.2fe2e8e5eed05fa5045835c3f3f04e23a9245e9c.png\" alt=\"Product-Page-Diagram_A2I@2x\" title=\"Product-Page-Diagram_A2I@2x\">"
   ]
  },
  {
   "cell_type": "code",
   "execution_count": 99,
   "id": "8658b7ec",
   "metadata": {},
   "outputs": [
    {
     "name": "stdout",
     "output_type": "stream",
     "text": [
      "  tweet_id  score   sentiment  \\\n",
      "0    13179   0.42    Negative   \n",
      "1     8413   0.23    Negative   \n",
      "2     8419   0.62  Irrelevant   \n",
      "3     8467   0.52    Negative   \n",
      "4     8516   0.41    Negative   \n",
      "\n",
      "                                          tweet_text  \n",
      "0  Ok so this is getting to bother me... Even Mic...  \n",
      "1  keep it a bean, the shooting is a huge problem...  \n",
      "2  I remember when I called Danny Green a garbage...  \n",
      "3  It's funny. Last year I won my first 20 or som...  \n",
      "4  @NBA2K I brought it worth I vc it’s not showin...  \n"
     ]
    }
   ],
   "source": [
    "conn = connect(s3_staging_dir=\"s3://aws-athena-query-results-us-west-2-995383923238/ \",\n",
    "               region_name=\"us-west-2\")\n",
    "lowscore = pd.read_sql_query(\"\"\" SELECT tweet_id, COALESCE(TRY(CAST(score AS double)),0.0) as score, sentiment, tweet_text FROM \"ml-workshop-db\".\"labeling_prediction\" where COALESCE(TRY(CAST(score AS double)),0.0)<0.8 \"\"\", conn)\n",
    "print(lowscore.head())"
   ]
  },
  {
   "cell_type": "code",
   "execution_count": 102,
   "id": "73af014c",
   "metadata": {},
   "outputs": [],
   "source": [
    "with open('resources/input_predicted.manifest', 'w') as mft:\n",
    "    for index, row in lowscore.iterrows():\n",
    "        task = {\n",
    "            'source': row['tweet_text'],\n",
    "            'tweet_id': row['tweet_id']        \n",
    "        }\n",
    "        mft.write(json.dumps(task))\n",
    "        mft.write(\"\\n\")"
   ]
  },
  {
   "cell_type": "code",
   "execution_count": 103,
   "id": "41ca0741",
   "metadata": {},
   "outputs": [
    {
     "name": "stdout",
     "output_type": "stream",
     "text": [
      "upload: resources/input_predicted.manifest to s3://datascience-ml-workshop-prep/labeling_data_component/labeling_data_input/input_predicted.manifest\n"
     ]
    }
   ],
   "source": [
    "!aws s3 cp resources/input_predicted.manifest s3://datascience-ml-workshop-prep/labeling_data_component/labeling_data_input/"
   ]
  },
  {
   "cell_type": "code",
   "execution_count": null,
   "id": "b7b3aa38",
   "metadata": {},
   "outputs": [],
   "source": []
  }
 ],
 "metadata": {
  "kernelspec": {
   "display_name": "conda_amazonei_tensorflow_p36",
   "language": "python",
   "name": "conda_amazonei_tensorflow_p36"
  },
  "language_info": {
   "codemirror_mode": {
    "name": "ipython",
    "version": 3
   },
   "file_extension": ".py",
   "mimetype": "text/x-python",
   "name": "python",
   "nbconvert_exporter": "python",
   "pygments_lexer": "ipython3",
   "version": "3.6.10"
  }
 },
 "nbformat": 4,
 "nbformat_minor": 5
}
