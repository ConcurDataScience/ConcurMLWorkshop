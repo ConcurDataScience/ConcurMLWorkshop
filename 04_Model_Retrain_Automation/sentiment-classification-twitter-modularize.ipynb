{
 "cells": [
  {
   "cell_type": "markdown",
   "id": "6e6d447f",
   "metadata": {},
   "source": [
    "# Using Sagemaker ScriptProcessors and Estimators\n",
    "### Preprocess data and train models"
   ]
  },
  {
   "cell_type": "markdown",
   "id": "c7fbd224",
   "metadata": {},
   "source": [
    "![](images/Processing-1.png)\n",
    "\n",
    "[Source](https://docs.aws.amazon.com/sagemaker/latest/dg/processing-job.html)"
   ]
  },
  {
   "cell_type": "markdown",
   "id": "21bb0c7c",
   "metadata": {},
   "source": [
    "### 0.1a Git clone the workshop repo in your Sagemaker instance\n",
    "You can run the command below in a Terminal inside Jupyter/JupyterLab, or in a Jupyter notebook cell (prefix with `!`)"
   ]
  },
  {
   "cell_type": "markdown",
   "id": "5bd206e3",
   "metadata": {},
   "source": [
    "```bash\n",
    "git clone https://github.com/ConcurDataScience/ConcurMLWorkshop.git\n",
    "```"
   ]
  },
  {
   "cell_type": "markdown",
   "id": "aca88766",
   "metadata": {},
   "source": [
    "<div>\n",
    "<img src=\"images/Terminal.png\" width=\"400\"/>\n",
    "</div>"
   ]
  },
  {
   "cell_type": "markdown",
   "id": "375f31a9",
   "metadata": {},
   "source": [
    "### 0.1b Upload/unzip sentiment-modularized.tar.gz to your Sagemaker notebook instance\n",
    "After uploading the sentiment-modularized.tar.gz file to your Sagemaker notebook instance, open a Terminal in JupyterLab and unzip the tar.gz file using the command below"
   ]
  },
  {
   "cell_type": "markdown",
   "id": "b7f69199",
   "metadata": {},
   "source": [
    "```bash\n",
    "cd Sagemaker && tar -xvf sentiment-modularized.tar.gz\n",
    "```"
   ]
  },
  {
   "cell_type": "markdown",
   "id": "99121ae4",
   "metadata": {},
   "source": [
    "You should see the following after unzipping the tar file"
   ]
  },
  {
   "cell_type": "markdown",
   "id": "7dde7a84",
   "metadata": {},
   "source": [
    "<div>\n",
    "<img src=\"images/unzipped-list.png\" width=\"350\"/>\n",
    "</div>"
   ]
  },
  {
   "cell_type": "markdown",
   "id": "4910abcf",
   "metadata": {},
   "source": [
    "### 0.2 Check if your bucket exists"
   ]
  },
  {
   "cell_type": "code",
   "execution_count": 1,
   "id": "5102f7d8",
   "metadata": {},
   "outputs": [],
   "source": [
    "BUCKET = 'dsml-chrisi-bucket'"
   ]
  },
  {
   "cell_type": "code",
   "execution_count": null,
   "id": "bfd8fb1c",
   "metadata": {
    "scrolled": true
   },
   "outputs": [],
   "source": [
    "!aws s3 ls s3://{BUCKET}"
   ]
  },
  {
   "cell_type": "markdown",
   "id": "4a83b6cc",
   "metadata": {},
   "source": [
    "If your bucket does not exist, you can run the cell below to create it (remove comment)"
   ]
  },
  {
   "cell_type": "code",
   "execution_count": null,
   "id": "c50da048",
   "metadata": {},
   "outputs": [],
   "source": [
    "#!aws s3 mb s3://{BUCKET}"
   ]
  },
  {
   "cell_type": "markdown",
   "id": "8f6fbd5c",
   "metadata": {},
   "source": [
    "### 0.3 Create the `workshop` and `athena_log` folders in your S3 bucket"
   ]
  },
  {
   "cell_type": "code",
   "execution_count": 32,
   "id": "1fdd60d1",
   "metadata": {},
   "outputs": [
    {
     "name": "stdout",
     "output_type": "stream",
     "text": [
      "upload: resources/dummy.txt to s3://dsml-chrisi-bucket/workshop/dummy.txt\n",
      "upload: resources/dummy.txt to s3://dsml-chrisi-bucket/athena_log/dummy.txt\n"
     ]
    }
   ],
   "source": [
    "!aws s3 cp resources/dummy.txt s3://{BUCKET}/workshop/dummy.txt\n",
    "!aws s3 cp resources/dummy.txt s3://{BUCKET}/athena_log/dummy.txt"
   ]
  },
  {
   "cell_type": "markdown",
   "id": "921937cb",
   "metadata": {},
   "source": [
    "### 1.0 Get data via PyAthena"
   ]
  },
  {
   "cell_type": "code",
   "execution_count": 33,
   "id": "cd5d286c",
   "metadata": {
    "scrolled": true
   },
   "outputs": [
    {
     "name": "stdout",
     "output_type": "stream",
     "text": [
      "Requirement already satisfied: pyathena in /home/ec2-user/anaconda3/envs/python3/lib/python3.6/site-packages (2.3.2)\n",
      "Requirement already satisfied: boto3>=1.4.4 in /home/ec2-user/anaconda3/envs/python3/lib/python3.6/site-packages (from pyathena) (1.21.25)\n",
      "Requirement already satisfied: tenacity>=4.1.0 in /home/ec2-user/anaconda3/envs/python3/lib/python3.6/site-packages (from pyathena) (8.0.1)\n",
      "Requirement already satisfied: botocore>=1.5.52 in /home/ec2-user/anaconda3/envs/python3/lib/python3.6/site-packages (from pyathena) (1.24.25)\n",
      "Requirement already satisfied: jmespath<2.0.0,>=0.7.1 in /home/ec2-user/anaconda3/envs/python3/lib/python3.6/site-packages (from boto3>=1.4.4->pyathena) (0.10.0)\n",
      "Requirement already satisfied: s3transfer<0.6.0,>=0.5.0 in /home/ec2-user/anaconda3/envs/python3/lib/python3.6/site-packages (from boto3>=1.4.4->pyathena) (0.5.0)\n",
      "Requirement already satisfied: python-dateutil<3.0.0,>=2.1 in /home/ec2-user/anaconda3/envs/python3/lib/python3.6/site-packages (from botocore>=1.5.52->pyathena) (2.8.1)\n",
      "Requirement already satisfied: urllib3<1.27,>=1.25.4 in /home/ec2-user/anaconda3/envs/python3/lib/python3.6/site-packages (from botocore>=1.5.52->pyathena) (1.26.8)\n",
      "Requirement already satisfied: six>=1.5 in /home/ec2-user/anaconda3/envs/python3/lib/python3.6/site-packages (from python-dateutil<3.0.0,>=2.1->botocore>=1.5.52->pyathena) (1.15.0)\n"
     ]
    }
   ],
   "source": [
    "!pip install pyathena"
   ]
  },
  {
   "cell_type": "code",
   "execution_count": 13,
   "id": "59850f07",
   "metadata": {},
   "outputs": [
    {
     "name": "stdout",
     "output_type": "stream",
     "text": [
      "CPU times: user 3.53 s, sys: 117 ms, total: 3.65 s\n",
      "Wall time: 18.4 s\n"
     ]
    },
    {
     "data": {
      "text/html": [
       "<div>\n",
       "<style scoped>\n",
       "    .dataframe tbody tr th:only-of-type {\n",
       "        vertical-align: middle;\n",
       "    }\n",
       "\n",
       "    .dataframe tbody tr th {\n",
       "        vertical-align: top;\n",
       "    }\n",
       "\n",
       "    .dataframe thead th {\n",
       "        text-align: right;\n",
       "    }\n",
       "</style>\n",
       "<table border=\"1\" class=\"dataframe\">\n",
       "  <thead>\n",
       "    <tr style=\"text-align: right;\">\n",
       "      <th></th>\n",
       "      <th>id</th>\n",
       "      <th>dp_unique_key</th>\n",
       "      <th>target</th>\n",
       "      <th>text</th>\n",
       "      <th>updated_date</th>\n",
       "      <th>entity</th>\n",
       "    </tr>\n",
       "  </thead>\n",
       "  <tbody>\n",
       "    <tr>\n",
       "      <th>0</th>\n",
       "      <td>2579</td>\n",
       "      <td>uq_id_1010</td>\n",
       "      <td>Irrelevant</td>\n",
       "      <td>I had to repaint another gun for Tiny Tina's c...</td>\n",
       "      <td>21-03-2022</td>\n",
       "      <td>Borderlands</td>\n",
       "    </tr>\n",
       "    <tr>\n",
       "      <th>1</th>\n",
       "      <td>12947</td>\n",
       "      <td>uq_id_10146</td>\n",
       "      <td>Neutral</td>\n",
       "      <td>Nvidia’s RTX 3080 is more exciting than PlaySt...</td>\n",
       "      <td>21-03-2022</td>\n",
       "      <td>Xbox(Xseries)</td>\n",
       "    </tr>\n",
       "    <tr>\n",
       "      <th>2</th>\n",
       "      <td>12959</td>\n",
       "      <td>uq_id_10217</td>\n",
       "      <td>Negative</td>\n",
       "      <td>the</td>\n",
       "      <td>21-03-2022</td>\n",
       "      <td>Xbox(Xseries)</td>\n",
       "    </tr>\n",
       "    <tr>\n",
       "      <th>3</th>\n",
       "      <td>12964</td>\n",
       "      <td>uq_id_10246</td>\n",
       "      <td>Positive</td>\n",
       "      <td>This price is simply incredible.</td>\n",
       "      <td>21-03-2022</td>\n",
       "      <td>Xbox(Xseries)</td>\n",
       "    </tr>\n",
       "    <tr>\n",
       "      <th>4</th>\n",
       "      <td>13007</td>\n",
       "      <td>uq_id_10501</td>\n",
       "      <td>Positive</td>\n",
       "      <td>Can't wait!</td>\n",
       "      <td>21-03-2022</td>\n",
       "      <td>Xbox(Xseries)</td>\n",
       "    </tr>\n",
       "  </tbody>\n",
       "</table>\n",
       "</div>"
      ],
      "text/plain": [
       "      id dp_unique_key      target  \\\n",
       "0   2579    uq_id_1010  Irrelevant   \n",
       "1  12947   uq_id_10146     Neutral   \n",
       "2  12959   uq_id_10217    Negative   \n",
       "3  12964   uq_id_10246    Positive   \n",
       "4  13007   uq_id_10501    Positive   \n",
       "\n",
       "                                                text updated_date  \\\n",
       "0  I had to repaint another gun for Tiny Tina's c...   21-03-2022   \n",
       "1  Nvidia’s RTX 3080 is more exciting than PlaySt...   21-03-2022   \n",
       "2                                                the   21-03-2022   \n",
       "3                   This price is simply incredible.   21-03-2022   \n",
       "4                                        Can't wait!   21-03-2022   \n",
       "\n",
       "          entity  \n",
       "0    Borderlands  \n",
       "1  Xbox(Xseries)  \n",
       "2  Xbox(Xseries)  \n",
       "3  Xbox(Xseries)  \n",
       "4  Xbox(Xseries)  "
      ]
     },
     "execution_count": 13,
     "metadata": {},
     "output_type": "execute_result"
    }
   ],
   "source": [
    "%%time\n",
    "from pyathena import connect\n",
    "import pandas as pd\n",
    "\n",
    "conn = connect(s3_staging_dir=f\"s3://{BUCKET}/athena_log/\", \n",
    "               region_name=\"us-west-2\")\n",
    "df = pd.read_sql_query(\"\"\" SELECT * FROM \"ml-workshop-db\".\"enriched_data\" \"\"\", conn)\n",
    "df.head()"
   ]
  },
  {
   "cell_type": "code",
   "execution_count": 15,
   "id": "05e7132c",
   "metadata": {},
   "outputs": [],
   "source": [
    "#import pandas as pd\n",
    "#df.to_csv('resources/tweets_start.csv', index=False)"
   ]
  },
  {
   "cell_type": "markdown",
   "id": "0fb6f523",
   "metadata": {},
   "source": [
    "### 1.01 (OPTIONAL) If Athena above is not available...\n",
    "...you can load the dataframe manually from a csv file"
   ]
  },
  {
   "cell_type": "code",
   "execution_count": 16,
   "id": "8dde11dd",
   "metadata": {},
   "outputs": [
    {
     "data": {
      "text/html": [
       "<div>\n",
       "<style scoped>\n",
       "    .dataframe tbody tr th:only-of-type {\n",
       "        vertical-align: middle;\n",
       "    }\n",
       "\n",
       "    .dataframe tbody tr th {\n",
       "        vertical-align: top;\n",
       "    }\n",
       "\n",
       "    .dataframe thead th {\n",
       "        text-align: right;\n",
       "    }\n",
       "</style>\n",
       "<table border=\"1\" class=\"dataframe\">\n",
       "  <thead>\n",
       "    <tr style=\"text-align: right;\">\n",
       "      <th></th>\n",
       "      <th>id</th>\n",
       "      <th>dp_unique_key</th>\n",
       "      <th>target</th>\n",
       "      <th>text</th>\n",
       "      <th>updated_date</th>\n",
       "      <th>entity</th>\n",
       "    </tr>\n",
       "  </thead>\n",
       "  <tbody>\n",
       "    <tr>\n",
       "      <th>0</th>\n",
       "      <td>2579</td>\n",
       "      <td>uq_id_1010</td>\n",
       "      <td>Irrelevant</td>\n",
       "      <td>I had to repaint another gun for Tiny Tina's c...</td>\n",
       "      <td>21-03-2022</td>\n",
       "      <td>Borderlands</td>\n",
       "    </tr>\n",
       "    <tr>\n",
       "      <th>1</th>\n",
       "      <td>12947</td>\n",
       "      <td>uq_id_10146</td>\n",
       "      <td>Neutral</td>\n",
       "      <td>Nvidia’s RTX 3080 is more exciting than PlaySt...</td>\n",
       "      <td>21-03-2022</td>\n",
       "      <td>Xbox(Xseries)</td>\n",
       "    </tr>\n",
       "    <tr>\n",
       "      <th>2</th>\n",
       "      <td>12959</td>\n",
       "      <td>uq_id_10217</td>\n",
       "      <td>Negative</td>\n",
       "      <td>the</td>\n",
       "      <td>21-03-2022</td>\n",
       "      <td>Xbox(Xseries)</td>\n",
       "    </tr>\n",
       "    <tr>\n",
       "      <th>3</th>\n",
       "      <td>12964</td>\n",
       "      <td>uq_id_10246</td>\n",
       "      <td>Positive</td>\n",
       "      <td>This price is simply incredible.</td>\n",
       "      <td>21-03-2022</td>\n",
       "      <td>Xbox(Xseries)</td>\n",
       "    </tr>\n",
       "    <tr>\n",
       "      <th>4</th>\n",
       "      <td>13007</td>\n",
       "      <td>uq_id_10501</td>\n",
       "      <td>Positive</td>\n",
       "      <td>Can't wait!</td>\n",
       "      <td>21-03-2022</td>\n",
       "      <td>Xbox(Xseries)</td>\n",
       "    </tr>\n",
       "  </tbody>\n",
       "</table>\n",
       "</div>"
      ],
      "text/plain": [
       "      id dp_unique_key      target  \\\n",
       "0   2579    uq_id_1010  Irrelevant   \n",
       "1  12947   uq_id_10146     Neutral   \n",
       "2  12959   uq_id_10217    Negative   \n",
       "3  12964   uq_id_10246    Positive   \n",
       "4  13007   uq_id_10501    Positive   \n",
       "\n",
       "                                                text updated_date  \\\n",
       "0  I had to repaint another gun for Tiny Tina's c...   21-03-2022   \n",
       "1  Nvidia’s RTX 3080 is more exciting than PlaySt...   21-03-2022   \n",
       "2                                                the   21-03-2022   \n",
       "3                   This price is simply incredible.   21-03-2022   \n",
       "4                                        Can't wait!   21-03-2022   \n",
       "\n",
       "          entity  \n",
       "0    Borderlands  \n",
       "1  Xbox(Xseries)  \n",
       "2  Xbox(Xseries)  \n",
       "3  Xbox(Xseries)  \n",
       "4  Xbox(Xseries)  "
      ]
     },
     "execution_count": 16,
     "metadata": {},
     "output_type": "execute_result"
    }
   ],
   "source": [
    "import pandas as pd\n",
    "df = pd.read_csv('resources/tweets_start.csv')\n",
    "df.head()"
   ]
  },
  {
   "cell_type": "markdown",
   "id": "a4539a4b",
   "metadata": {},
   "source": [
    "### 1.1 Load DataSet and rename columns"
   ]
  },
  {
   "cell_type": "code",
   "execution_count": 17,
   "id": "84a6ed60",
   "metadata": {},
   "outputs": [],
   "source": [
    "import numpy as np\n",
    "\n",
    "# rename columns\n",
    "df.columns = ['tweet_id', 'dp_unique_key', 'sentiment', 'tweet_text', 'updated_date', 'entity']\n",
    "\n",
    "#Define the indexing for each possible label in a dictionary\n",
    "class_to_index = {\"Neutral\":0, \"Irrelevant\":1, \"Negative\":2, \"Positive\": 3}\n",
    "\n",
    "#Creates a reverse dictionary\n",
    "index_to_class = dict((v,k) for k, v in class_to_index.items())\n",
    "\n",
    "#Creates lambda functions, applying the appropriate dictionary\n",
    "names_to_ids = lambda n: np.array([class_to_index.get(x) for x in n])\n",
    "ids_to_names = lambda n: np.array([index_to_class.get(x) for x in n])\n",
    "\n",
    "#Convert the \"Sentiment\" column into indexes\n",
    "df[\"sentiment_index\"] = names_to_ids(df[\"sentiment\"])"
   ]
  },
  {
   "cell_type": "markdown",
   "id": "fd01e7e8",
   "metadata": {},
   "source": [
    "### 1.2 Look at dataset"
   ]
  },
  {
   "cell_type": "code",
   "execution_count": 18,
   "id": "54af4c70",
   "metadata": {},
   "outputs": [
    {
     "data": {
      "text/html": [
       "<div>\n",
       "<style scoped>\n",
       "    .dataframe tbody tr th:only-of-type {\n",
       "        vertical-align: middle;\n",
       "    }\n",
       "\n",
       "    .dataframe tbody tr th {\n",
       "        vertical-align: top;\n",
       "    }\n",
       "\n",
       "    .dataframe thead th {\n",
       "        text-align: right;\n",
       "    }\n",
       "</style>\n",
       "<table border=\"1\" class=\"dataframe\">\n",
       "  <thead>\n",
       "    <tr style=\"text-align: right;\">\n",
       "      <th></th>\n",
       "      <th>tweet_id</th>\n",
       "      <th>dp_unique_key</th>\n",
       "      <th>sentiment</th>\n",
       "      <th>tweet_text</th>\n",
       "      <th>updated_date</th>\n",
       "      <th>entity</th>\n",
       "      <th>sentiment_index</th>\n",
       "    </tr>\n",
       "  </thead>\n",
       "  <tbody>\n",
       "    <tr>\n",
       "      <th>74675</th>\n",
       "      <td>9436</td>\n",
       "      <td>uq_id_8371</td>\n",
       "      <td>Positive</td>\n",
       "      <td>I like this new</td>\n",
       "      <td>21-03-2022</td>\n",
       "      <td>Overwatch</td>\n",
       "      <td>3</td>\n",
       "    </tr>\n",
       "    <tr>\n",
       "      <th>74676</th>\n",
       "      <td>9475</td>\n",
       "      <td>uq_id_8601</td>\n",
       "      <td>Negative</td>\n",
       "      <td>killing ISIS and its @PlayOverwatch ‘s fault. ...</td>\n",
       "      <td>21-03-2022</td>\n",
       "      <td>Overwatch</td>\n",
       "      <td>2</td>\n",
       "    </tr>\n",
       "    <tr>\n",
       "      <th>74677</th>\n",
       "      <td>9544</td>\n",
       "      <td>uq_id_8994</td>\n",
       "      <td>Positive</td>\n",
       "      <td>I maybe went a little overboard with the fanta...</td>\n",
       "      <td>21-03-2022</td>\n",
       "      <td>Overwatch</td>\n",
       "      <td>3</td>\n",
       "    </tr>\n",
       "    <tr>\n",
       "      <th>74678</th>\n",
       "      <td>9596</td>\n",
       "      <td>uq_id_9285</td>\n",
       "      <td>Positive</td>\n",
       "      <td>Overwatch makes me die grrr</td>\n",
       "      <td>21-03-2022</td>\n",
       "      <td>Overwatch</td>\n",
       "      <td>3</td>\n",
       "    </tr>\n",
       "    <tr>\n",
       "      <th>74679</th>\n",
       "      <td>12905</td>\n",
       "      <td>uq_id_9900</td>\n",
       "      <td>Neutral</td>\n",
       "      <td>Xbox Series X graphics source code stolen and ...</td>\n",
       "      <td>21-03-2022</td>\n",
       "      <td>Xbox(Xseries)</td>\n",
       "      <td>0</td>\n",
       "    </tr>\n",
       "  </tbody>\n",
       "</table>\n",
       "</div>"
      ],
      "text/plain": [
       "       tweet_id dp_unique_key sentiment  \\\n",
       "74675      9436    uq_id_8371  Positive   \n",
       "74676      9475    uq_id_8601  Negative   \n",
       "74677      9544    uq_id_8994  Positive   \n",
       "74678      9596    uq_id_9285  Positive   \n",
       "74679     12905    uq_id_9900   Neutral   \n",
       "\n",
       "                                              tweet_text updated_date  \\\n",
       "74675                                    I like this new   21-03-2022   \n",
       "74676  killing ISIS and its @PlayOverwatch ‘s fault. ...   21-03-2022   \n",
       "74677  I maybe went a little overboard with the fanta...   21-03-2022   \n",
       "74678                        Overwatch makes me die grrr   21-03-2022   \n",
       "74679  Xbox Series X graphics source code stolen and ...   21-03-2022   \n",
       "\n",
       "              entity  sentiment_index  \n",
       "74675      Overwatch                3  \n",
       "74676      Overwatch                2  \n",
       "74677      Overwatch                3  \n",
       "74678      Overwatch                3  \n",
       "74679  Xbox(Xseries)                0  "
      ]
     },
     "execution_count": 18,
     "metadata": {},
     "output_type": "execute_result"
    }
   ],
   "source": [
    "df.tail(5)"
   ]
  },
  {
   "cell_type": "code",
   "execution_count": 19,
   "id": "8eb9808f",
   "metadata": {},
   "outputs": [
    {
     "data": {
      "text/plain": [
       "tweet_id           74680\n",
       "dp_unique_key      74680\n",
       "sentiment          74680\n",
       "tweet_text         74680\n",
       "updated_date       74680\n",
       "entity             74680\n",
       "sentiment_index    74680\n",
       "dtype: int64"
      ]
     },
     "execution_count": 19,
     "metadata": {},
     "output_type": "execute_result"
    }
   ],
   "source": [
    "df.count()"
   ]
  },
  {
   "cell_type": "markdown",
   "id": "36798fda",
   "metadata": {},
   "source": [
    "### 1.3 Filter out rows where tweet_text is NULL"
   ]
  },
  {
   "cell_type": "code",
   "execution_count": 20,
   "id": "2c4be8c9",
   "metadata": {},
   "outputs": [],
   "source": [
    "# fiter data where tweet is present\n",
    "df = df[df.tweet_text.isnull()==False]\n",
    "df['tweet_text'] = df['tweet_text'].astype(str)"
   ]
  },
  {
   "cell_type": "markdown",
   "id": "8135ebd2",
   "metadata": {},
   "source": [
    "### 1.4 Stratified Sampling - For this session purposes lets restrict to 5000 records for each class"
   ]
  },
  {
   "cell_type": "code",
   "execution_count": 21,
   "id": "92f60428",
   "metadata": {},
   "outputs": [],
   "source": [
    "number_of_rows_each_class = 2000\n",
    "dfs_list = []\n",
    "for unique_sentiment in np.unique(df.sentiment):\n",
    "    df_sentiment = df[df.sentiment == unique_sentiment].sample(n=number_of_rows_each_class, random_state = 42)\n",
    "    dfs_list.append(df_sentiment)\n",
    "df = pd.concat(dfs_list)\n",
    "df = df.sample(frac=1, random_state = 42)\n",
    "df = df.reset_index(drop = True)"
   ]
  },
  {
   "cell_type": "code",
   "execution_count": 22,
   "id": "b459166e",
   "metadata": {},
   "outputs": [
    {
     "data": {
      "text/plain": [
       "Positive      2000\n",
       "Irrelevant    2000\n",
       "Negative      2000\n",
       "Neutral       2000\n",
       "Name: sentiment, dtype: int64"
      ]
     },
     "execution_count": 22,
     "metadata": {},
     "output_type": "execute_result"
    }
   ],
   "source": [
    "df.sentiment.value_counts()"
   ]
  },
  {
   "cell_type": "markdown",
   "id": "87603064",
   "metadata": {},
   "source": [
    "### 2.0 Prepare dataset for modelling "
   ]
  },
  {
   "cell_type": "markdown",
   "id": "0150dd00",
   "metadata": {},
   "source": [
    "```python\n",
    "stopwords = nltk.corpus.stopwords.words('english')\n",
    "lemmatizer = WordNetLemmatizer()\n",
    "\n",
    "def preprocess_tweet(tweet_text):\n",
    "    tweet_text = re.sub('[^a-zA-Z]', ' ', tweet_text)\n",
    "    tweet_text = tweet_text.lower()\n",
    "    tweet_text = tweet_text.split()\n",
    "    tweet_text = [lemmatizer.lemmatize(word) for word in tweet_text if (not(word in set(stopwords))) & (len(word)>1) ]\n",
    "    tweet_text = ' '.join(tweet_text)\n",
    "    return tweet_text\n",
    "\n",
    "df['tweet_text_preprocessed'] = df['tweet_text'].progress_apply(preprocess_tweet)\n",
    "df = df[df.tweet_text_preprocessed.apply(lambda text: len(text.split())>1)]\n",
    "#df['tweet_tokenized'] = df['tweet_tokenized'].progress_apply(lemmatize)\n",
    "```"
   ]
  },
  {
   "cell_type": "markdown",
   "id": "458c504c",
   "metadata": {},
   "source": [
    "### 2.1 Save dataframe to csv"
   ]
  },
  {
   "cell_type": "code",
   "execution_count": 23,
   "id": "8a63777f",
   "metadata": {},
   "outputs": [],
   "source": [
    "df.to_csv('tweets.csv', index=False)"
   ]
  },
  {
   "cell_type": "markdown",
   "id": "6133ac6e",
   "metadata": {},
   "source": [
    "### 2.2 Write code above into script"
   ]
  },
  {
   "cell_type": "code",
   "execution_count": 36,
   "id": "7da79c17",
   "metadata": {},
   "outputs": [
    {
     "name": "stdout",
     "output_type": "stream",
     "text": [
      "Overwriting process_tweets.py\n"
     ]
    }
   ],
   "source": [
    "%%writefile process_tweets.py\n",
    "import os\n",
    "import pandas as pd\n",
    "import re\n",
    "import subprocess\n",
    "import sys\n",
    "\n",
    "def install(package):\n",
    "    subprocess.check_call([sys.executable, \"-m\", \"pip\", \"install\", package])\n",
    "    \n",
    "install('nltk')\n",
    "import nltk\n",
    "from nltk.stem import WordNetLemmatizer\n",
    "lemmatizer = WordNetLemmatizer()\n",
    "\n",
    "nltk.download('wordnet')\n",
    "nltk.download('stopwords')\n",
    "nltk.download('omw-1.4')\n",
    "stopwords = nltk.corpus.stopwords.words('english')\n",
    "\n",
    "\n",
    "def preprocess_tweet(tweet_text):\n",
    "    tweet_text = re.sub('[^a-zA-Z]', ' ', tweet_text)\n",
    "    tweet_text = tweet_text.lower()\n",
    "    tweet_text = tweet_text.split()\n",
    "    tweet_text = [lemmatizer.lemmatize(word) for word in tweet_text if not word in set(stopwords)]\n",
    "    tweet_text = ' '.join(tweet_text)\n",
    "    return tweet_text\n",
    "\n",
    "\n",
    "def main(input_file, output_file):\n",
    "    df = pd.read_csv(input_file)\n",
    "    df['tweet_text_preprocessed'] = df.apply(lambda x: preprocess_tweet(x['tweet_text']), axis=1)\n",
    "    df = df[df.tweet_text_preprocessed.apply(lambda text: len(text.split())>1)]\n",
    "    df.to_csv(output_file, index=False)\n",
    "\n",
    "    \n",
    "if __name__ == \"__main__\":\n",
    "\n",
    "    #input_file = os.path.join('/opt/ml/processing/input', 'tweets.csv')\n",
    "    #output_file = os.path.join('/opt/ml/processing/output', 'tweets_processed.csv')\n",
    "    input_file = os.path.join('.', 'tweets.csv')\n",
    "    output_file = os.path.join('.', 'tweets_processed.csv')\n",
    "    \n",
    "    main(input_file, output_file)"
   ]
  },
  {
   "cell_type": "markdown",
   "id": "ab07bfa8",
   "metadata": {},
   "source": [
    "### 2.3 Test script"
   ]
  },
  {
   "cell_type": "code",
   "execution_count": 25,
   "id": "edaf8de8",
   "metadata": {},
   "outputs": [
    {
     "name": "stdout",
     "output_type": "stream",
     "text": [
      "Requirement already satisfied: nltk in /home/ec2-user/anaconda3/envs/python3/lib/python3.6/site-packages (3.4.4)\n",
      "Requirement already satisfied: six in /home/ec2-user/anaconda3/envs/python3/lib/python3.6/site-packages (from nltk) (1.15.0)\n",
      "[nltk_data] Downloading package wordnet to /home/ec2-user/nltk_data...\n",
      "[nltk_data]   Package wordnet is already up-to-date!\n",
      "[nltk_data] Downloading package stopwords to\n",
      "[nltk_data]     /home/ec2-user/nltk_data...\n",
      "[nltk_data]   Package stopwords is already up-to-date!\n",
      "[nltk_data] Downloading package omw-1.4 to /home/ec2-user/nltk_data...\n",
      "[nltk_data]   Package omw-1.4 is already up-to-date!\n"
     ]
    }
   ],
   "source": [
    "!python process_tweets.py"
   ]
  },
  {
   "cell_type": "code",
   "execution_count": 31,
   "id": "b2c88ed4",
   "metadata": {},
   "outputs": [
    {
     "data": {
      "text/html": [
       "<div>\n",
       "<style scoped>\n",
       "    .dataframe tbody tr th:only-of-type {\n",
       "        vertical-align: middle;\n",
       "    }\n",
       "\n",
       "    .dataframe tbody tr th {\n",
       "        vertical-align: top;\n",
       "    }\n",
       "\n",
       "    .dataframe thead th {\n",
       "        text-align: right;\n",
       "    }\n",
       "</style>\n",
       "<table border=\"1\" class=\"dataframe\">\n",
       "  <thead>\n",
       "    <tr style=\"text-align: right;\">\n",
       "      <th></th>\n",
       "      <th>tweet_text</th>\n",
       "      <th>tweet_text_preprocessed</th>\n",
       "      <th>sentiment</th>\n",
       "    </tr>\n",
       "  </thead>\n",
       "  <tbody>\n",
       "    <tr>\n",
       "      <th>0</th>\n",
       "      <td>I support @ whichuk's campaign to end price go...</td>\n",
       "      <td>support whichuk campaign end price gouging als...</td>\n",
       "      <td>Negative</td>\n",
       "    </tr>\n",
       "    <tr>\n",
       "      <th>1</th>\n",
       "      <td>In multiplayer mode, I can't see any player be...</td>\n",
       "      <td>multiplayer mode see player similar color cost...</td>\n",
       "      <td>Negative</td>\n",
       "    </tr>\n",
       "    <tr>\n",
       "      <th>2</th>\n",
       "      <td>My family bad..</td>\n",
       "      <td>family bad</td>\n",
       "      <td>Irrelevant</td>\n",
       "    </tr>\n",
       "    <tr>\n",
       "      <th>3</th>\n",
       "      <td>. It'r s Snow Much My Fun! Enter me to finally...</td>\n",
       "      <td>r snow much fun enter finally win amazon store...</td>\n",
       "      <td>Neutral</td>\n",
       "    </tr>\n",
       "    <tr>\n",
       "      <th>4</th>\n",
       "      <td>I thought going after workers for safety whist...</td>\n",
       "      <td>thought going worker safety whistleblowing pro...</td>\n",
       "      <td>Negative</td>\n",
       "    </tr>\n",
       "    <tr>\n",
       "      <th>5</th>\n",
       "      <td>I did this trick couple months ago hahahaha. I...</td>\n",
       "      <td>trick couple month ago hahahaha dumb</td>\n",
       "      <td>Irrelevant</td>\n",
       "    </tr>\n",
       "    <tr>\n",
       "      <th>6</th>\n",
       "      <td>One of the best tactical valorant players in M...</td>\n",
       "      <td>one best tactical valorant player middle east ...</td>\n",
       "      <td>Irrelevant</td>\n",
       "    </tr>\n",
       "    <tr>\n",
       "      <th>7</th>\n",
       "      <td>Microsoft: ‘carbon-negative’ by 2030 even for ...</td>\n",
       "      <td>microsoft carbon negative even supply chain an...</td>\n",
       "      <td>Neutral</td>\n",
       "    </tr>\n",
       "    <tr>\n",
       "      <th>8</th>\n",
       "      <td>In multiplayer play, I can't see any player be...</td>\n",
       "      <td>multiplayer play see player similar color cost...</td>\n",
       "      <td>Negative</td>\n",
       "    </tr>\n",
       "    <tr>\n",
       "      <th>9</th>\n",
       "      <td>There are only 2 days left until the start of ...</td>\n",
       "      <td>day left start psl elisa viihde pubg autumn ch...</td>\n",
       "      <td>Irrelevant</td>\n",
       "    </tr>\n",
       "    <tr>\n",
       "      <th>10</th>\n",
       "      <td>@UbisoftSupport @GhostRecon I just can't chang...</td>\n",
       "      <td>ubisoftsupport ghostrecon change select class ...</td>\n",
       "      <td>Negative</td>\n",
       "    </tr>\n",
       "    <tr>\n",
       "      <th>11</th>\n",
       "      <td>If the @ Rainbow6Game servers failed for every...</td>\n",
       "      <td>rainbow game server failed everyone else recei...</td>\n",
       "      <td>Negative</td>\n",
       "    </tr>\n",
       "    <tr>\n",
       "      <th>12</th>\n",
       "      <td>.. store. be playstation. com /</td>\n",
       "      <td>store playstation com</td>\n",
       "      <td>Neutral</td>\n",
       "    </tr>\n",
       "    <tr>\n",
       "      <th>13</th>\n",
       "      <td>New Titan Fall to Xbox Live on Ebay UK Titanfa...</td>\n",
       "      <td>new titan fall xbox live ebay uk titanfall mic...</td>\n",
       "      <td>Neutral</td>\n",
       "    </tr>\n",
       "    <tr>\n",
       "      <th>14</th>\n",
       "      <td>Are  . buff.ly/3jdEiGn https://t.co/CdCiSpUNOy</td>\n",
       "      <td>buff ly jdeign http co cdcispunoy</td>\n",
       "      <td>Neutral</td>\n",
       "    </tr>\n",
       "  </tbody>\n",
       "</table>\n",
       "</div>"
      ],
      "text/plain": [
       "                                           tweet_text  \\\n",
       "0   I support @ whichuk's campaign to end price go...   \n",
       "1   In multiplayer mode, I can't see any player be...   \n",
       "2                                     My family bad..   \n",
       "3   . It'r s Snow Much My Fun! Enter me to finally...   \n",
       "4   I thought going after workers for safety whist...   \n",
       "5   I did this trick couple months ago hahahaha. I...   \n",
       "6   One of the best tactical valorant players in M...   \n",
       "7   Microsoft: ‘carbon-negative’ by 2030 even for ...   \n",
       "8   In multiplayer play, I can't see any player be...   \n",
       "9   There are only 2 days left until the start of ...   \n",
       "10  @UbisoftSupport @GhostRecon I just can't chang...   \n",
       "11  If the @ Rainbow6Game servers failed for every...   \n",
       "12                    .. store. be playstation. com /   \n",
       "13  New Titan Fall to Xbox Live on Ebay UK Titanfa...   \n",
       "14     Are  . buff.ly/3jdEiGn https://t.co/CdCiSpUNOy   \n",
       "\n",
       "                              tweet_text_preprocessed   sentiment  \n",
       "0   support whichuk campaign end price gouging als...    Negative  \n",
       "1   multiplayer mode see player similar color cost...    Negative  \n",
       "2                                          family bad  Irrelevant  \n",
       "3   r snow much fun enter finally win amazon store...     Neutral  \n",
       "4   thought going worker safety whistleblowing pro...    Negative  \n",
       "5                trick couple month ago hahahaha dumb  Irrelevant  \n",
       "6   one best tactical valorant player middle east ...  Irrelevant  \n",
       "7   microsoft carbon negative even supply chain an...     Neutral  \n",
       "8   multiplayer play see player similar color cost...    Negative  \n",
       "9   day left start psl elisa viihde pubg autumn ch...  Irrelevant  \n",
       "10  ubisoftsupport ghostrecon change select class ...    Negative  \n",
       "11  rainbow game server failed everyone else recei...    Negative  \n",
       "12                              store playstation com     Neutral  \n",
       "13  new titan fall xbox live ebay uk titanfall mic...     Neutral  \n",
       "14                  buff ly jdeign http co cdcispunoy     Neutral  "
      ]
     },
     "execution_count": 31,
     "metadata": {},
     "output_type": "execute_result"
    }
   ],
   "source": [
    "import pandas as pd\n",
    "\n",
    "pd.read_csv('tweets_processed.csv')[['tweet_text','tweet_text_preprocessed', 'sentiment']].head(15)"
   ]
  },
  {
   "cell_type": "markdown",
   "id": "a7bfb005",
   "metadata": {},
   "source": [
    "### 2.4 Initialize Sagemaker ScriptProcessor (SKLearnProcessor)"
   ]
  },
  {
   "cell_type": "markdown",
   "id": "03a8be62",
   "metadata": {},
   "source": [
    "![](images/Processing-1.png)\n",
    "\n",
    "[Source](https://docs.aws.amazon.com/sagemaker/latest/dg/processing-job.html)"
   ]
  },
  {
   "cell_type": "markdown",
   "id": "99cd6674",
   "metadata": {},
   "source": [
    "References:\n",
    "- https://aws.amazon.com/blogs/aws/amazon-sagemaker-processing-fully-managed-data-processing-and-model-evaluation/\n",
    "- https://docs.aws.amazon.com/sagemaker/latest/dg/use-scikit-learn-processing-container.html"
   ]
  },
  {
   "cell_type": "code",
   "execution_count": 33,
   "id": "63ed45f5",
   "metadata": {},
   "outputs": [],
   "source": [
    "import boto3\n",
    "import sagemaker\n",
    "from sagemaker import get_execution_role\n",
    "from sagemaker.sklearn.processing import SKLearnProcessor\n",
    "\n",
    "region = boto3.session.Session().region_name\n",
    "\n",
    "role = get_execution_role()\n",
    "sklearn_processor = SKLearnProcessor(framework_version='0.20.0',\n",
    "                                     role=role,\n",
    "                                     instance_type='ml.m5.xlarge',\n",
    "                                     instance_count=1)"
   ]
  },
  {
   "cell_type": "markdown",
   "id": "118e62b9",
   "metadata": {},
   "source": [
    "### 2.6 Copy tweets.csv to S3"
   ]
  },
  {
   "cell_type": "code",
   "execution_count": 28,
   "id": "6b5f9b14",
   "metadata": {},
   "outputs": [
    {
     "name": "stdout",
     "output_type": "stream",
     "text": [
      "upload: ./tweets.csv to s3://dsml-chrisi-bucket/workshop/tweets.csv\n"
     ]
    }
   ],
   "source": [
    "!aws s3 cp tweets.csv s3://{BUCKET}/workshop/tweets.csv"
   ]
  },
  {
   "cell_type": "markdown",
   "id": "e85d6c65",
   "metadata": {},
   "source": [
    "### 2.7 Run ScriptProcessor\n",
    "IMPORTANT: Uncomment/comment lines in `process_tweets.py`"
   ]
  },
  {
   "cell_type": "code",
   "execution_count": 43,
   "id": "93a63c75",
   "metadata": {
    "scrolled": true
   },
   "outputs": [
    {
     "name": "stdout",
     "output_type": "stream",
     "text": [
      "\n",
      "Job Name:  sagemaker-scikit-learn-2022-04-03-02-32-46-236\n",
      "Inputs:  [{'InputName': 'input-1', 'AppManaged': False, 'S3Input': {'S3Uri': 's3://dsml-chrisi-bucket/workshop/tweets.csv', 'LocalPath': '/opt/ml/processing/input', 'S3DataType': 'S3Prefix', 'S3InputMode': 'File', 'S3DataDistributionType': 'FullyReplicated', 'S3CompressionType': 'None'}}, {'InputName': 'code', 'AppManaged': False, 'S3Input': {'S3Uri': 's3://sagemaker-us-west-2-995383923238/sagemaker-scikit-learn-2022-04-03-02-32-46-236/input/code/process_tweets.py', 'LocalPath': '/opt/ml/processing/input/code', 'S3DataType': 'S3Prefix', 'S3InputMode': 'File', 'S3DataDistributionType': 'FullyReplicated', 'S3CompressionType': 'None'}}]\n",
      "Outputs:  [{'OutputName': 'tweet_output', 'AppManaged': False, 'S3Output': {'S3Uri': 's3://dsml-chrisi-bucket/workshop', 'LocalPath': '/opt/ml/processing/output', 'S3UploadMode': 'EndOfJob'}}]\n",
      "..........................\u001b[34mCollecting nltk\n",
      "  Downloading nltk-3.7-py3-none-any.whl (1.5 MB)\u001b[0m\n",
      "\u001b[34mCollecting joblib\n",
      "  Downloading joblib-1.1.0-py2.py3-none-any.whl (306 kB)\u001b[0m\n",
      "\u001b[34mRequirement already satisfied: click in /miniconda3/lib/python3.7/site-packages (from nltk) (8.0.3)\u001b[0m\n",
      "\u001b[34mRequirement already satisfied: tqdm in /miniconda3/lib/python3.7/site-packages (from nltk) (4.62.3)\u001b[0m\n",
      "\u001b[34mCollecting regex>=2021.8.3\n",
      "  Downloading regex-2022.3.15-cp37-cp37m-manylinux_2_17_x86_64.manylinux2014_x86_64.whl (749 kB)\u001b[0m\n",
      "\u001b[34mRequirement already satisfied: importlib-metadata in /miniconda3/lib/python3.7/site-packages (from click->nltk) (4.8.1)\u001b[0m\n",
      "\u001b[34mRequirement already satisfied: zipp>=0.5 in /miniconda3/lib/python3.7/site-packages (from importlib-metadata->click->nltk) (3.6.0)\u001b[0m\n",
      "\u001b[34mRequirement already satisfied: typing-extensions>=3.6.4 in /miniconda3/lib/python3.7/site-packages (from importlib-metadata->click->nltk) (3.10.0.2)\u001b[0m\n",
      "\u001b[34mInstalling collected packages: regex, joblib, nltk\u001b[0m\n",
      "\u001b[34mSuccessfully installed joblib-1.1.0 nltk-3.7 regex-2022.3.15\u001b[0m\n",
      "\u001b[34m/miniconda3/lib/python3.7/site-packages/sklearn/externals/joblib/externals/cloudpickle/cloudpickle.py:47: DeprecationWarning: the imp module is deprecated in favour of importlib; see the module's documentation for alternative uses\n",
      "  import imp\u001b[0m\n",
      "\u001b[34m[nltk_data] Downloading package wordnet to /root/nltk_data...\u001b[0m\n",
      "\u001b[34m[nltk_data]   Unzipping corpora/wordnet.zip.\u001b[0m\n",
      "\u001b[34m[nltk_data] Downloading package stopwords to /root/nltk_data...\u001b[0m\n",
      "\u001b[34m[nltk_data]   Unzipping corpora/stopwords.zip.\u001b[0m\n",
      "\u001b[34m[nltk_data] Downloading package omw-1.4 to /root/nltk_data...\u001b[0m\n",
      "\u001b[34m[nltk_data]   Unzipping corpora/omw-1.4.zip.\u001b[0m\n",
      "\n",
      "CPU times: user 528 ms, sys: 31.4 ms, total: 559 ms\n",
      "Wall time: 4min 43s\n"
     ]
    }
   ],
   "source": [
    "%%time\n",
    "from sagemaker.processing import ProcessingInput, ProcessingOutput\n",
    "\n",
    "sklearn_processor.run(code='process_tweets.py',\n",
    "    inputs=[\n",
    "        ProcessingInput(\n",
    "            source=f's3://{BUCKET}/workshop/tweets.csv',\n",
    "            destination='/opt/ml/processing/input'\n",
    "        )\n",
    "    ],\n",
    "    outputs=[\n",
    "        ProcessingOutput(\n",
    "            output_name='tweet_output',\n",
    "            source='/opt/ml/processing/output',\n",
    "            destination=f's3://{BUCKET}/workshop'\n",
    "        )\n",
    "    ]\n",
    ")"
   ]
  },
  {
   "cell_type": "markdown",
   "id": "a51ce1ea",
   "metadata": {},
   "source": [
    "### 2.8 Open a new browser tab and check your running job"
   ]
  },
  {
   "cell_type": "markdown",
   "id": "cbdc60fd",
   "metadata": {},
   "source": [
    "https://us-west-2.console.aws.amazon.com/sagemaker/home?region=us-west-2#/processing-jobs"
   ]
  },
  {
   "cell_type": "markdown",
   "id": "3ea1d19e",
   "metadata": {},
   "source": [
    "<div>\n",
    "<img src=\"images/processing-job.png\" width=\"500\"/>\n",
    "</div>"
   ]
  },
  {
   "cell_type": "markdown",
   "id": "630cb0e3",
   "metadata": {},
   "source": [
    "### 2.9 View output in S3 bucket\n",
    "You should see a new file named `tweets_processed.csv`"
   ]
  },
  {
   "cell_type": "code",
   "execution_count": 44,
   "id": "1dbc43a3",
   "metadata": {},
   "outputs": [
    {
     "name": "stdout",
     "output_type": "stream",
     "text": [
      "2022-04-03 01:53:53          4 dummy.txt\n",
      "2022-04-03 02:16:43    1315064 tweets.csv\n",
      "2022-04-03 02:37:03    1856856 tweets_processed.csv\n"
     ]
    }
   ],
   "source": [
    "!aws s3 ls s3://{BUCKET}/workshop/"
   ]
  },
  {
   "cell_type": "markdown",
   "id": "c4e0a7f9",
   "metadata": {},
   "source": [
    "### RECAP #1\n",
    "1. Saved dataframe to a csv file in S3 (2.1)\n",
    "2. Transferred notebook code into Python script file (2.2)\n",
    "3. Used Sagemaker ScriptProcessor to run our script in a container and process the files to/from S3 (2.7)"
   ]
  },
  {
   "cell_type": "markdown",
   "id": "c935c089",
   "metadata": {},
   "source": [
    "### 3.0 Split into train and test"
   ]
  },
  {
   "cell_type": "markdown",
   "id": "fbd17120",
   "metadata": {},
   "source": [
    "```python\n",
    "train_df, test_df = train_test_split(df,test_size = 0.05, random_state =42)\n",
    "\n",
    "train_df.reset_index(drop = True, inplace = True)\n",
    "test_df.reset_index(drop = True, inplace = True)\n",
    "\n",
    "X_train = train_df['tweet_text_preprocessed']\n",
    "y_train = train_df['sentiment']\n",
    "\n",
    "X_test = test_df['tweet_text_preprocessed']\n",
    "y_test = test_df['sentiment']\n",
    "```"
   ]
  },
  {
   "cell_type": "markdown",
   "id": "9a1f0e52",
   "metadata": {},
   "source": [
    "### 3.1 Keras tokenization word embedding model"
   ]
  },
  {
   "cell_type": "markdown",
   "id": "fafc8c61",
   "metadata": {},
   "source": [
    "```python\n",
    "from tensorflow.keras.preprocessing.text import Tokenizer\n",
    "\n",
    "max_words = 5000\n",
    "max_len=50\n",
    "\n",
    "keras_tokenizer = Tokenizer(num_words=max_words, lower=True, split=' ')\n",
    "\n",
    "\n",
    "def tokenize_pad_sequences(tweet_text):\n",
    "    '''\n",
    "    This function tokenize the input text into sequnences of intergers and then\n",
    "    pad each sequence to the same length\n",
    "    '''\n",
    "    tweet_text = tokenizer.texts_to_sequences(tweet_text)\n",
    "    # Pad sequences to the same length\n",
    "    tweet_text = pad_sequences(tweet_text, padding='post', maxlen=max_len)\n",
    "    # return sequences\n",
    "    return tweet_text\n",
    "\n",
    "keras_tokenizer.fit_on_texts(train_df['tweet_text_preprocessed'])\n",
    "train_texts_to_sequences = keras_tokenizer.texts_to_sequences(train_df['tweet_text_preprocessed'])\n",
    "train_texts_to_sequences = pad_sequences(train_texts_to_sequences, padding='post', maxlen=max_len)\n",
    "\n",
    "train_df['tweet_keras_tokenized'] = list(train_texts_to_sequences)\n",
    "\n",
    "\n",
    "test_texts_to_sequences = keras_tokenizer.texts_to_sequences(test_df['tweet_text_preprocessed'])\n",
    "test_texts_to_sequences = pad_sequences(test_texts_to_sequences, padding='post', maxlen=max_len)\n",
    "\n",
    "test_df['tweet_keras_tokenized'] = list(test_texts_to_sequences)\n",
    "\n",
    "\n",
    "# saving\n",
    "# with open('keras_tokenizer.pickle', 'wb') as handle:\n",
    "#     pickle.dump(keras_tokenizer, handle, protocol=pickle.HIGHEST_PROTOCOL)\n",
    "\n",
    "tokenizer_json =  keras_tokenizer.to_json()\n",
    "with io.open(f'{current_path}/keras_model_files/keras_tokenizer.json', 'w', encoding='utf-8') as f:\n",
    "    f.write(json.dumps(tokenizer_json, ensure_ascii=False))\n",
    "```"
   ]
  },
  {
   "cell_type": "markdown",
   "id": "e248f1f5",
   "metadata": {},
   "source": [
    "### 3.2 Write above code into training script"
   ]
  },
  {
   "cell_type": "code",
   "execution_count": 45,
   "id": "85a4478e",
   "metadata": {},
   "outputs": [
    {
     "name": "stdout",
     "output_type": "stream",
     "text": [
      "Writing keras_train_model.py\n"
     ]
    }
   ],
   "source": [
    "%%writefile keras_train_model.py\n",
    "import os\n",
    "import pandas as pd\n",
    "from sklearn.model_selection import train_test_split\n",
    "\n",
    "import tensorflow as tf\n",
    "from tensorflow.keras.models import save_model\n",
    "#from keras.models import save_model\n",
    "from tensorflow.keras.models import Sequential\n",
    "from tensorflow.keras.preprocessing.text import Tokenizer\n",
    "from tensorflow.keras.layers import Dense, Dropout\n",
    "from tensorflow.keras.layers import Flatten\n",
    "from tensorflow.keras.layers import Embedding\n",
    "from tensorflow.keras.layers import Bidirectional, LSTM\n",
    "from tensorflow.keras.preprocessing import sequence\n",
    "from tensorflow.keras.preprocessing.sequence import pad_sequences\n",
    "from tensorflow.keras.callbacks import EarlyStopping\n",
    "from tensorflow.keras.models import load_model\n",
    "from tensorflow.keras.preprocessing.text import tokenizer_from_json\n",
    "\n",
    "max_words = 5000\n",
    "max_len=50\n",
    "keras_tokenizer = Tokenizer(num_words=max_words, lower=True, split=' ')\n",
    "\n",
    "\n",
    "def train(input_file, output_folder):\n",
    "    df = pd.read_csv(input_file)\n",
    "    \n",
    "    train_df, test_df = train_test_split(df,test_size = 0.05, random_state =42)\n",
    "\n",
    "    train_df.reset_index(drop = True, inplace = True)\n",
    "    test_df.reset_index(drop = True, inplace = True)\n",
    "\n",
    "    X_train = train_df['tweet_text_preprocessed']\n",
    "    y_train = train_df['sentiment']\n",
    "\n",
    "    X_test = test_df['tweet_text_preprocessed']\n",
    "    y_test = test_df['sentiment']\n",
    "\n",
    "    keras_tokenizer.fit_on_texts(train_df['tweet_text_preprocessed'])\n",
    "    train_texts_to_sequences = keras_tokenizer.texts_to_sequences(train_df['tweet_text_preprocessed'])\n",
    "    train_texts_to_sequences = pad_sequences(train_texts_to_sequences, padding='post', maxlen=max_len)\n",
    "    train_df['tweet_keras_tokenized'] = list(train_texts_to_sequences)\n",
    "\n",
    "    test_texts_to_sequences = keras_tokenizer.texts_to_sequences(test_df['tweet_text_preprocessed'])\n",
    "    test_texts_to_sequences = pad_sequences(test_texts_to_sequences, padding='post', maxlen=max_len)\n",
    "    test_df['tweet_keras_tokenized'] = list(test_texts_to_sequences)\n",
    "    \n",
    "    keras_model = Sequential()\n",
    "    embedding_vector_size = 16\n",
    "    lstm_units = 20\n",
    "    keras_model.add(Embedding(max_words,embedding_vector_size,input_length=max_len))\n",
    "    #keras_model.add(Bidirectional(LSTM(20, return_sequences=True)))\n",
    "    keras_model.add(Bidirectional(LSTM(lstm_units)))\n",
    "    keras_model.add(Dense(4, activation='softmax'))\n",
    "    keras_model.compile(\n",
    "         loss='sparse_categorical_crossentropy',\n",
    "         optimizer='adam',\n",
    "         metrics=['accuracy'])\n",
    "    \n",
    "    X_train_keras = train_texts_to_sequences\n",
    "    y_train_keras = train_df['sentiment_index']\n",
    "\n",
    "    X_test_keras = test_texts_to_sequences\n",
    "    y_test_keras = test_df['sentiment_index']\n",
    "\n",
    "    keras_model.fit(\n",
    "         X_train_keras, y_train_keras,\n",
    "         validation_data=(X_test_keras, y_test_keras),\n",
    "         epochs=1)\n",
    "    \n",
    "    save_model(keras_model, output_folder.rstrip('/') + '/', save_format='tf')\n",
    "\n",
    "    print('DONE')\n",
    "    #tokenizer_json =  keras_tokenizer.to_json()\n",
    "    #with io.open(f'{current_path}/keras_model_files/keras_tokenizer.json', 'w', encoding='utf-8') as f:\n",
    "    #    f.write(json.dumps(tokenizer_json, ensure_ascii=False))\n",
    "    \n",
    "\n",
    "\n",
    "if __name__ == \"__main__\":\n",
    "\n",
    "    input_file = os.environ.get('SM_CHANNEL_TRAIN') + '/tweets_processed.csv'\n",
    "    output_folder = os.environ.get('SM_MODEL_DIR') #os.path.join('/opt/ml/processing/output', 'tweets_processed.csv')\n",
    "\n",
    "    #input_file = os.path.join('.', 'tweets_processed.csv')\n",
    "    #output_folder = '.'\n",
    "    \n",
    "    print('Input', input_file)\n",
    "    print('Output', output_folder)\n",
    "       \n",
    "    train(input_file, output_folder)"
   ]
  },
  {
   "cell_type": "markdown",
   "id": "e3cd9156",
   "metadata": {},
   "source": [
    "### 3.3 Initialize Sagemaker Estimator\n",
    "\n",
    "https://docs.aws.amazon.com/sagemaker/latest/dg/frameworks.html\n",
    "\n",
    "Let's compare with (2.4)"
   ]
  },
  {
   "cell_type": "code",
   "execution_count": 47,
   "id": "034793d0",
   "metadata": {},
   "outputs": [],
   "source": [
    "import os\n",
    "import sagemaker\n",
    "from sagemaker import get_execution_role\n",
    "from sagemaker.tensorflow import TensorFlow\n",
    "\n",
    "sagemaker_session = sagemaker.Session()\n",
    "\n",
    "role = get_execution_role()\n",
    "region = sagemaker_session.boto_session.region_name"
   ]
  },
  {
   "cell_type": "markdown",
   "id": "5227b178",
   "metadata": {},
   "source": [
    "DL Container images - https://github.com/aws/deep-learning-containers/blob/master/available_images.md"
   ]
  },
  {
   "cell_type": "markdown",
   "id": "8cc0797c",
   "metadata": {},
   "source": [
    "<div>\n",
    "<img src=\"images/dl-containers.png\" width=\"600\"/>\n",
    "</div>"
   ]
  },
  {
   "cell_type": "code",
   "execution_count": 48,
   "id": "ec14e5d2",
   "metadata": {},
   "outputs": [],
   "source": [
    "estimator = TensorFlow(\n",
    "                 entry_point='keras_train_model.py',\n",
    "                 instance_type='ml.p3.2xlarge', #'ml.p3.8xlarge', 'local'\n",
    "                 instance_count=1,\n",
    "                 source_dir='.',\n",
    "                 role=role,\n",
    "                 framework_version='2.3.2',\n",
    "                 py_version='py37',\n",
    "                 output_path=f's3://{BUCKET}/workshop',\n",
    "                 hyperparameters={\n",
    "                     #'embedding': True,\n",
    "                     #'modelstart': 1,\n",
    "                     #'batch-size': 64,\n",
    "                     #'modelfinish': 5\n",
    "                 },\n",
    "                 #script_mode=True,\n",
    "                 #dependencies=dependencies,\n",
    "                 #image_uri=<image_uri>,\n",
    ")"
   ]
  },
  {
   "cell_type": "markdown",
   "id": "93eec937",
   "metadata": {},
   "source": [
    "### 3.4 Run training!"
   ]
  },
  {
   "cell_type": "code",
   "execution_count": 49,
   "id": "f4801ab5",
   "metadata": {
    "scrolled": true
   },
   "outputs": [
    {
     "name": "stdout",
     "output_type": "stream",
     "text": [
      "2022-04-03 02:41:26 Starting - Starting the training job...\n",
      "2022-04-03 02:41:52 Starting - Preparing the instances for trainingProfilerReport-1648953686: InProgress\n",
      ".........\n",
      "2022-04-03 02:43:21 Downloading - Downloading input data\n",
      "2022-04-03 02:43:21 Training - Downloading the training image............\n",
      "2022-04-03 02:45:26 Training - Training image download completed. Training in progress..\u001b[34m2022-04-03 02:45:29.562008: W tensorflow/core/profiler/internal/smprofiler_timeline.cc:460] Initializing the SageMaker Profiler.\u001b[0m\n",
      "\u001b[34m2022-04-03 02:45:29.565735: W tensorflow/core/profiler/internal/smprofiler_timeline.cc:105] SageMaker Profiler is not enabled. The timeline writer thread will not be started, future recorded events will be dropped.\u001b[0m\n",
      "\u001b[34m2022-04-03 02:45:29.757137: I tensorflow/stream_executor/platform/default/dso_loader.cc:48] Successfully opened dynamic library libcudart.so.10.2\u001b[0m\n",
      "\u001b[34m2022-04-03 02:45:29.838569: W tensorflow/core/profiler/internal/smprofiler_timeline.cc:460] Initializing the SageMaker Profiler.\u001b[0m\n",
      "\u001b[34m2022-04-03 02:45:33,056 sagemaker-training-toolkit INFO     Imported framework sagemaker_tensorflow_container.training\u001b[0m\n",
      "\u001b[34m2022-04-03 02:45:34,261 sagemaker-training-toolkit INFO     Invoking user script\u001b[0m\n",
      "\u001b[34mTraining Env:\u001b[0m\n",
      "\u001b[34m{\n",
      "    \"additional_framework_parameters\": {},\n",
      "    \"channel_input_dirs\": {\n",
      "        \"train\": \"/opt/ml/input/data/train\"\n",
      "    },\n",
      "    \"current_host\": \"algo-1\",\n",
      "    \"framework_module\": \"sagemaker_tensorflow_container.training:main\",\n",
      "    \"hosts\": [\n",
      "        \"algo-1\"\n",
      "    ],\n",
      "    \"hyperparameters\": {\n",
      "        \"model_dir\": \"s3://dsml-chrisi-bucket/workshop/tensorflow-training-2022-04-03-02-41-22-638/model\"\n",
      "    },\n",
      "    \"input_config_dir\": \"/opt/ml/input/config\",\n",
      "    \"input_data_config\": {\n",
      "        \"train\": {\n",
      "            \"TrainingInputMode\": \"File\",\n",
      "            \"S3DistributionType\": \"FullyReplicated\",\n",
      "            \"RecordWrapperType\": \"None\"\n",
      "        }\n",
      "    },\n",
      "    \"input_dir\": \"/opt/ml/input\",\n",
      "    \"is_master\": true,\n",
      "    \"job_name\": \"tensorflow-training-2022-04-03-02-41-22-638\",\n",
      "    \"log_level\": 20,\n",
      "    \"master_hostname\": \"algo-1\",\n",
      "    \"model_dir\": \"/opt/ml/model\",\n",
      "    \"module_dir\": \"s3://dsml-chrisi-bucket/tensorflow-training-2022-04-03-02-41-22-638/source/sourcedir.tar.gz\",\n",
      "    \"module_name\": \"keras_train_model\",\n",
      "    \"network_interface_name\": \"eth0\",\n",
      "    \"num_cpus\": 8,\n",
      "    \"num_gpus\": 1,\n",
      "    \"output_data_dir\": \"/opt/ml/output/data\",\n",
      "    \"output_dir\": \"/opt/ml/output\",\n",
      "    \"output_intermediate_dir\": \"/opt/ml/output/intermediate\",\n",
      "    \"resource_config\": {\n",
      "        \"current_host\": \"algo-1\",\n",
      "        \"current_instance_type\": \"ml.p3.2xlarge\",\n",
      "        \"current_group_name\": \"homogeneousCluster\",\n",
      "        \"hosts\": [\n",
      "            \"algo-1\"\n",
      "        ],\n",
      "        \"instance_groups\": [\n",
      "            {\n",
      "                \"instance_group_name\": \"homogeneousCluster\",\n",
      "                \"instance_type\": \"ml.p3.2xlarge\",\n",
      "                \"hosts\": [\n",
      "                    \"algo-1\"\n",
      "                ]\n",
      "            }\n",
      "        ],\n",
      "        \"network_interface_name\": \"eth0\"\n",
      "    },\n",
      "    \"user_entry_point\": \"keras_train_model.py\"\u001b[0m\n",
      "\u001b[34m}\u001b[0m\n",
      "\u001b[34mEnvironment variables:\u001b[0m\n",
      "\u001b[34mSM_HOSTS=[\"algo-1\"]\u001b[0m\n",
      "\u001b[34mSM_NETWORK_INTERFACE_NAME=eth0\u001b[0m\n",
      "\u001b[34mSM_HPS={\"model_dir\":\"s3://dsml-chrisi-bucket/workshop/tensorflow-training-2022-04-03-02-41-22-638/model\"}\u001b[0m\n",
      "\u001b[34mSM_USER_ENTRY_POINT=keras_train_model.py\u001b[0m\n",
      "\u001b[34mSM_FRAMEWORK_PARAMS={}\u001b[0m\n",
      "\u001b[34mSM_RESOURCE_CONFIG={\"current_group_name\":\"homogeneousCluster\",\"current_host\":\"algo-1\",\"current_instance_type\":\"ml.p3.2xlarge\",\"hosts\":[\"algo-1\"],\"instance_groups\":[{\"hosts\":[\"algo-1\"],\"instance_group_name\":\"homogeneousCluster\",\"instance_type\":\"ml.p3.2xlarge\"}],\"network_interface_name\":\"eth0\"}\u001b[0m\n",
      "\u001b[34mSM_INPUT_DATA_CONFIG={\"train\":{\"RecordWrapperType\":\"None\",\"S3DistributionType\":\"FullyReplicated\",\"TrainingInputMode\":\"File\"}}\u001b[0m\n",
      "\u001b[34mSM_OUTPUT_DATA_DIR=/opt/ml/output/data\u001b[0m\n",
      "\u001b[34mSM_CHANNELS=[\"train\"]\u001b[0m\n",
      "\u001b[34mSM_CURRENT_HOST=algo-1\u001b[0m\n",
      "\u001b[34mSM_MODULE_NAME=keras_train_model\u001b[0m\n",
      "\u001b[34mSM_LOG_LEVEL=20\u001b[0m\n",
      "\u001b[34mSM_FRAMEWORK_MODULE=sagemaker_tensorflow_container.training:main\u001b[0m\n",
      "\u001b[34mSM_INPUT_DIR=/opt/ml/input\u001b[0m\n",
      "\u001b[34mSM_INPUT_CONFIG_DIR=/opt/ml/input/config\u001b[0m\n",
      "\u001b[34mSM_OUTPUT_DIR=/opt/ml/output\u001b[0m\n",
      "\u001b[34mSM_NUM_CPUS=8\u001b[0m\n",
      "\u001b[34mSM_NUM_GPUS=1\u001b[0m\n",
      "\u001b[34mSM_MODEL_DIR=/opt/ml/model\u001b[0m\n",
      "\u001b[34mSM_MODULE_DIR=s3://dsml-chrisi-bucket/tensorflow-training-2022-04-03-02-41-22-638/source/sourcedir.tar.gz\u001b[0m\n",
      "\u001b[34mSM_TRAINING_ENV={\"additional_framework_parameters\":{},\"channel_input_dirs\":{\"train\":\"/opt/ml/input/data/train\"},\"current_host\":\"algo-1\",\"framework_module\":\"sagemaker_tensorflow_container.training:main\",\"hosts\":[\"algo-1\"],\"hyperparameters\":{\"model_dir\":\"s3://dsml-chrisi-bucket/workshop/tensorflow-training-2022-04-03-02-41-22-638/model\"},\"input_config_dir\":\"/opt/ml/input/config\",\"input_data_config\":{\"train\":{\"RecordWrapperType\":\"None\",\"S3DistributionType\":\"FullyReplicated\",\"TrainingInputMode\":\"File\"}},\"input_dir\":\"/opt/ml/input\",\"is_master\":true,\"job_name\":\"tensorflow-training-2022-04-03-02-41-22-638\",\"log_level\":20,\"master_hostname\":\"algo-1\",\"model_dir\":\"/opt/ml/model\",\"module_dir\":\"s3://dsml-chrisi-bucket/tensorflow-training-2022-04-03-02-41-22-638/source/sourcedir.tar.gz\",\"module_name\":\"keras_train_model\",\"network_interface_name\":\"eth0\",\"num_cpus\":8,\"num_gpus\":1,\"output_data_dir\":\"/opt/ml/output/data\",\"output_dir\":\"/opt/ml/output\",\"output_intermediate_dir\":\"/opt/ml/output/intermediate\",\"resource_config\":{\"current_group_name\":\"homogeneousCluster\",\"current_host\":\"algo-1\",\"current_instance_type\":\"ml.p3.2xlarge\",\"hosts\":[\"algo-1\"],\"instance_groups\":[{\"hosts\":[\"algo-1\"],\"instance_group_name\":\"homogeneousCluster\",\"instance_type\":\"ml.p3.2xlarge\"}],\"network_interface_name\":\"eth0\"},\"user_entry_point\":\"keras_train_model.py\"}\u001b[0m\n",
      "\u001b[34mSM_USER_ARGS=[\"--model_dir\",\"s3://dsml-chrisi-bucket/workshop/tensorflow-training-2022-04-03-02-41-22-638/model\"]\u001b[0m\n",
      "\u001b[34mSM_OUTPUT_INTERMEDIATE_DIR=/opt/ml/output/intermediate\u001b[0m\n",
      "\u001b[34mSM_CHANNEL_TRAIN=/opt/ml/input/data/train\u001b[0m\n",
      "\u001b[34mSM_HP_MODEL_DIR=s3://dsml-chrisi-bucket/workshop/tensorflow-training-2022-04-03-02-41-22-638/model\u001b[0m\n",
      "\u001b[34mPYTHONPATH=/opt/ml/code:/usr/local/bin:/usr/local/lib/python37.zip:/usr/local/lib/python3.7:/usr/local/lib/python3.7/lib-dynload:/usr/local/lib/python3.7/site-packages\u001b[0m\n",
      "\u001b[34mInvoking script with the following command:\u001b[0m\n",
      "\u001b[34m/usr/local/bin/python3.7 keras_train_model.py --model_dir s3://dsml-chrisi-bucket/workshop/tensorflow-training-2022-04-03-02-41-22-638/model\u001b[0m\n",
      "\u001b[34mInput /opt/ml/input/data/train/tweets_processed.csv\u001b[0m\n",
      "\u001b[34mOutput /opt/ml/model\u001b[0m\n",
      "\u001b[34m[2022-04-03 02:45:41.320 ip-10-0-161-24.us-west-2.compute.internal:38 INFO utils.py:27] RULE_JOB_STOP_SIGNAL_FILENAME: None\u001b[0m\n",
      "\u001b[34m[2022-04-03 02:45:41.706 ip-10-0-161-24.us-west-2.compute.internal:38 INFO profiler_config_parser.py:102] User has disabled profiler.\u001b[0m\n",
      "\u001b[34m[2022-04-03 02:45:42.594 ip-10-0-161-24.us-west-2.compute.internal:38 INFO json_config.py:91] Creating hook from json_config at /opt/ml/input/config/debughookconfig.json.\u001b[0m\n",
      "\u001b[34m[2022-04-03 02:45:42.594 ip-10-0-161-24.us-west-2.compute.internal:38 INFO hook.py:201] tensorboard_dir has not been set for the hook. SMDebug will not be exporting tensorboard summaries.\u001b[0m\n",
      "\u001b[34m[2022-04-03 02:45:42.595 ip-10-0-161-24.us-west-2.compute.internal:38 INFO hook.py:255] Saving to /opt/ml/output/tensors\u001b[0m\n",
      "\u001b[34m[2022-04-03 02:45:42.595 ip-10-0-161-24.us-west-2.compute.internal:38 INFO state_store.py:77] The checkpoint config file /opt/ml/input/config/checkpointconfig.json does not exist.\u001b[0m\n",
      "\u001b[34m[2022-04-03 02:45:42.596 ip-10-0-161-24.us-west-2.compute.internal:38 INFO hook.py:425] Monitoring the collections: losses, sm_metrics, metrics\u001b[0m\n",
      "\u001b[34m[2022-04-03 02:45:42.599 ip-10-0-161-24.us-west-2.compute.internal:38 INFO hook.py:425] Monitoring the collections: losses, sm_metrics, metrics\u001b[0m\n",
      "\u001b[34m#015  1/222 [..............................] - ETA: 0s - loss: 1.3912 - accuracy: 0.2812 - batch: 0.0000e+00#010#010#010#010#010#010#010#010#010#010#010#010#010#010#010#010#010#010#010#010#010#010#010#010#010#010#010#010#010#010#010#010#010#010#010#010#010#010#010#010#010#010#010#010#010#010#010#010#010#010#010#010#010#010#010#010#010#010#010#010#010#010#010#010#010#010#010#010#010#010#010#010#010#010#010#010#010#010#010#010#010#010#010#010#010#010#010#010#010#010#010#010#010#010#010#010#010#010#010#010#010#010#010#010#015  5/222 [..............................] - ETA: 2s - loss: 1.3871 - accuracy: 0.2500 - batch: 0.0000e+00#010#010#010#010#010#010#010#010#010#010#010#010#010#010#010#010#010#010#010#010#010#010#010#010#010#010#010#010#010#010#010#010#010#010#010#010#010#010#010#010#010#010#010#010#010#010#010#010#010#010#010#010#010#010#010#010#010#010#010#010#010#010#010#010#010#010#010#010#010#010#010#010#010#010#010#010#010#010#010#010#010#010#010#010#010#010#010#010#010#010#010#010#010#010#010#010#010#010#010#010#010#010#010#010#015 10/222 [>.............................] - ETA: 2s - loss: 1.3873 - accuracy: 0.2188 - batch: 0.0000e+00#010#010#010#010#010#010#010#010#010#010#010#010#010#010#010#010#010#010#010#010#010#010#010#010#010#010#010#010#010#010#010#010#010#010#010#010#010#010#010#010#010#010#010#010#010#010#010#010#010#010#010#010#010#010#010#010#010#010#010#010#010#010#010#010#010#010#010#010#010#010#010#010#010#010#010#010#010#010#010#010#010#010#010#010#010#010#010#010#010#010#010#010#010#010#010#010#010#010#010#010#010#010#010#010#015 15/222 [=>............................] - ETA: 2s - loss: 1.3875 - accuracy: 0.2208 - batch: 0.0000e+00#010#010#010#010#010#010#010#010#010#010#010#010#010#010#010#010#010#010#010#010#010#010#010#010#010#010#010#010#010#010#010#010#010#010#010#010#010#010#010#010#010#010#010#010#010#010#010#010#010#010#010#010#010#010#010#010#010#010#010#010#010#010#010#010#010#010#010#010#010#010#010#010#010#010#010#010#010#010#010#010#010#010#010#010#010#010#010#010#010#010#010#010#010#010#010#010#010#010#010#010#010#010#010#010#015 20/222 [=>............................] - ETA: 2s - loss: 1.3870 - accuracy: 0.2359 - batch: 0.0000e+00#010#010#010#010#010#010#010#010#010#010#010#010#010#010#010#010#010#010#010#010#010#010#010#010#010#010#010#010#010#010#010#010#010#010#010#010#010#010#010#010#010#010#010#010#010#010#010#010#010#010#010#010#010#010#010#010#010#010#010#010#010#010#010#010#010#010#010#010#010#010#010#010#010#010#010#010#010#010#010#010#010#010#010#010#010#010#010#010#010#010#010#010#010#010#010#010#010#010#010#010#010#010#010#010#015 25/222 [==>...........................] - ETA: 2s - loss: 1.3862 - accuracy: 0.2562 - batch: 0.0000e+00#010#010#010#010#010#010#010#010#010#010#010#010#010#010#010#010#010#010#010#010#010#010#010#010#010#010#010#010#010#010#010#010#010#010#010#010#010#010#010#010#010#010#010#010#010#010#010#010#010#010#010#010#010#010#010#010#010#010#010#010#010#010#010#010#010#010#010#010#010#010#010#010#010#010#010#010#010#010#010#010#010#010#010#010#010#010#010#010#010#010#010#010#010#010#010#010#010#010#010#010#010#010#010#010#015 30/222 [===>..........................] - ETA: 2s - loss: 1.3858 - accuracy: 0.2594 - batch: 0.0000e+00#010#010#010#010#010#010#010#010#010#010#010#010#010#010#010#010#010#010#010#010#010#010#010#010#010#010#010#010#010#010#010#010#010#010#010#010#010#010#010#010#010#010#010#010#010#010#010#010#010#010#010#010#010#010#010#010#010#010#010#010#010#010#010#010#010#010#010#010#010#010#010#010#010#010#010#010#010#010#010#010#010#010#010#010#010#010#010#010#010#010#010#010#010#010#010#010#010#010#010#010#010#010#010#010#015 36/222 [===>..........................] - ETA: 1s - loss: 1.3856 - accuracy: 0.2509 - batch: 0.0000e+00#010#010#010#010#010#010#010#010#010#010#010#010#010#010#010#010#010#010#010#010#010#010#010#010#010#010#010#010#010#010#010#010#010#010#010#010#010#010#010#010#010#010#010#010#010#010#010#010#010#010#010#010#010#010#010#010#010#010#010#010#010#010#010#010#010#010#010#010#010#010#010#010#010#010#010#010#010#010#010#010#010#010#010#010#010#010#010#010#010#010#010#010#010#010#010#010#010#010#010#010#010#010#010#010#015 42/222 [====>.........................] - ETA: 1s - loss: 1.3856 - accuracy: 0.2448 - batch: 0.0000e+00#010#010#010#010#010#010#010#010#010#010#010#010#010#010#010#010#010#010#010#010#010#010#010#010#010#010#010#010#010#010#010#010#010#010#010#010#010#010#010#010#010#010#010#010#010#010#010#010#010#010#010#010#010#010#010#010#010#010#010#010#010#010#010#010#010#010#010#010#010#010#010#010#010#010#010#010#010#010#010#010#010#010#010#010#010#010#010#010#010#010#010#010#010#010#010#010#010#010#010#010#010#010#010#010#015 48/222 [=====>........................] - ETA: 1s - loss: 1.3850 - accuracy: 0.2526 - batch: 0.0000e+00#010#010#010#010#010#010#010#010#010#010#010#010#010#010#010#010#010#010#010#010#010#010#010#010#010#010#010#010#010#010#010#010#010#010#010#010#010#010#010#010#010#010#010#010#010#010#010#010#010#010#010#010#010#010#010#010#010#010#010#010#010#010#010#010#010#010#010#010#010#010#010#010#010#010#010#010#010#010#010#010#010#010#010#010#010#010#010#010#010#010#010#010#010#010#010#010#010#010#010#010#010#010#010#010#015 53/222 [======>.......................] - ETA: 1s - loss: 1.3849 - accuracy: 0.2518 - batch: 0.0000e+00#010#010#010#010#010#010#010#010#010#010#010#010#010#010#010#010#010#010#010#010#010#010#010#010#010#010#010#010#010#010#010#010#010#010#010#010#010#010#010#010#010#010#010#010#010#010#010#010#010#010#010#010#010#010#010#010#010#010#010#010#010#010#010#010#010#010#010#010#010#010#010#010#010#010#010#010#010#010#010#010#010#010#010#010#010#010#010#010#010#010#010#010#010#010#010#010#010#010#010#010#010#010#010#010#015 59/222 [======>.......................] - ETA: 1s - loss: 1.3846 - accuracy: 0.2537 - batch: 0.0000e+00#010#010#010#010#010#010#010#010#010#010#010#010#010#010#010#010#010#010#010#010#010#010#010#010#010#010#010#010#010#010#010#010#010#010#010#010#010#010#010#010#010#010#010#010#010#010#010#010#010#010#010#010#010#010#010#010#010#010#010#010#010#010#010#010#010#010#010#010#010#010#010#010#010#010#010#010#010#010#010#010#010#010#010#010#010#010#010#010#010#010#010#010#010#010#010#010#010#010#010#010#010#010#010#010#015 65/222 [=======>......................] - ETA: 1s - loss: 1.3845 - accuracy: 0.2587 - batch: 0.0000e+00#010#010#010#010#010#010#010#010#010#010#010#010#010#010#010#010#010#010#010#010#010#010#010#010#010#010#010#010#010#010#010#010#010#010#010#010#010#010#010#010#010#010#010#010#010#010#010#010#010#010#010#010#010#010#010#010#010#010#010#010#010#010#010#010#010#010#010#010#010#010#010#010#010#010#010#010#010#010#010#010#010#010#010#010#010#010#010#010#010#010#010#010#010#010#010#010#010#010#010#010#010#010#010#010#015 70/222 [========>.....................] - ETA: 1s - loss: 1.3842 - accuracy: 0.2621 - batch: 0.0000e+00#010#010#010#010#010#010#010#010#010#010#010#010#010#010#010#010#010#010#010#010#010#010#010#010#010#010#010#010#010#010#010#010#010#010#010#010#010#010#010#010#010#010#010#010#010#010#010#010#010#010#010#010#010#010#010#010#010#010#010#010#010#010#010#010#010#010#010#010#010#010#010#010#010#010#010#010#010#010#010#010#010#010#010#010#010#010#010#010#010#010#010#010#010#010#010#010#010#010#010#010#010#010#010#010#015 75/222 [=========>....................] - ETA: 1s - loss: 1.3840 - accuracy: 0.2675 - batch: 0.0000e+00#010#010#010#010#010#010#010#010#010#010#010#010#010#010#010#010#010#010#010#010#010#010#010#010#010#010#010#010#010#010#010#010#010#010#010#010#010#010#010#010#010#010#010#010#010#010#010#010#010#010#010#010#010#010#010#010#010#010#010#010#010#010#010#010#010#010#010#010#010#010#010#010#010#010#010#010#010#010#010#010#010#010#010#010#010#010#010#010#010#010#010#010#010#010#010#010#010#010#010#010#010#010#010#010#015 81/222 [=========>....................] - ETA: 1s - loss: 1.3832 - accuracy: 0.2816 - batch: 0.0000e+00#010#010#010#010#010#010#010#010#010#010#010#010#010#010#010#010#010#010#010#010#010#010#010#010#010#010#010#010#010#010#010#010#010#010#010#010#010#010#010#010#010#010#010#010#010#010#010#010#010#010#010#010#010#010#010#010#010#010#010#010#010#010#010#010#010#010#010#010#010#010#010#010#010#010#010#010#010#010#010#010#010#010#010#010#010#010#010#010#010#010#010#010#010#010#010#010#010#010#010#010#010#010#010#010#015 87/222 [==========>...................] - ETA: 1s - loss: 1.3825 - accuracy: 0.2888 - batch: 0.0000e+00#010#010#010#010#010#010#010#010#010#010#010#010#010#010#010#010#010#010#010#010#010#010#010#010#010#010#010#010#010#010#010#010#010#010#010#010#010#010#010#010#010#010#010#010#010#010#010#010#010#010#010#010#010#010#010#010#010#010#010#010#010#010#010#010#010#010#010#010#010#010#010#010#010#010#010#010#010#010#010#010#010#010#010#010#010#010#010#010#010#010#010#010#010#010#010#010#010#010#010#010#010#010#010#010#015 93/222 [===========>..................] - ETA: 1s - loss: 1.3818 - accuracy: 0.2937 - batch: 0.0000e+00#010#010#010#010#010#010#010#010#010#010#010#010#010#010#010#010#010#010#010#010#010#010#010#010#010#010#010#010#010#010#010#010#010#010#010#010#010#010#010#010#010#010#010#010#010#010#010#010#010#010#010#010#010#010#010#010#010#010#010#010#010#010#010#010#010#010#010#010#010#010#010#010#010#010#010#010#010#010#010#010#010#010#010#010#010#010#010#010#010#010#010#010#010#010#010#010#010#010#010#010#010#010#010#010#015 99/222 [============>.................] - ETA: 1s - loss: 1.3807 - accuracy: 0.2986 - batch: 0.0000e+00#010#010#010#010#010#010#010#010#010#010#010#010#010#010#010#010#010#010#010#010#010#010#010#010#010#010#010#010#010#010#010#010#010#010#010#010#010#010#010#010#010#010#010#010#010#010#010#010#010#010#010#010#010#010#010#010#010#010#010#010#010#010#010#010#010#010#010#010#010#010#010#010#010#010#010#010#010#010#010#010#010#010#010#010#010#010#010#010#010#010#010#010#010#010#010#010#010#010#010#010#010#010#010#010#015105/222 [=============>................] - ETA: 1s - loss: 1.3798 - accuracy: 0.3009 - batch: 0.0000e+00#010#010#010#010#010#010#010#010#010#010#010#010#010#010#010#010#010#010#010#010#010#010#010#010#010#010#010#010#010#010#010#010#010#010#010#010#010#010#010#010#010#010#010#010#010#010#010#010#010#010#010#010#010#010#010#010#010#010#010#010#010#010#010#010#010#010#010#010#010#010#010#010#010#010#010#010#010#010#010#010#010#010#010#010#010#010#010#010#010#010#010#010#010#010#010#010#010#010#010#010#010#010#010#010#015111/222 [==============>...............] - ETA: 1s - loss: 1.3781 - accuracy: 0.3091 - batch: 0.0000e+00#010#010#010#010#010#010#010#010#010#010#010#010#010#010#010#010#010#010#010#010#010#010#010#010#010#010#010#010#010#010#010#010#010#010#010#010#010#010#010#010#010#010#010#010#010#010#010#010#010#010#010#010#010#010#010#010#010#010#010#010#010#010#010#010#010#010#010#010#010#010#010#010#010#010#010#010#010#010#010#010#010#010#010#010#010#010#010#010#010#010#010#010#010#010#010#010#010#010#010#010#010#010#010#010#015117/222 [==============>...............] - ETA: 1s - loss: 1.3751 - accuracy: 0.3133 - batch: 0.0000e+00#010#010#010#010#010#010#010#010#010#010#010#010#010#010#010#010#010#010#010#010#010#010#010#010#010#010#010#010#010#010#010#010#010#010#010#010#010#010#010#010#010#010#010#010#010#010#010#010#010#010#010#010#010#010#010#010#010#010#010#010#010#010#010#010#010#010#010#010#010#010#010#010#010#010#010#010#010#010#010#010#010#010#010#010#010#010#010#010#010#010#010#010#010#010#010#010#010#010#010#010#010#010#010#010#015123/222 [===============>..............] - ETA: 0s - loss: 1.3737 - accuracy: 0.3140 - batch: 0.0000e+00#010#010#010#010#010#010#010#010#010#010#010#010#010#010#010#010#010#010#010#010#010#010#010#010#010#010#010#010#010#010#010#010#010#010#010#010#010#010#010#010#010#010#010#010#010#010#010#010#010#010#010#010#010#010#010#010#010#010#010#010#010#010#010#010#010#010#010#010#010#010#010#010#010#010#010#010#010#010#010#010#010#010#010#010#010#010#010#010#010#010#010#010#010#010#010#010#010#010#010#010#010#010#010#010#015129/222 [================>.............] - ETA: 0s - loss: 1.3722 - accuracy: 0.3176 - batch: 0.0000e+00#010#010#010#010#010#010#010#010#010#010#010#010#010#010#010#010#010#010#010#010#010#010#010#010#010#010#010#010#010#010#010#010#010#010#010#010#010#010#010#010#010#010#010#010#010#010#010#010#010#010#010#010#010#010#010#010#010#010#010#010#010#010#010#010#010#010#010#010#010#010#010#010#010#010#010#010#010#010#010#010#010#010#010#010#010#010#010#010#010#010#010#010#010#010#010#010#010#010#010#010#010#010#010#010#015135/222 [=================>............] - ETA: 0s - loss: 1.3699 - accuracy: 0.3181 - batch: 0.0000e+00#010#010#010#010#010#010#010#010#010#010#010#010#010#010#010#010#010#010#010#010#010#010#010#010#010#010#010#010#010#010#010#010#010#010#010#010#010#010#010#010#010#010#010#010#010#010#010#010#010#010#010#010#010#010#010#010#010#010#010#010#010#010#010#010#010#010#010#010#010#010#010#010#010#010#010#010#010#010#010#010#010#010#010#010#010#010#010#010#010#010#010#010#010#010#010#010#010#010#010#010#010#010#010#010#015141/222 [==================>...........] - ETA: 0s - loss: 1.3676 - accuracy: 0.3207 - batch: 0.0000e+00#010#010#010#010#010#010#010#010#010#010#010#010#010#010#010#010#010#010#010#010#010#010#010#010#010#010#010#010#010#010#010#010#010#010#010#010#010#010#010#010#010#010#010#010#010#010#010#010#010#010#010#010#010#010#010#010#010#010#010#010#010#010#010#010#010#010#010#010#010#010#010#010#010#010#010#010#010#010#010#010#010#010#010#010#010#010#010#010#010#010#010#010#010#010#010#010#010#010#010#010#010#010#010#010#015147/222 [==================>...........] - ETA: 0s - loss: 1.3651 - accuracy: 0.3225 - batch: 0.0000e+00#010#010#010#010#010#010#010#010#010#010#010#010#010#010#010#010#010#010#010#010#010#010#010#010#010#010#010#010#010#010#010#010#010#010#010#010#010#010#010#010#010#010#010#010#010#010#010#010#010#010#010#010#010#010#010#010#010#010#010#010#010#010#010#010#010#010#010#010#010#010#010#010#010#010#010#010#010#010#010#010#010#010#010#010#010#010#010#010#010#010#010#010#010#010#010#010#010#010#010#010#010#010#010#010#015153/222 [===================>..........] - ETA: 0s - loss: 1.3621 - accuracy: 0.3262 - batch: 0.0000e+00#010#010#010#010#010#010#010#010#010#010#010#010#010#010#010#010#010#010#010#010#010#010#010#010#010#010#010#010#010#010#010#010#010#010#010#010#010#010#010#010#010#010#010#010#010#010#010#010#010#010#010#010#010#010#010#010#010#010#010#010#010#010#010#010#010#010#010#010#010#010#010#010#010#010#010#010#010#010#010#010#010#010#010#010#010#010#010#010#010#010#010#010#010#010#010#010#010#010#010#010#010#010#010#010#015159/222 [====================>.........] - ETA: 0s - loss: 1.3593 - accuracy: 0.3306 - batch: 0.0000e+00#010#010#010#010#010#010#010#010#010#010#010#010#010#010#010#010#010#010#010#010#010#010#010#010#010#010#010#010#010#010#010#010#010#010#010#010#010#010#010#010#010#010#010#010#010#010#010#010#010#010#010#010#010#010#010#010#010#010#010#010#010#010#010#010#010#010#010#010#010#010#010#010#010#010#010#010#010#010#010#010#010#010#010#010#010#010#010#010#010#010#010#010#010#010#010#010#010#010#010#010#010#010#010#010#015165/222 [=====================>........] - ETA: 0s - loss: 1.3566 - accuracy: 0.3345 - batch: 0.0000e+00#010#010#010#010#010#010#010#010#010#010#010#010#010#010#010#010#010#010#010#010#010#010#010#010#010#010#010#010#010#010#010#010#010#010#010#010#010#010#010#010#010#010#010#010#010#010#010#010#010#010#010#010#010#010#010#010#010#010#010#010#010#010#010#010#010#010#010#010#010#010#010#010#010#010#010#010#010#010#010#010#010#010#010#010#010#010#010#010#010#010#010#010#010#010#010#010#010#010#010#010#010#010#010#010#015171/222 [======================>.......] - ETA: 0s - loss: 1.3525 - accuracy: 0.3386 - batch: 0.0000e+00#010#010#010#010#010#010#010#010#010#010#010#010#010#010#010#010#010#010#010#010#010#010#010#010#010#010#010#010#010#010#010#010#010#010#010#010#010#010#010#010#010#010#010#010#010#010#010#010#010#010#010#010#010#010#010#010#010#010#010#010#010#010#010#010#010#010#010#010#010#010#010#010#010#010#010#010#010#010#010#010#010#010#010#010#010#010#010#010#010#010#010#010#010#010#010#010#010#010#010#010#010#010#010#010#015177/222 [======================>.......] - ETA: 0s - loss: 1.3495 - accuracy: 0.3420 - batch: 0.0000e+00#010#010#010#010#010#010#010#010#010#010#010#010#010#010#010#010#010#010#010#010#010#010#010#010#010#010#010#010#010#010#010#010#010#010#010#010#010#010#010#010#010#010#010#010#010#010#010#010#010#010#010#010#010#010#010#010#010#010#010#010#010#010#010#010#010#010#010#010#010#010#010#010#010#010#010#010#010#010#010#010#010#010#010#010#010#010#010#010#010#010#010#010#010#010#010#010#010#010#010#010#010#010#010#010#015183/222 [=======================>......] - ETA: 0s - loss: 1.3461 - accuracy: 0.3453 - batch: 0.0000e+00#010#010#010#010#010#010#010#010#010#010#010#010#010#010#010#010#010#010#010#010#010#010#010#010#010#010#010#010#010#010#010#010#010#010#010#010#010#010#010#010#010#010#010#010#010#010#010#010#010#010#010#010#010#010#010#010#010#010#010#010#010#010#010#010#010#010#010#010#010#010#010#010#010#010#010#010#010#010#010#010#010#010#010#010#010#010#010#010#010#010#010#010#010#010#010#010#010#010#010#010#010#010#010#010#015189/222 [========================>.....] - ETA: 0s - loss: 1.3424 - accuracy: 0.3479 - batch: 0.0000e+00#010#010#010#010#010#010#010#010#010#010#010#010#010#010#010#010#010#010#010#010#010#010#010#010#010#010#010#010#010#010#010#010#010#010#010#010#010#010#010#010#010#010#010#010#010#010#010#010#010#010#010#010#010#010#010#010#010#010#010#010#010#010#010#010#010#010#010#010#010#010#010#010#010#010#010#010#010#010#010#010#010#010#010#010#010#010#010#010#010#010#010#010#010#010#010#010#010#010#010#010#010#010#010#010#015195/222 [=========================>....] - ETA: 0s - loss: 1.3388 - accuracy: 0.3518 - batch: 0.0000e+00#010#010#010#010#010#010#010#010#010#010#010#010#010#010#010#010#010#010#010#010#010#010#010#010#010#010#010#010#010#010#010#010#010#010#010#010#010#010#010#010#010#010#010#010#010#010#010#010#010#010#010#010#010#010#010#010#010#010#010#010#010#010#010#010#010#010#010#010#010#010#010#010#010#010#010#010#010#010#010#010#010#010#010#010#010#010#010#010#010#010#010#010#010#010#010#010#010#010#010#010#010#010#010#010#015201/222 [==========================>...] - ETA: 0s - loss: 1.3359 - accuracy: 0.3534 - batch: 0.0000e+00#010#010#010#010#010#010#010#010#010#010#010#010#010#010#010#010#010#010#010#010#010#010#010#010#010#010#010#010#010#010#010#010#010#010#010#010#010#010#010#010#010#010#010#010#010#010#010#010#010#010#010#010#010#010#010#010#010#010#010#010#010#010#010#010#010#010#010#010#010#010#010#010#010#010#010#010#010#010#010#010#010#010#010#010#010#010#010#010#010#010#010#010#010#010#010#010#010#010#010#010#010#010#010#010#015207/222 [==========================>...] - ETA: 0s - loss: 1.3323 - accuracy: 0.3573 - batch: 0.0000e+00#010#010#010#010#010#010#010#010#010#010#010#010#010#010#010#010#010#010#010#010#010#010#010#010#010#010#010#010#010#010#010#010#010#010#010#010#010#010#010#010#010#010#010#010#010#010#010#010#010#010#010#010#010#010#010#010#010#010#010#010#010#010#010#010#010#010#010#010#010#010#010#010#010#010#010#010#010#010#010#010#010#010#010#010#010#010#010#010#010#010#010#010#010#010#010#010#010#010#010#010#010#010#010#010#015213/222 [===========================>..] - ETA: 0s - loss: 1.3283 - accuracy: 0.3609 - batch: 0.0000e+00#010#010#010#010#010#010#010#010#010#010#010#010#010#010#010#010#010#010#010#010#010#010#010#010#010#010#010#010#010#010#010#010#010#010#010#010#010#010#010#010#010#010#010#010#010#010#010#010#010#010#010#010#010#010#010#010#010#010#010#010#010#010#010#010#010#010#010#010#010#010#010#010#010#010#010#010#010#010#010#010#010#010#010#010#010#010#010#010#010#010#010#010#010#010#010#010#010#010#010#010#010#010#010#010#015219/222 [============================>.] - ETA: 0s - loss: 1.3242 - accuracy: 0.3642 - batch: 0.0000e+00#010#010#010#010#010#010#010#010#010#010#010#010#010#010#010#010#010#010#010#010#010#010#010#010#010#010#010#010#010#010#010#010#010#010#010#010#010#010#010#010#010#010#010#010#010#010#010#010#010#010#010#010#010#010#010#010#010#010#010#010#010#010#010#010#010#010#010#010#010#010#010#010#010#010#010#010#010#010#010#010#010#010#010#010#010#010#010#010#010#010#010#010#010#010#010#010#010#010#010#010#010#010#010#010#015222/222 [==============================] - 3s 14ms/step - loss: 1.3223 - accuracy: 0.3659 - batch: 0.0000e+00 - val_loss: 1.1876 - val_accuracy: 0.4385\u001b[0m\n",
      "\u001b[34mDONE\u001b[0m\n",
      "\u001b[34m2022-04-03 02:45:35.572318: W tensorflow/core/profiler/internal/smprofiler_timeline.cc:460] Initializing the SageMaker Profiler.\u001b[0m\n",
      "\u001b[34m2022-04-03 02:45:35.572486: W tensorflow/core/profiler/internal/smprofiler_timeline.cc:105] SageMaker Profiler is not enabled. The timeline writer thread will not be started, future recorded events will be dropped.\u001b[0m\n",
      "\u001b[34m2022-04-03 02:45:35.624914: W tensorflow/core/profiler/internal/smprofiler_timeline.cc:460] Initializing the SageMaker Profiler.\u001b[0m\n",
      "\u001b[34mkeras_train_model.py:42: SettingWithCopyWarning: \u001b[0m\n",
      "\u001b[34mA value is trying to be set on a copy of a slice from a DataFrame.\u001b[0m\n",
      "\u001b[34mTry using .loc[row_indexer,col_indexer] = value instead\u001b[0m\n",
      "\u001b[34mSee the caveats in the documentation: https://pandas.pydata.org/pandas-docs/stable/user_guide/indexing.html#returning-a-view-versus-a-copy\n",
      "  train_df['tweet_keras_tokenized'] = list(train_texts_to_sequences)\u001b[0m\n",
      "\u001b[34mkeras_train_model.py:46: SettingWithCopyWarning: \u001b[0m\n",
      "\u001b[34mA value is trying to be set on a copy of a slice from a DataFrame.\u001b[0m\n",
      "\u001b[34mTry using .loc[row_indexer,col_indexer] = value instead\u001b[0m\n",
      "\u001b[34mSee the caveats in the documentation: https://pandas.pydata.org/pandas-docs/stable/user_guide/indexing.html#returning-a-view-versus-a-copy\n",
      "  test_df['tweet_keras_tokenized'] = list(test_texts_to_sequences)\u001b[0m\n",
      "\u001b[34mWARNING:tensorflow:From /usr/local/lib/python3.7/site-packages/tensorflow/python/training/tracking/tracking.py:111: Model.state_updates (from tensorflow.python.keras.engine.training) is deprecated and will be removed in a future version.\u001b[0m\n",
      "\u001b[34mInstructions for updating:\u001b[0m\n",
      "\u001b[34mThis property should not be used in TensorFlow 2.0, as updates are applied automatically.\u001b[0m\n",
      "\u001b[34mWARNING:tensorflow:From /usr/local/lib/python3.7/site-packages/tensorflow/python/training/tracking/tracking.py:111: Model.state_updates (from tensorflow.python.keras.engine.training) is deprecated and will be removed in a future version.\u001b[0m\n",
      "\u001b[34mInstructions for updating:\u001b[0m\n",
      "\u001b[34mThis property should not be used in TensorFlow 2.0, as updates are applied automatically.\u001b[0m\n",
      "\u001b[34m2022-04-03 02:45:57.839161: W tensorflow/python/util/util.cc:348] Sets are not currently considered sequences, but this may change in the future, so consider avoiding using them.\u001b[0m\n",
      "\u001b[34mWARNING:tensorflow:From /usr/local/lib/python3.7/site-packages/tensorflow/python/training/tracking/tracking.py:111: Layer.updates (from tensorflow.python.keras.engine.base_layer) is deprecated and will be removed in a future version.\u001b[0m\n",
      "\u001b[34mInstructions for updating:\u001b[0m\n",
      "\u001b[34mThis property should not be used in TensorFlow 2.0, as updates are applied automatically.\u001b[0m\n",
      "\u001b[34mWARNING:tensorflow:From /usr/local/lib/python3.7/site-packages/tensorflow/python/training/tracking/tracking.py:111: Layer.updates (from tensorflow.python.keras.engine.base_layer) is deprecated and will be removed in a future version.\u001b[0m\n",
      "\u001b[34mInstructions for updating:\u001b[0m\n",
      "\u001b[34mThis property should not be used in TensorFlow 2.0, as updates are applied automatically.\u001b[0m\n",
      "\u001b[34mINFO:tensorflow:Assets written to: /opt/ml/model/assets\u001b[0m\n",
      "\u001b[34m2022-04-03 02:46:07,679 sagemaker_tensorflow_container.training WARNING  Your model will NOT be servable with SageMaker TensorFlow Serving containers. The SavedModel bundle is under directory \"model\", not a numeric name.\u001b[0m\n",
      "\u001b[34mINFO:tensorflow:Assets written to: /opt/ml/model/assets\u001b[0m\n",
      "\u001b[34m2022-04-03 02:46:07,680 sagemaker-training-toolkit INFO     Reporting training SUCCESS\u001b[0m\n",
      "\n",
      "2022-04-03 02:46:22 Uploading - Uploading generated training model\n",
      "2022-04-03 02:46:22 Completed - Training job completed\n",
      "Training seconds: 196\n",
      "Billable seconds: 196\n",
      "CPU times: user 4.06 s, sys: 92.1 ms, total: 4.15 s\n",
      "Wall time: 5min 18s\n"
     ]
    }
   ],
   "source": [
    "%%time\n",
    "estimator.fit({'train': f's3://{BUCKET}/workshop/'})"
   ]
  },
  {
   "cell_type": "markdown",
   "id": "1a67729d",
   "metadata": {},
   "source": [
    "### 3.5 Open a new browser tab and check your training job\n",
    "https://us-west-2.console.aws.amazon.com/sagemaker/home?region=us-west-2#/jobs"
   ]
  },
  {
   "cell_type": "markdown",
   "id": "df6986e1",
   "metadata": {},
   "source": [
    "<div>\n",
    "<img src=\"images/training-job.png\" width=\"500\"/>\n",
    "</div>"
   ]
  },
  {
   "cell_type": "markdown",
   "id": "4cb13919",
   "metadata": {},
   "source": [
    "### 3.6 View output in S3 bucket"
   ]
  },
  {
   "cell_type": "code",
   "execution_count": 50,
   "id": "a2c559ca",
   "metadata": {},
   "outputs": [
    {
     "name": "stdout",
     "output_type": "stream",
     "text": [
      "                           PRE tensorflow-training-2022-04-03-02-41-22-638/\n",
      "2022-04-03 01:53:53          4 dummy.txt\n",
      "2022-04-03 02:16:43    1315064 tweets.csv\n",
      "2022-04-03 02:37:03    1856856 tweets_processed.csv\n"
     ]
    }
   ],
   "source": [
    "!aws s3 ls s3://{BUCKET}/workshop/"
   ]
  },
  {
   "cell_type": "code",
   "execution_count": 52,
   "id": "f1c39680",
   "metadata": {},
   "outputs": [
    {
     "name": "stdout",
     "output_type": "stream",
     "text": [
      "2022-04-03 02:46:15    1215049 model.tar.gz\n"
     ]
    }
   ],
   "source": [
    "!aws s3 ls s3://{BUCKET}/workshop/tensorflow-training-2022-04-03-02-41-22-638/output/"
   ]
  },
  {
   "cell_type": "markdown",
   "id": "aed8c024",
   "metadata": {},
   "source": [
    "### 3.7 Copy model.tar.gz to local"
   ]
  },
  {
   "cell_type": "code",
   "execution_count": 54,
   "id": "feff8c20",
   "metadata": {},
   "outputs": [
    {
     "name": "stdout",
     "output_type": "stream",
     "text": [
      "download: s3://dsml-chrisi-bucket/workshop/tensorflow-training-2022-04-03-02-41-22-638/output/model.tar.gz to ./model.tar.gz\n"
     ]
    }
   ],
   "source": [
    "!aws s3 cp s3://{BUCKET}/workshop/tensorflow-training-2022-04-03-02-41-22-638/output/model.tar.gz ./model.tar.gz"
   ]
  },
  {
   "cell_type": "code",
   "execution_count": 55,
   "id": "4602f5b7",
   "metadata": {},
   "outputs": [
    {
     "name": "stdout",
     "output_type": "stream",
     "text": [
      "saved_model.pb\n",
      "assets/\n",
      "variables/\n",
      "variables/variables.index\n",
      "variables/variables.data-00000-of-00001\n"
     ]
    }
   ],
   "source": [
    "!mkdir keras_model_files\n",
    "!tar -xvf model.tar.gz --directory ./keras_model_files"
   ]
  },
  {
   "cell_type": "markdown",
   "id": "fc081ed0",
   "metadata": {},
   "source": [
    "### RECAP #2\n",
    "1. Transferred notebook code into Python training script file (3.2)\n",
    "2. Used Sagemaker Estimator to run our script in a container and process the files to/from S3 (3.3 - 3.4)\n",
    "3. Copied back the Estimator output from S3 to local (3.7)"
   ]
  },
  {
   "cell_type": "markdown",
   "id": "13da30d4",
   "metadata": {},
   "source": [
    "### What next?\n",
    "- [Sagemaker Python SDK](https://sagemaker.readthedocs.io/en/stable/overview.html#)\n",
    "- [Sagemaker notebook examples](https://github.com/aws/amazon-sagemaker-examples) - (accessible via the Sagemaker notebook extension on the lower left of this Jupyterlab)\n",
    "- [Data Science on AWS (Book)](https://www.oreilly.com/library/view/data-science-on/9781492079385/) \n",
    "- Non-AWS\n",
    "  - [Kubeflow Pipelines](https://www.kubeflow.org/docs/components/pipelines/overview/quickstart/)\n",
    "  - [MLFlow](https://mlflow.org/)\n",
    "  - [Azure Machine Learning](https://docs.microsoft.com/en-us/azure/machine-learning/tutorial-1st-experiment-hello-world)\n",
    "  - Tensorflow Extended\n",
    "- Moar AWS"
   ]
  },
  {
   "cell_type": "markdown",
   "id": "425ccfa3",
   "metadata": {},
   "source": [
    "![](images/AWLMLStack.png)"
   ]
  },
  {
   "cell_type": "markdown",
   "id": "d68a4b92",
   "metadata": {},
   "source": [
    "### (Example) Sagemaker Pipelines\n",
    "https://docs.aws.amazon.com/sagemaker/latest/dg/build-and-manage-steps.html"
   ]
  },
  {
   "cell_type": "markdown",
   "id": "3afa8e4a",
   "metadata": {},
   "source": [
    "<div>\n",
    "<img src=\"images/pipeline-full.png\" width=\"350\"/>\n",
    "</div>"
   ]
  },
  {
   "cell_type": "markdown",
   "id": "d45525a0",
   "metadata": {},
   "source": [
    "```python\n",
    "from sagemaker.sklearn.processing import SKLearnProcessor\n",
    "\n",
    "sklearn_processor = SKLearnProcessor(framework_version='0.20.0',\n",
    "                                     role=<role>,\n",
    "                                     instance_type='ml.m5.xlarge',\n",
    "                                     instance_count=1)\n",
    "\n",
    "from sagemaker.processing import ProcessingInput, ProcessingOutput\n",
    "from sagemaker.workflow.steps import ProcessingStep\n",
    "\n",
    "step_process = ProcessingStep(\n",
    "    name=\"AbaloneProcess\",\n",
    "    processor=sklearn_processor,\n",
    "    inputs=[\n",
    "      ProcessingInput(source=<input_data>, destination=\"/opt/ml/processing/input\"),\n",
    "    ],\n",
    "    outputs=[\n",
    "        ProcessingOutput(output_name=\"train\", source=\"/opt/ml/processing/train\"),\n",
    "        ProcessingOutput(output_name=\"validation\", source=\"/opt/ml/processing/validation\"),\n",
    "        ProcessingOutput(output_name=\"test\", source=\"/opt/ml/processing/test\")\n",
    "    ],\n",
    "    code=\"abalone/preprocessing.py\"\n",
    ")\n",
    "```"
   ]
  },
  {
   "cell_type": "markdown",
   "id": "b31faf5c",
   "metadata": {},
   "source": [
    "(Compare with 2.7)"
   ]
  },
  {
   "cell_type": "markdown",
   "id": "6600e08a",
   "metadata": {},
   "source": [
    "### END OF CLASS\n",
    "==================="
   ]
  },
  {
   "cell_type": "markdown",
   "id": "d66abb24",
   "metadata": {},
   "source": [
    "### Create html from notebook"
   ]
  },
  {
   "cell_type": "code",
   "execution_count": 58,
   "id": "bf85d20d",
   "metadata": {},
   "outputs": [
    {
     "name": "stdout",
     "output_type": "stream",
     "text": [
      "[NbConvertApp] WARNING | Config option `kernel_spec_manager_class` not recognized by `NbConvertApp`.\n",
      "[NbConvertApp] Converting notebook sentiment-classification-twitter-modularize.ipynb to html\n",
      "[NbConvertApp] Writing 717899 bytes to sentiment-classification-twitter-modularize.html\n"
     ]
    }
   ],
   "source": [
    "!jupyter nbconvert --to html sentiment-classification-twitter-modularize.ipynb"
   ]
  },
  {
   "cell_type": "code",
   "execution_count": 31,
   "id": "fe37a2a3",
   "metadata": {},
   "outputs": [
    {
     "name": "stdout",
     "output_type": "stream",
     "text": [
      "Writing .gitignore\n"
     ]
    }
   ],
   "source": [
    "%%writefile .gitignore\n",
    ".ipynb_checkpoints"
   ]
  },
  {
   "cell_type": "markdown",
   "id": "506c98ae",
   "metadata": {},
   "source": [
    "### Zip up files"
   ]
  },
  {
   "cell_type": "code",
   "execution_count": 59,
   "id": "7ec664f3",
   "metadata": {},
   "outputs": [
    {
     "name": "stdout",
     "output_type": "stream",
     "text": [
      "rm: cannot remove ‘sentiment-modularized.tar.gz’: No such file or directory\n"
     ]
    }
   ],
   "source": [
    "!rm sentiment-modularized.tar.gz"
   ]
  },
  {
   "cell_type": "code",
   "execution_count": 60,
   "id": "8ffa2091",
   "metadata": {},
   "outputs": [
    {
     "name": "stdout",
     "output_type": "stream",
     "text": [
      "./\n",
      "./delete_resources.py\n",
      "./.gitignore\n",
      "./README.md\n",
      "./resources/\n",
      "./resources/tweets_start.csv\n",
      "./resources/process_tweets.py\n",
      "./resources/keras_train_model.py\n",
      "./resources/tweets.csv\n",
      "./resources/tweets_processed.csv\n",
      "./resources/dummy.txt\n",
      "./sentiment-classification-twitter-modularize.html\n",
      "./images/\n",
      "./images/Processing-1.png\n",
      "./images/dl-containers.png\n",
      "./images/training-job.png\n",
      "./images/delete-bucket-01.png\n",
      "./images/stop-notebook.png\n",
      "./images/pipeline-full.png\n",
      "./images/unzipped-list.png\n",
      "./images/Terminal.png\n",
      "./images/processing-job.png\n",
      "./images/AWLMLStack.png\n",
      "./sentiment-classification-twitter-modularize.ipynb\n",
      "tar: .: file changed as we read it\n"
     ]
    }
   ],
   "source": [
    "!tar --exclude=\".ipynb_checkpoints*\" -zcvf sentiment-modularized.tar.gz ."
   ]
  },
  {
   "cell_type": "markdown",
   "id": "8f347113",
   "metadata": {},
   "source": [
    "### Delete stuff"
   ]
  },
  {
   "cell_type": "code",
   "execution_count": null,
   "id": "71124cdf",
   "metadata": {},
   "outputs": [],
   "source": [
    "#!rm -rf README.md images resources delete_resources.py sentiment-classification-twitter-modularize.html sentiment-modularized.tar.gz"
   ]
  },
  {
   "cell_type": "code",
   "execution_count": 57,
   "id": "1193bd66",
   "metadata": {},
   "outputs": [],
   "source": [
    "!rm -rf keras_model_files resources/keras_model_files"
   ]
  },
  {
   "cell_type": "code",
   "execution_count": null,
   "id": "e5d7faac",
   "metadata": {},
   "outputs": [],
   "source": []
  }
 ],
 "metadata": {
  "kernelspec": {
   "display_name": "conda_python3",
   "language": "python",
   "name": "conda_python3"
  },
  "language_info": {
   "codemirror_mode": {
    "name": "ipython",
    "version": 3
   },
   "file_extension": ".py",
   "mimetype": "text/x-python",
   "name": "python",
   "nbconvert_exporter": "python",
   "pygments_lexer": "ipython3",
   "version": "3.6.13"
  },
  "toc-autonumbering": false,
  "toc-showtags": false
 },
 "nbformat": 4,
 "nbformat_minor": 5
}
