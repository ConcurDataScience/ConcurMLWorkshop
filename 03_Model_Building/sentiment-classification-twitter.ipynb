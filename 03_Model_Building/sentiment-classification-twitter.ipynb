{
 "cells": [
  {
   "cell_type": "markdown",
   "id": "1d07a92e",
   "metadata": {},
   "source": [
    "# Twitter Sentiment Analysis Dataset - Overview\n",
    "# This is an entity-level sentiment analysis dataset of twitter. Given a message and an entity, the task is to judge the sentiment of the message about the entity. There are 4 classes in this dataset: Positive, Negative and Neutral and Irrelevant"
   ]
  },
  {
   "cell_type": "code",
   "execution_count": null,
   "id": "7f17236c",
   "metadata": {},
   "outputs": [],
   "source": [
    "!pip uninstall -y tensorflow-serving-api\n",
    "!pip install numpy==1.19.2\n",
    "!pip install awswrangler\n",
    "!pip install wordcloud\n",
    "!pip install pyathena\n",
    "!pip install tensorflow-cpu==2.6.1\n",
    "!pip uninstall -y keras"
   ]
  },
  {
   "cell_type": "markdown",
   "id": "bb163bf1",
   "metadata": {},
   "source": [
    "# Create folders to save our model result files"
   ]
  },
  {
   "cell_type": "code",
   "execution_count": 60,
   "id": "cdeebe59",
   "metadata": {},
   "outputs": [],
   "source": [
    "import os\n",
    "current_path = os.getcwd()\n",
    "os.makedirs(f'{current_path}/random_forest_model_files', exist_ok = True)\n",
    "os.makedirs(f'{current_path}/keras_model_files', exist_ok = True)"
   ]
  },
  {
   "cell_type": "markdown",
   "id": "07f42bf7",
   "metadata": {},
   "source": [
    "# Import Headers"
   ]
  },
  {
   "cell_type": "code",
   "execution_count": 8,
   "id": "7a198214",
   "metadata": {},
   "outputs": [
    {
     "name": "stderr",
     "output_type": "stream",
     "text": [
      "[nltk_data] Downloading package stopwords to\n",
      "[nltk_data]     /home/ec2-user/nltk_data...\n",
      "[nltk_data]   Package stopwords is already up-to-date!\n",
      "[nltk_data] Downloading package wordnet to /home/ec2-user/nltk_data...\n",
      "[nltk_data]   Package wordnet is already up-to-date!\n"
     ]
    }
   ],
   "source": [
    "# Pandas, SKLEARN headers\n",
    "import pandas as pd\n",
    "import re\n",
    "from sklearn.ensemble import RandomForestClassifier\n",
    "\n",
    "from tqdm import tqdm\n",
    "tqdm.pandas()\n",
    "pd.set_option('max_colwidth',0)\n",
    "import numpy as np\n",
    "import matplotlib.pyplot as plt\n",
    "from sklearn.model_selection import train_test_split\n",
    "from pretty_confusion_matrix import *\n",
    "from sklearn.feature_extraction.text import CountVectorizer, TfidfVectorizer\n",
    "import joblib\n",
    "import pickle\n",
    "import io\n",
    "import os\n",
    "import json\n",
    "\n",
    "#NLTK headers\n",
    "import nltk\n",
    "from nltk.tokenize import word_tokenize\n",
    "nltk.download('stopwords')\n",
    "nltk.download('wordnet')\n",
    "from nltk.stem import WordNetLemmatizer\n",
    "import awswrangler as wr\n",
    "\n",
    "# Keras headers\n",
    "import tensorflow as tf\n",
    "from tensorflow.keras.models import save_model\n",
    "from tensorflow.keras.models import Sequential\n",
    "from tensorflow.keras.preprocessing.text import Tokenizer\n",
    "from tensorflow.keras.layers import Dense, Dropout\n",
    "from tensorflow.keras.layers import Flatten\n",
    "from tensorflow.keras.layers import Embedding\n",
    "from tensorflow.keras.layers import Bidirectional, LSTM\n",
    "from tensorflow.keras.preprocessing import sequence\n",
    "from tensorflow.keras.preprocessing.sequence import pad_sequences\n",
    "from tensorflow.keras.callbacks import EarlyStopping\n",
    "from tensorflow.keras.models import load_model\n",
    "from tensorflow.keras.preprocessing.text import tokenizer_from_json\n",
    "#from pandas_profiling import ProfileReport"
   ]
  },
  {
   "cell_type": "code",
   "execution_count": 2,
   "id": "5cb8a5b0",
   "metadata": {},
   "outputs": [],
   "source": [
    "# Declare variables based on what you have already provided in the previous sessions\n",
    "BUCKET_NAME = 'twitter-sentiment-adithya-kumar'\n",
    "S3_BUCKET_FOLDER = f's3://{BUCKET_NAME}/model-training/model-results/'\n",
    "ATHENA_STAGING_FOLDER = f's3://{BUCKET_NAME}/athena_log/'"
   ]
  },
  {
   "cell_type": "markdown",
   "id": "9290c5da",
   "metadata": {},
   "source": [
    "# If you have attended the previous session and have loaded the data in the athena table"
   ]
  },
  {
   "cell_type": "code",
   "execution_count": null,
   "id": "6bd0140f",
   "metadata": {},
   "outputs": [],
   "source": [
    "from pyathena import connect\n",
    "import pandas as pd\n",
    "\n",
    "conn = connect(s3_staging_dir=ATHENA_STAGING_FOLDER,\n",
    "               region_name=\"us-west-2\")\n",
    "df = pd.read_sql_query(\"\"\" SELECT * FROM \"enrich_db\".\"enriched_data\" \"\"\", conn)"
   ]
  },
  {
   "cell_type": "markdown",
   "id": "36c1b9d5",
   "metadata": {},
   "source": [
    "# If otherwise, please ignore the command above and run the below command"
   ]
  },
  {
   "cell_type": "code",
   "execution_count": 16,
   "id": "509457c3",
   "metadata": {},
   "outputs": [],
   "source": [
    "!tar -xf '/home/ec2-user/SageMaker/ConcurMLWorkshop/01_Data_Prep/enriched_data.tar.gz'\n",
    "\n",
    "import glob\n",
    "list_of_files = glob.glob(\"/home/ec2-user/SageMaker/ConcurMLWorkshop/03_Model_Building/enriched_data/*\")\n",
    "dfs = []\n",
    "for csv in list_of_files:\n",
    "    temp_df = pd.read_csv(csv, sep='\\t')\n",
    "    dfs.append(temp_df)\n",
    "df = pd.concat(dfs)"
   ]
  },
  {
   "cell_type": "code",
   "execution_count": 17,
   "id": "fc199746",
   "metadata": {},
   "outputs": [
    {
     "data": {
      "text/plain": [
       "(77368, 6)"
      ]
     },
     "execution_count": 17,
     "metadata": {},
     "output_type": "execute_result"
    }
   ],
   "source": [
    "df.shape"
   ]
  },
  {
   "cell_type": "markdown",
   "id": "ea68500a",
   "metadata": {},
   "source": [
    "# Rename columns"
   ]
  },
  {
   "cell_type": "code",
   "execution_count": 13,
   "id": "8d03f9d3",
   "metadata": {},
   "outputs": [],
   "source": [
    "# Rename columns\n",
    "df.columns = ['tweet_id', 'dp_unique_key', 'sentiment', 'tweet_text', 'updated_date', 'entity']"
   ]
  },
  {
   "cell_type": "markdown",
   "id": "440b24c5",
   "metadata": {},
   "source": [
    "# Look at dataset"
   ]
  },
  {
   "cell_type": "code",
   "execution_count": 14,
   "id": "9b11b6c0",
   "metadata": {},
   "outputs": [
    {
     "data": {
      "text/html": [
       "<div>\n",
       "<style scoped>\n",
       "    .dataframe tbody tr th:only-of-type {\n",
       "        vertical-align: middle;\n",
       "    }\n",
       "\n",
       "    .dataframe tbody tr th {\n",
       "        vertical-align: top;\n",
       "    }\n",
       "\n",
       "    .dataframe thead th {\n",
       "        text-align: right;\n",
       "    }\n",
       "</style>\n",
       "<table border=\"1\" class=\"dataframe\">\n",
       "  <thead>\n",
       "    <tr style=\"text-align: right;\">\n",
       "      <th></th>\n",
       "      <th>tweet_id</th>\n",
       "      <th>dp_unique_key</th>\n",
       "      <th>sentiment</th>\n",
       "      <th>tweet_text</th>\n",
       "      <th>updated_date</th>\n",
       "      <th>entity</th>\n",
       "    </tr>\n",
       "  </thead>\n",
       "  <tbody>\n",
       "    <tr>\n",
       "      <th>976</th>\n",
       "      <td>12888</td>\n",
       "      <td>uq_id_9799</td>\n",
       "      <td>Positive</td>\n",
       "      <td>I will buy it IMMEDIATELY. Hello @ XboxPope!</td>\n",
       "      <td>21-03-2022</td>\n",
       "      <td>Xbox(Xseries)</td>\n",
       "    </tr>\n",
       "    <tr>\n",
       "      <th>977</th>\n",
       "      <td>12891</td>\n",
       "      <td>uq_id_9817</td>\n",
       "      <td>Negative</td>\n",
       "      <td>Frankly, the problem is more that next-gen games are going to be massive, so this kind of expanded memory might eventually be needed and that takes away some of the value that games have.</td>\n",
       "      <td>21-03-2022</td>\n",
       "      <td>Xbox(Xseries)</td>\n",
       "    </tr>\n",
       "    <tr>\n",
       "      <th>978</th>\n",
       "      <td>12913</td>\n",
       "      <td>uq_id_9951</td>\n",
       "      <td>Neutral</td>\n",
       "      <td>Reports are going around regarding cancelled preorders in both the PlayStation 5 v Xbox Series X. Apparently, several customers are receiving cancellation notices to GameStop by Target.On gamingcannon.com/2020/10/23/rep…</td>\n",
       "      <td>21-03-2022</td>\n",
       "      <td>Xbox(Xseries)</td>\n",
       "    </tr>\n",
       "    <tr>\n",
       "      <th>979</th>\n",
       "      <td>12919</td>\n",
       "      <td>uq_id_9984</td>\n",
       "      <td>Irrelevant</td>\n",
       "      <td>\\\\\\\\\\\\\"\"</td>\n",
       "      <td>21-03-2022</td>\n",
       "      <td>Xbox(Xseries)</td>\n",
       "    </tr>\n",
       "    <tr>\n",
       "      <th>980</th>\n",
       "      <td>12921</td>\n",
       "      <td>uq_id_9999</td>\n",
       "      <td>Positive</td>\n",
       "      <td>Xbox looking around</td>\n",
       "      <td>21-03-2022</td>\n",
       "      <td>Xbox(Xseries)</td>\n",
       "    </tr>\n",
       "  </tbody>\n",
       "</table>\n",
       "</div>"
      ],
      "text/plain": [
       "     tweet_id dp_unique_key   sentiment  \\\n",
       "976  12888     uq_id_9799    Positive     \n",
       "977  12891     uq_id_9817    Negative     \n",
       "978  12913     uq_id_9951    Neutral      \n",
       "979  12919     uq_id_9984    Irrelevant   \n",
       "980  12921     uq_id_9999    Positive     \n",
       "\n",
       "                                                                                                                                                                                                                       tweet_text  \\\n",
       "976  I will buy it IMMEDIATELY. Hello @ XboxPope!                                                                                                                                                                                   \n",
       "977  Frankly, the problem is more that next-gen games are going to be massive, so this kind of expanded memory might eventually be needed and that takes away some of the value that games have.                                    \n",
       "978  Reports are going around regarding cancelled preorders in both the PlayStation 5 v Xbox Series X. Apparently, several customers are receiving cancellation notices to GameStop by Target.On gamingcannon.com/2020/10/23/rep…   \n",
       "979  \\\\\\\\\\\\\"\"                                                                                                                                                                                                                       \n",
       "980  Xbox looking around                                                                                                                                                                                                            \n",
       "\n",
       "    updated_date         entity  \n",
       "976  21-03-2022   Xbox(Xseries)  \n",
       "977  21-03-2022   Xbox(Xseries)  \n",
       "978  21-03-2022   Xbox(Xseries)  \n",
       "979  21-03-2022   Xbox(Xseries)  \n",
       "980  21-03-2022   Xbox(Xseries)  "
      ]
     },
     "execution_count": 14,
     "metadata": {},
     "output_type": "execute_result"
    }
   ],
   "source": [
    "df.tail(5)"
   ]
  },
  {
   "cell_type": "code",
   "execution_count": 15,
   "id": "14f0dd09",
   "metadata": {},
   "outputs": [
    {
     "data": {
      "text/plain": [
       "Negative      23185\n",
       "Positive      21739\n",
       "Neutral       19357\n",
       "Irrelevant    13087\n",
       "Name: sentiment, dtype: int64"
      ]
     },
     "execution_count": 15,
     "metadata": {},
     "output_type": "execute_result"
    }
   ],
   "source": [
    "df.sentiment.value_counts()"
   ]
  },
  {
   "cell_type": "code",
   "execution_count": 37,
   "id": "7bf3b8b2",
   "metadata": {},
   "outputs": [
    {
     "name": "stdout",
     "output_type": "stream",
     "text": [
      "<class 'pandas.core.frame.DataFrame'>\n",
      "RangeIndex: 77368 entries, 0 to 77367\n",
      "Data columns (total 6 columns):\n",
      " #   Column         Non-Null Count  Dtype \n",
      "---  ------         --------------  ----- \n",
      " 0   tweet_id       77368 non-null  int64 \n",
      " 1   dp_unique_key  77368 non-null  object\n",
      " 2   sentiment      77368 non-null  object\n",
      " 3   tweet_text     77368 non-null  object\n",
      " 4   updated_date   77368 non-null  object\n",
      " 5   entity         77368 non-null  object\n",
      "dtypes: int64(1), object(5)\n",
      "memory usage: 3.5+ MB\n"
     ]
    }
   ],
   "source": [
    "df.info()"
   ]
  },
  {
   "cell_type": "markdown",
   "id": "b75b8597",
   "metadata": {},
   "source": [
    "# According to the dataset, they regard messages that are not relevant to the entity (i.e. Irrelevant) as Neutral."
   ]
  },
  {
   "cell_type": "code",
   "execution_count": 38,
   "id": "4a736f0f",
   "metadata": {},
   "outputs": [],
   "source": [
    "df['sentiment'] = np.where(df.sentiment=='Irrelevant', 'Neutral', df.sentiment)"
   ]
  },
  {
   "cell_type": "code",
   "execution_count": 39,
   "id": "d035eaab",
   "metadata": {},
   "outputs": [
    {
     "data": {
      "text/plain": [
       "Neutral     32444\n",
       "Negative    23185\n",
       "Positive    21739\n",
       "Name: sentiment, dtype: int64"
      ]
     },
     "execution_count": 39,
     "metadata": {},
     "output_type": "execute_result"
    }
   ],
   "source": [
    "df.sentiment.value_counts()"
   ]
  },
  {
   "cell_type": "markdown",
   "id": "b802e171",
   "metadata": {},
   "source": [
    "# Filter out rows where tweet_text is NULL"
   ]
  },
  {
   "cell_type": "code",
   "execution_count": 40,
   "id": "511cbbbb",
   "metadata": {},
   "outputs": [],
   "source": [
    "# fiter data where tweet is present\n",
    "df = df[df.tweet_text.isnull()==False]\n",
    "df['tweet_text'] = df['tweet_text'].astype(str)"
   ]
  },
  {
   "cell_type": "markdown",
   "id": "f8d5dca8",
   "metadata": {},
   "source": [
    "# Stratified Sampling - For this session purposes lets restrict to 8000 records for each class"
   ]
  },
  {
   "cell_type": "code",
   "execution_count": 41,
   "id": "da0f55db",
   "metadata": {},
   "outputs": [],
   "source": [
    "number_of_rows_each_class = 8000\n",
    "dfs_list = []\n",
    "for unique_sentiment in np.unique(df.sentiment):\n",
    "    df_sentiment = df[df.sentiment == unique_sentiment]\n",
    "    if df_sentiment.shape[0] > number_of_rows_each_class:\n",
    "        df_sentiment = df_sentiment.sample(n=number_of_rows_each_class, random_state = 42)\n",
    "        \n",
    "    dfs_list.append(df_sentiment)\n",
    "df = pd.concat(dfs_list)\n",
    "df = df.sample(frac=1, random_state = 42)\n",
    "df = df.reset_index(drop = True)"
   ]
  },
  {
   "cell_type": "code",
   "execution_count": 42,
   "id": "0a28149d",
   "metadata": {},
   "outputs": [
    {
     "data": {
      "text/plain": [
       "Negative    8000\n",
       "Neutral     8000\n",
       "Positive    8000\n",
       "Name: sentiment, dtype: int64"
      ]
     },
     "execution_count": 42,
     "metadata": {},
     "output_type": "execute_result"
    }
   ],
   "source": [
    "df.sentiment.value_counts()"
   ]
  },
  {
   "cell_type": "markdown",
   "id": "69e0d385",
   "metadata": {},
   "source": [
    "# We might want to look at what is present in the tweets. So a wordcloud can be helpful"
   ]
  },
  {
   "cell_type": "code",
   "execution_count": 1,
   "id": "25ce3256",
   "metadata": {},
   "outputs": [],
   "source": [
    "import os\n",
    "from wordcloud import WordCloud\n",
    "def word_cloud(tweets):\n",
    "    #We get the directory that we are working on\n",
    "    file = os.getcwd()\n",
    "    #We read the mask image into a numpy array    \n",
    "    #We generate the wordcloud using the series created and the mask \n",
    "    word_cloud = WordCloud(width=2000, height=1000, max_font_size=200, \n",
    "                           background_color=\"black\", max_words=2000, \n",
    "                           contour_width=1, contour_color=\"steelblue\", \n",
    "                           colormap=\"nipy_spectral\").generate(tweets)\n",
    "\n",
    "    #Now we plot the figure\n",
    "    plt.figure(figsize=(20,20))\n",
    "    plt.imshow(word_cloud, interpolation=\"hermite\")\n",
    "    plt.axis(\"off\")    \n",
    "    plt.show()   \n"
   ]
  },
  {
   "cell_type": "code",
   "execution_count": 2,
   "id": "e4beea18",
   "metadata": {},
   "outputs": [
    {
     "ename": "NameError",
     "evalue": "name 'df' is not defined",
     "output_type": "error",
     "traceback": [
      "\u001b[0;31m---------------------------------------------------------------------------\u001b[0m",
      "\u001b[0;31mNameError\u001b[0m                                 Traceback (most recent call last)",
      "\u001b[0;32m<ipython-input-2-65e53d0c3a32>\u001b[0m in \u001b[0;36m<module>\u001b[0;34m\u001b[0m\n\u001b[1;32m      1\u001b[0m \u001b[0;31m# Positive tweets word cloud\u001b[0m\u001b[0;34m\u001b[0m\u001b[0;34m\u001b[0m\u001b[0;34m\u001b[0m\u001b[0m\n\u001b[0;32m----> 2\u001b[0;31m \u001b[0msample_df\u001b[0m \u001b[0;34m=\u001b[0m \u001b[0mdf\u001b[0m\u001b[0;34m[\u001b[0m\u001b[0mdf\u001b[0m\u001b[0;34m.\u001b[0m\u001b[0msentiment\u001b[0m\u001b[0;34m==\u001b[0m\u001b[0;34m'Positive'\u001b[0m\u001b[0;34m]\u001b[0m\u001b[0;34m.\u001b[0m\u001b[0mtweet_text\u001b[0m\u001b[0;34m.\u001b[0m\u001b[0mhead\u001b[0m\u001b[0;34m(\u001b[0m\u001b[0;36m50\u001b[0m\u001b[0;34m)\u001b[0m\u001b[0;34m\u001b[0m\u001b[0;34m\u001b[0m\u001b[0m\n\u001b[0m\u001b[1;32m      3\u001b[0m \u001b[0mword_cloud\u001b[0m\u001b[0;34m(\u001b[0m\u001b[0msample_df\u001b[0m\u001b[0;34m.\u001b[0m\u001b[0mstr\u001b[0m\u001b[0;34m.\u001b[0m\u001b[0mcat\u001b[0m\u001b[0;34m(\u001b[0m\u001b[0msep\u001b[0m\u001b[0;34m=\u001b[0m\u001b[0;34m' '\u001b[0m\u001b[0;34m)\u001b[0m\u001b[0;34m)\u001b[0m\u001b[0;34m\u001b[0m\u001b[0;34m\u001b[0m\u001b[0m\n",
      "\u001b[0;31mNameError\u001b[0m: name 'df' is not defined"
     ]
    }
   ],
   "source": [
    "# Positive tweets word cloud\n",
    "sample_df = df[df.sentiment=='Positive'].tweet_text.head(50)\n",
    "word_cloud(sample_df.str.cat(sep=' ')) "
   ]
  },
  {
   "cell_type": "markdown",
   "id": "c60b0300",
   "metadata": {},
   "source": [
    "# Define output labels as integers"
   ]
  },
  {
   "cell_type": "code",
   "execution_count": 45,
   "id": "bc349ea3",
   "metadata": {},
   "outputs": [],
   "source": [
    "# Assign each of the classes to a number as certain ML models doesn't accept strings \n",
    "class_to_index = {\"Neutral\":0, \"Negative\":1, \"Positive\": 2}\n",
    "\n",
    "#Creates a reverse dictionary\n",
    "index_to_class = dict((v,k) for k, v in class_to_index.items())\n",
    "\n",
    "#Creates lambda functions, applying the appropriate dictionary\n",
    "names_to_ids = lambda n: np.array([class_to_index.get(x) for x in n])\n",
    "ids_to_names = lambda n: np.array([index_to_class.get(x) for x in n])\n",
    "\n",
    "#Convert the \"Sentiment\" column into indexes\n",
    "df[\"sentiment_index\"] = names_to_ids(df[\"sentiment\"])"
   ]
  },
  {
   "cell_type": "markdown",
   "id": "cdd13a1f",
   "metadata": {},
   "source": [
    "# Modelling - Classic TF-IDF model\n"
   ]
  },
  {
   "cell_type": "markdown",
   "id": "2115510d",
   "metadata": {},
   "source": [
    "# Prepare dataset for modelling"
   ]
  },
  {
   "cell_type": "code",
   "execution_count": 70,
   "id": "d3d020e8",
   "metadata": {},
   "outputs": [
    {
     "name": "stderr",
     "output_type": "stream",
     "text": [
      "100%|██████████| 24000/24000 [00:03<00:00, 7570.97it/s]\n"
     ]
    }
   ],
   "source": [
    "stopwords = nltk.corpus.stopwords.words('english')\n",
    "lemmatizer = WordNetLemmatizer()\n",
    "\n",
    "def preprocess_tweet(tweet_text):\n",
    "    # removes punctuations, numbers from text\n",
    "    tweet_text = re.sub('[^a-zA-Z]', ' ', tweet_text)\n",
    "    # Convert to lower case\n",
    "    tweet_text = tweet_text.lower()\n",
    "    # Split the text by space\n",
    "    tweet_text = tweet_text.split()\n",
    "    tweet_text = [lemmatizer.lemmatize(word) for word in tweet_text if (not(word in set(stopwords))) & (len(word)>2) ]\n",
    "    tweet_text = ' '.join(tweet_text)\n",
    "    return tweet_text\n",
    "\n",
    "df['tweet_text_preprocessed'] = df['tweet_text'].progress_apply(preprocess_tweet)\n",
    "#df['tweet_tokenized'] = df['tweet_tokenized'].progress_apply(lemmatize)\n",
    "\n"
   ]
  },
  {
   "cell_type": "code",
   "execution_count": 71,
   "id": "a011d75d",
   "metadata": {},
   "outputs": [
    {
     "data": {
      "text/plain": [
       "'aaa super awesome'"
      ]
     },
     "execution_count": 71,
     "metadata": {},
     "output_type": "execute_result"
    }
   ],
   "source": [
    "# Example of pre-processing\n",
    "a = 'hi 9 9ad .aaa super    awesome'\n",
    "preprocess_tweet(a)"
   ]
  },
  {
   "cell_type": "markdown",
   "id": "b6780e83",
   "metadata": {},
   "source": [
    "# Take a look at pre-processed text"
   ]
  },
  {
   "cell_type": "code",
   "execution_count": 72,
   "id": "ed33f8b7",
   "metadata": {},
   "outputs": [
    {
     "data": {
      "text/html": [
       "<div>\n",
       "<style scoped>\n",
       "    .dataframe tbody tr th:only-of-type {\n",
       "        vertical-align: middle;\n",
       "    }\n",
       "\n",
       "    .dataframe tbody tr th {\n",
       "        vertical-align: top;\n",
       "    }\n",
       "\n",
       "    .dataframe thead th {\n",
       "        text-align: right;\n",
       "    }\n",
       "</style>\n",
       "<table border=\"1\" class=\"dataframe\">\n",
       "  <thead>\n",
       "    <tr style=\"text-align: right;\">\n",
       "      <th></th>\n",
       "      <th>tweet_text</th>\n",
       "      <th>tweet_text_preprocessed</th>\n",
       "      <th>sentiment</th>\n",
       "    </tr>\n",
       "  </thead>\n",
       "  <tbody>\n",
       "    <tr>\n",
       "      <th>0</th>\n",
       "      <td>Amazon Prime Day is still running, but belatedly.</td>\n",
       "      <td>amazon prime day still running belatedly</td>\n",
       "      <td>Negative</td>\n",
       "    </tr>\n",
       "    <tr>\n",
       "      <th>1</th>\n",
       "      <td>In Amazing?</td>\n",
       "      <td>amazing</td>\n",
       "      <td>Positive</td>\n",
       "    </tr>\n",
       "    <tr>\n",
       "      <th>2</th>\n",
       "      <td>this is new</td>\n",
       "      <td>new</td>\n",
       "      <td>Positive</td>\n",
       "    </tr>\n",
       "    <tr>\n",
       "      <th>3</th>\n",
       "      <td>I Love Microsoft paint lol close enough ey pic.twitter.com/jvhE2PoCAb</td>\n",
       "      <td>love microsoft paint lol close enough pic twitter com jvhe pocab</td>\n",
       "      <td>Positive</td>\n",
       "    </tr>\n",
       "    <tr>\n",
       "      <th>4</th>\n",
       "      <td>Beautiful...</td>\n",
       "      <td>beautiful</td>\n",
       "      <td>Positive</td>\n",
       "    </tr>\n",
       "    <tr>\n",
       "      <th>5</th>\n",
       "      <td>she is getting absolutely comfortable with these nerfs :(</td>\n",
       "      <td>getting absolutely comfortable nerfs</td>\n",
       "      <td>Negative</td>\n",
       "    </tr>\n",
       "    <tr>\n",
       "      <th>6</th>\n",
       "      <td>C. HP Lovecraft + Punk = Scary. caf.tv / divideacon</td>\n",
       "      <td>lovecraft punk scary caf divideacon</td>\n",
       "      <td>Negative</td>\n",
       "    </tr>\n",
       "    <tr>\n",
       "      <th>7</th>\n",
       "      <td>That's why I didn't buy Borderlands 3. Randy Pitchford is damn scum.</td>\n",
       "      <td>buy borderland randy pitchford damn scum</td>\n",
       "      <td>Negative</td>\n",
       "    </tr>\n",
       "    <tr>\n",
       "      <th>8</th>\n",
       "      <td>I got the best horses in the back</td>\n",
       "      <td>got best horse back</td>\n",
       "      <td>Neutral</td>\n",
       "    </tr>\n",
       "    <tr>\n",
       "      <th>9</th>\n",
       "      <td>Thank you Blizzard..</td>\n",
       "      <td>thank blizzard</td>\n",
       "      <td>Positive</td>\n",
       "    </tr>\n",
       "    <tr>\n",
       "      <th>10</th>\n",
       "      <td>\"\\\"@GhostRecon What's wrong with the game NOW? Why can't we \\\"\\\"connect\\\"\\\"?. . And, will you ever fix this game. The silence is deafening.\\\"\"</td>\n",
       "      <td>ghostrecon wrong game connect ever fix game silence deafening</td>\n",
       "      <td>Negative</td>\n",
       "    </tr>\n",
       "    <tr>\n",
       "      <th>11</th>\n",
       "      <td>BLACK OPS COLD WAR OFFICIAL REVEAL! (New Trailer Thoughts) youtu.be/5YgBjhf96zY via @YouTube I can’t wait bro! Love the video, getting me hype .  @RealThunder402</td>\n",
       "      <td>black ops cold war official reveal new trailer thought youtu ygbjhf via youtube wait bro love video getting hype realthunder</td>\n",
       "      <td>Positive</td>\n",
       "    </tr>\n",
       "    <tr>\n",
       "      <th>12</th>\n",
       "      <td>Huge shout out to @TFG_Football for taking the time to show people how easy it does npm install mods under the PC for @EAMaddenNFL . - youtube.com/watch?v=29-x2v…</td>\n",
       "      <td>huge shout tfg football taking time show people easy npm install mod eamaddennfl youtube com watch</td>\n",
       "      <td>Positive</td>\n",
       "    </tr>\n",
       "    <tr>\n",
       "      <th>13</th>\n",
       "      <td>-700 elo on streak in hearthstone bg btw, love pack leader</td>\n",
       "      <td>elo streak hearthstone btw love pack leader</td>\n",
       "      <td>Neutral</td>\n",
       "    </tr>\n",
       "    <tr>\n",
       "      <th>14</th>\n",
       "      <td>FUCK UP TOXIC PEOPLE ON OVERWATCH</td>\n",
       "      <td>fuck toxic people overwatch</td>\n",
       "      <td>Neutral</td>\n",
       "    </tr>\n",
       "    <tr>\n",
       "      <th>15</th>\n",
       "      <td>CSGO has moba-style abilities, but it doesn't depend on them as much as overwatch. I played LOT csgo and a good bit of OW, so it really seems perfect.</td>\n",
       "      <td>csgo moba style ability depend much overwatch played lot csgo good bit really seems perfect</td>\n",
       "      <td>Positive</td>\n",
       "    </tr>\n",
       "    <tr>\n",
       "      <th>16</th>\n",
       "      <td>League of Legends. . Login Attempts Failing. . Posted: January 14, 2020, 1:28 AM GMT+1. . We're aware of a problem causing login attempts to fail and are working on a fix.. . Platforms affected: Windows, macOS</td>\n",
       "      <td>league legend login attempt failing posted january gmt aware problem causing login attempt fail working fix platform affected window macos</td>\n",
       "      <td>Negative</td>\n",
       "    </tr>\n",
       "    <tr>\n",
       "      <th>17</th>\n",
       "      <td>Excited to see the 3080s 699 msrp become 1200 aud cause NVIDIA and the Aussie electronic tax merely for existing here. pic.twitter.com/HfZTrcqaMo</td>\n",
       "      <td>excited see msrp become aud cause nvidia aussie electronic tax merely existing pic twitter com hfztrcqamo</td>\n",
       "      <td>Negative</td>\n",
       "    </tr>\n",
       "    <tr>\n",
       "      <th>18</th>\n",
       "      <td>Nvidia recently bought ARM, wtf.. That's weird!</td>\n",
       "      <td>nvidia recently bought arm wtf weird</td>\n",
       "      <td>Positive</td>\n",
       "    </tr>\n",
       "    <tr>\n",
       "      <th>19</th>\n",
       "      <td>Thanks @verizon for the free 15G of my hotspot for month.</td>\n",
       "      <td>thanks verizon free hotspot month</td>\n",
       "      <td>Positive</td>\n",
       "    </tr>\n",
       "    <tr>\n",
       "      <th>20</th>\n",
       "      <td>No i you like do u motherfucker now kiss me</td>\n",
       "      <td>like motherfucker kiss</td>\n",
       "      <td>Positive</td>\n",
       "    </tr>\n",
       "    <tr>\n",
       "      <th>21</th>\n",
       "      <td>Unfortunately we have came to the decision to remove @USpfl from his Admin Position in UPL FIFA after an incident yesterday . . We do not want to be associated with incidents like this and feel a lack of professionalism has been shown.. . The UPL SPFL will now be run by the owner.</td>\n",
       "      <td>unfortunately came decision remove uspfl admin position upl fifa incident yesterday want associated incident like feel lack professionalism shown upl spfl run owner</td>\n",
       "      <td>Neutral</td>\n",
       "    </tr>\n",
       "    <tr>\n",
       "      <th>22</th>\n",
       "      <td>We all appreciate all that you do for building our community! Thanks everyone for for all of our your hardwork and sacrifice to keep helping us safe. @floyd_ven... @AkinsMel @HomeDepot</td>\n",
       "      <td>appreciate building community thanks everyone hardwork sacrifice keep helping safe floyd ven akinsmel homedepot</td>\n",
       "      <td>Positive</td>\n",
       "    </tr>\n",
       "    <tr>\n",
       "      <th>23</th>\n",
       "      <td>\"\"</td>\n",
       "      <td></td>\n",
       "      <td>Positive</td>\n",
       "    </tr>\n",
       "    <tr>\n",
       "      <th>24</th>\n",
       "      <td>My playing teams faced off in the Champions League yesterday and that's what all my text apps looked like.. I like these assholes xD pic.wikipedia.com / NT3CfSlteN</td>\n",
       "      <td>playing team faced champion league yesterday text apps looked like like asshole pic wikipedia com cfslten</td>\n",
       "      <td>Positive</td>\n",
       "    </tr>\n",
       "    <tr>\n",
       "      <th>25</th>\n",
       "      <td>Call of Duty: Modern Warfare and the problem with its child soldier level - newsychronicles.com/?p=3309&amp;utm_so…</td>\n",
       "      <td>call duty modern warfare problem child soldier level newsychronicles com utm</td>\n",
       "      <td>Neutral</td>\n",
       "    </tr>\n",
       "    <tr>\n",
       "      <th>26</th>\n",
       "      <td>I still really get it</td>\n",
       "      <td>still really get</td>\n",
       "      <td>Negative</td>\n",
       "    </tr>\n",
       "    <tr>\n",
       "      <th>27</th>\n",
       "      <td>i REALLY miss this</td>\n",
       "      <td>really miss</td>\n",
       "      <td>Negative</td>\n",
       "    </tr>\n",
       "    <tr>\n",
       "      <th>28</th>\n",
       "      <td>Worst way to die in the</td>\n",
       "      <td>worst way die</td>\n",
       "      <td>Negative</td>\n",
       "    </tr>\n",
       "    <tr>\n",
       "      <th>29</th>\n",
       "      <td>It's amazing how many go games you can win when @ MrBaconThomas is actually trying.</td>\n",
       "      <td>amazing many game win mrbaconthomas actually trying</td>\n",
       "      <td>Positive</td>\n",
       "    </tr>\n",
       "  </tbody>\n",
       "</table>\n",
       "</div>"
      ],
      "text/plain": [
       "                                                                                                                                                                                                                                                                                   tweet_text  \\\n",
       "0   Amazon Prime Day is still running, but belatedly.                                                                                                                                                                                                                                           \n",
       "1   In Amazing?                                                                                                                                                                                                                                                                                 \n",
       "2   this is new                                                                                                                                                                                                                                                                                 \n",
       "3   I Love Microsoft paint lol close enough ey pic.twitter.com/jvhE2PoCAb                                                                                                                                                                                                                       \n",
       "4   Beautiful...                                                                                                                                                                                                                                                                                \n",
       "5   she is getting absolutely comfortable with these nerfs :(                                                                                                                                                                                                                                   \n",
       "6   C. HP Lovecraft + Punk = Scary. caf.tv / divideacon                                                                                                                                                                                                                                         \n",
       "7   That's why I didn't buy Borderlands 3. Randy Pitchford is damn scum.                                                                                                                                                                                                                        \n",
       "8   I got the best horses in the back                                                                                                                                                                                                                                                           \n",
       "9   Thank you Blizzard..                                                                                                                                                                                                                                                                        \n",
       "10  \"\\\"@GhostRecon What's wrong with the game NOW? Why can't we \\\"\\\"connect\\\"\\\"?. . And, will you ever fix this game. The silence is deafening.\\\"\"                                                                                                                                              \n",
       "11  BLACK OPS COLD WAR OFFICIAL REVEAL! (New Trailer Thoughts) youtu.be/5YgBjhf96zY via @YouTube I can’t wait bro! Love the video, getting me hype .  @RealThunder402                                                                                                                           \n",
       "12  Huge shout out to @TFG_Football for taking the time to show people how easy it does npm install mods under the PC for @EAMaddenNFL . - youtube.com/watch?v=29-x2v…                                                                                                                          \n",
       "13  -700 elo on streak in hearthstone bg btw, love pack leader                                                                                                                                                                                                                                  \n",
       "14  FUCK UP TOXIC PEOPLE ON OVERWATCH                                                                                                                                                                                                                                                           \n",
       "15  CSGO has moba-style abilities, but it doesn't depend on them as much as overwatch. I played LOT csgo and a good bit of OW, so it really seems perfect.                                                                                                                                      \n",
       "16  League of Legends. . Login Attempts Failing. . Posted: January 14, 2020, 1:28 AM GMT+1. . We're aware of a problem causing login attempts to fail and are working on a fix.. . Platforms affected: Windows, macOS                                                                           \n",
       "17  Excited to see the 3080s 699 msrp become 1200 aud cause NVIDIA and the Aussie electronic tax merely for existing here. pic.twitter.com/HfZTrcqaMo                                                                                                                                           \n",
       "18  Nvidia recently bought ARM, wtf.. That's weird!                                                                                                                                                                                                                                             \n",
       "19  Thanks @verizon for the free 15G of my hotspot for month.                                                                                                                                                                                                                                   \n",
       "20  No i you like do u motherfucker now kiss me                                                                                                                                                                                                                                                 \n",
       "21  Unfortunately we have came to the decision to remove @USpfl from his Admin Position in UPL FIFA after an incident yesterday . . We do not want to be associated with incidents like this and feel a lack of professionalism has been shown.. . The UPL SPFL will now be run by the owner.   \n",
       "22  We all appreciate all that you do for building our community! Thanks everyone for for all of our your hardwork and sacrifice to keep helping us safe. @floyd_ven... @AkinsMel @HomeDepot                                                                                                    \n",
       "23  \"\"                                                                                                                                                                                                                                                                                          \n",
       "24  My playing teams faced off in the Champions League yesterday and that's what all my text apps looked like.. I like these assholes xD pic.wikipedia.com / NT3CfSlteN                                                                                                                         \n",
       "25  Call of Duty: Modern Warfare and the problem with its child soldier level - newsychronicles.com/?p=3309&utm_so…                                                                                                                                                                             \n",
       "26  I still really get it                                                                                                                                                                                                                                                                       \n",
       "27  i REALLY miss this                                                                                                                                                                                                                                                                          \n",
       "28  Worst way to die in the                                                                                                                                                                                                                                                                     \n",
       "29  It's amazing how many go games you can win when @ MrBaconThomas is actually trying.                                                                                                                                                                                                         \n",
       "\n",
       "                                                                                                                                                 tweet_text_preprocessed  \\\n",
       "0   amazon prime day still running belatedly                                                                                                                               \n",
       "1   amazing                                                                                                                                                                \n",
       "2   new                                                                                                                                                                    \n",
       "3   love microsoft paint lol close enough pic twitter com jvhe pocab                                                                                                       \n",
       "4   beautiful                                                                                                                                                              \n",
       "5   getting absolutely comfortable nerfs                                                                                                                                   \n",
       "6   lovecraft punk scary caf divideacon                                                                                                                                    \n",
       "7   buy borderland randy pitchford damn scum                                                                                                                               \n",
       "8   got best horse back                                                                                                                                                    \n",
       "9   thank blizzard                                                                                                                                                         \n",
       "10  ghostrecon wrong game connect ever fix game silence deafening                                                                                                          \n",
       "11  black ops cold war official reveal new trailer thought youtu ygbjhf via youtube wait bro love video getting hype realthunder                                           \n",
       "12  huge shout tfg football taking time show people easy npm install mod eamaddennfl youtube com watch                                                                     \n",
       "13  elo streak hearthstone btw love pack leader                                                                                                                            \n",
       "14  fuck toxic people overwatch                                                                                                                                            \n",
       "15  csgo moba style ability depend much overwatch played lot csgo good bit really seems perfect                                                                            \n",
       "16  league legend login attempt failing posted january gmt aware problem causing login attempt fail working fix platform affected window macos                             \n",
       "17  excited see msrp become aud cause nvidia aussie electronic tax merely existing pic twitter com hfztrcqamo                                                              \n",
       "18  nvidia recently bought arm wtf weird                                                                                                                                   \n",
       "19  thanks verizon free hotspot month                                                                                                                                      \n",
       "20  like motherfucker kiss                                                                                                                                                 \n",
       "21  unfortunately came decision remove uspfl admin position upl fifa incident yesterday want associated incident like feel lack professionalism shown upl spfl run owner   \n",
       "22  appreciate building community thanks everyone hardwork sacrifice keep helping safe floyd ven akinsmel homedepot                                                        \n",
       "23                                                                                                                                                                         \n",
       "24  playing team faced champion league yesterday text apps looked like like asshole pic wikipedia com cfslten                                                              \n",
       "25  call duty modern warfare problem child soldier level newsychronicles com utm                                                                                           \n",
       "26  still really get                                                                                                                                                       \n",
       "27  really miss                                                                                                                                                            \n",
       "28  worst way die                                                                                                                                                          \n",
       "29  amazing many game win mrbaconthomas actually trying                                                                                                                    \n",
       "\n",
       "   sentiment  \n",
       "0   Negative  \n",
       "1   Positive  \n",
       "2   Positive  \n",
       "3   Positive  \n",
       "4   Positive  \n",
       "5   Negative  \n",
       "6   Negative  \n",
       "7   Negative  \n",
       "8   Neutral   \n",
       "9   Positive  \n",
       "10  Negative  \n",
       "11  Positive  \n",
       "12  Positive  \n",
       "13  Neutral   \n",
       "14  Neutral   \n",
       "15  Positive  \n",
       "16  Negative  \n",
       "17  Negative  \n",
       "18  Positive  \n",
       "19  Positive  \n",
       "20  Positive  \n",
       "21  Neutral   \n",
       "22  Positive  \n",
       "23  Positive  \n",
       "24  Positive  \n",
       "25  Neutral   \n",
       "26  Negative  \n",
       "27  Negative  \n",
       "28  Negative  \n",
       "29  Positive  "
      ]
     },
     "execution_count": 72,
     "metadata": {},
     "output_type": "execute_result"
    }
   ],
   "source": [
    "df[['tweet_text','tweet_text_preprocessed', 'sentiment']].head(30)"
   ]
  },
  {
   "cell_type": "markdown",
   "id": "24fb86e0",
   "metadata": {},
   "source": [
    "# Take a look at the number of rows"
   ]
  },
  {
   "cell_type": "code",
   "execution_count": 73,
   "id": "5b367364",
   "metadata": {},
   "outputs": [
    {
     "name": "stdout",
     "output_type": "stream",
     "text": [
      "<class 'pandas.core.frame.DataFrame'>\n",
      "RangeIndex: 24000 entries, 0 to 23999\n",
      "Data columns (total 8 columns):\n",
      " #   Column                   Non-Null Count  Dtype \n",
      "---  ------                   --------------  ----- \n",
      " 0   tweet_id                 24000 non-null  int64 \n",
      " 1   dp_unique_key            24000 non-null  object\n",
      " 2   sentiment                24000 non-null  object\n",
      " 3   tweet_text               24000 non-null  object\n",
      " 4   updated_date             24000 non-null  object\n",
      " 5   entity                   24000 non-null  object\n",
      " 6   sentiment_index          24000 non-null  int64 \n",
      " 7   tweet_text_preprocessed  24000 non-null  object\n",
      "dtypes: int64(2), object(6)\n",
      "memory usage: 1.5+ MB\n"
     ]
    }
   ],
   "source": [
    "df.info()"
   ]
  },
  {
   "cell_type": "markdown",
   "id": "115a4852",
   "metadata": {},
   "source": [
    "# Split into train and test"
   ]
  },
  {
   "cell_type": "code",
   "execution_count": 74,
   "id": "afa4b47b",
   "metadata": {},
   "outputs": [],
   "source": [
    "train_df, test_df = train_test_split(df,test_size = 0.05, random_state =42)\n",
    "\n",
    "train_df.reset_index(drop = True, inplace = True)\n",
    "test_df.reset_index(drop = True, inplace = True)\n",
    "\n",
    "X_train = train_df['tweet_text_preprocessed']\n",
    "y_train = train_df['sentiment']\n",
    "\n",
    "X_test = test_df['tweet_text_preprocessed']\n",
    "y_test = test_df['sentiment']"
   ]
  },
  {
   "cell_type": "markdown",
   "id": "b3dc34d3",
   "metadata": {},
   "source": [
    "# Use TF IDF Vectorizer "
   ]
  },
  {
   "cell_type": "code",
   "execution_count": 75,
   "id": "29b0bed9",
   "metadata": {},
   "outputs": [
    {
     "name": "stdout",
     "output_type": "stream",
     "text": [
      "No. of feature_words:  5000\n"
     ]
    }
   ],
   "source": [
    "# TF-IDF feature matrix\n",
    "max_number_of_words = 5000\n",
    "tfidf_vectorizer = TfidfVectorizer(use_idf=True, max_df=0.95, min_df=2, max_features=max_number_of_words, lowercase =True, stop_words='english', token_pattern=r'\\w{3,}')\n",
    "tfidf_vectorizer.fit(X_train)\n",
    "print('No. of feature_words: ', len(tfidf_vectorizer.get_feature_names()))\n",
    "X_train = tfidf_vectorizer.transform(X_train)\n",
    "X_test  = tfidf_vectorizer.transform(X_test)"
   ]
  },
  {
   "cell_type": "markdown",
   "id": "b703b520",
   "metadata": {},
   "source": [
    "# Check out TF-IDF for each record to get an idea about key words in that line"
   ]
  },
  {
   "cell_type": "code",
   "execution_count": 76,
   "id": "3995ce8b",
   "metadata": {},
   "outputs": [
    {
     "name": "stdout",
     "output_type": "stream",
     "text": [
      "\n",
      "sum fifa suck fella two nil fucking loser title reach collon bar\n",
      "                 TF-IDF\n",
      "fella          0.407196\n",
      "sum            0.402341\n",
      "bar            0.372767\n",
      "reach          0.363963\n",
      "loser          0.353283\n",
      "title          0.331034\n",
      "suck           0.266671\n",
      "fifa           0.221629\n",
      "fucking        0.215090\n",
      "aaa            0.000000\n",
      "procter        0.000000\n",
      "produced       0.000000\n",
      "produce        0.000000\n",
      "proctergamble  0.000000\n",
      "proceeded      0.000000\n",
      "processor      0.000000\n",
      "process        0.000000\n",
      "product        0.000000\n",
      "problem        0.000000\n",
      "probably       0.000000\n",
      "\n",
      "yogg saron puzzle box became definitely possibly favorite card alphabet secret puzzle game make hilarious crazy insane wtf moment good fun even shitshow unk\n",
      "              TF-IDF\n",
      "puzzle      0.601394\n",
      "saron       0.293743\n",
      "hilarious   0.255602\n",
      "secret      0.240051\n",
      "possibly    0.234930\n",
      "insane      0.211494\n",
      "box         0.210616\n",
      "definitely  0.193926\n",
      "moment      0.193926\n",
      "crazy       0.184024\n",
      "favorite    0.181544\n",
      "wtf         0.173617\n",
      "card        0.165016\n",
      "fun         0.150343\n",
      "make        0.139866\n",
      "unk         0.134161\n",
      "good        0.127393\n",
      "game        0.094858\n",
      "produced    0.000000\n",
      "pro         0.000000\n"
     ]
    }
   ],
   "source": [
    "index = 0\n",
    "print()\n",
    "tfidf_df = pd.DataFrame(X_train[index].T.todense(), index=tfidf_vectorizer.get_feature_names(), columns=[\"TF-IDF\"])\n",
    "tfidf_df = tfidf_df.sort_values('TF-IDF', ascending=False)\n",
    "print (train_df['tweet_text_preprocessed'].iloc[index])\n",
    "print (tfidf_df.head(20))\n",
    "print()\n",
    "\n",
    "index = 1\n",
    "tfidf_df = pd.DataFrame(X_train[index].T.todense(), index=tfidf_vectorizer.get_feature_names(), columns=[\"TF-IDF\"])\n",
    "tfidf_df = tfidf_df.sort_values('TF-IDF', ascending=False)\n",
    "print (train_df['tweet_text_preprocessed'].iloc[index])\n",
    "print (tfidf_df.head(20))"
   ]
  },
  {
   "cell_type": "markdown",
   "id": "36d2e98c",
   "metadata": {},
   "source": [
    "# Fit Random Forest model"
   ]
  },
  {
   "cell_type": "code",
   "execution_count": 77,
   "id": "6c2553d4",
   "metadata": {},
   "outputs": [
    {
     "data": {
      "text/plain": [
       "RandomForestClassifier(random_state=42)"
      ]
     },
     "execution_count": 77,
     "metadata": {},
     "output_type": "execute_result"
    }
   ],
   "source": [
    "rf_clf = RandomForestClassifier(random_state=42)\n",
    "rf_clf.fit(X_train, y_train)"
   ]
  },
  {
   "cell_type": "markdown",
   "id": "99c2a8f8",
   "metadata": {},
   "source": [
    "# Export Random Forest model and tokenizer"
   ]
  },
  {
   "cell_type": "code",
   "execution_count": 78,
   "id": "764328b8",
   "metadata": {},
   "outputs": [
    {
     "data": {
      "text/plain": [
       "['/home/ec2-user/SageMaker/ConcurMLWorkshop/03_Model_Building/random_forest_model_files/random_forest.joblib']"
      ]
     },
     "execution_count": 78,
     "metadata": {},
     "output_type": "execute_result"
    }
   ],
   "source": [
    "# export model\n",
    "joblib.dump(tfidf_vectorizer, f'{current_path}/random_forest_model_files/tfidf_vectorizer.joblib')\n",
    "joblib.dump(rf_clf, f'{current_path}/random_forest_model_files/random_forest.joblib')"
   ]
  },
  {
   "cell_type": "markdown",
   "id": "d17d0c0d",
   "metadata": {},
   "source": [
    "# Predict Random Forest model on test dataset"
   ]
  },
  {
   "cell_type": "code",
   "execution_count": 79,
   "id": "c966ce82",
   "metadata": {},
   "outputs": [],
   "source": [
    "rf_predictions = rf_clf.predict(X_test)"
   ]
  },
  {
   "cell_type": "markdown",
   "id": "2305746a",
   "metadata": {},
   "source": [
    "# View model results"
   ]
  },
  {
   "cell_type": "code",
   "execution_count": 80,
   "id": "83eef8b6",
   "metadata": {},
   "outputs": [
    {
     "name": "stderr",
     "output_type": "stream",
     "text": [
      "/home/ec2-user/SageMaker/ConcurMLWorkshop/03_Model_Building/pretty_confusion_matrix.py:200: MatplotlibDeprecationWarning: \n",
      "The tick1On function was deprecated in Matplotlib 3.1 and will be removed in 3.3. Use Tick.tick1line.set_visible instead.\n",
      "  t.tick1On = False\n",
      "/home/ec2-user/SageMaker/ConcurMLWorkshop/03_Model_Building/pretty_confusion_matrix.py:201: MatplotlibDeprecationWarning: \n",
      "The tick2On function was deprecated in Matplotlib 3.1 and will be removed in 3.3. Use Tick.tick2line.set_visible instead.\n",
      "  t.tick2On = False\n",
      "/home/ec2-user/SageMaker/ConcurMLWorkshop/03_Model_Building/pretty_confusion_matrix.py:203: MatplotlibDeprecationWarning: \n",
      "The tick1On function was deprecated in Matplotlib 3.1 and will be removed in 3.3. Use Tick.tick1line.set_visible instead.\n",
      "  t.tick1On = False\n",
      "/home/ec2-user/SageMaker/ConcurMLWorkshop/03_Model_Building/pretty_confusion_matrix.py:204: MatplotlibDeprecationWarning: \n",
      "The tick2On function was deprecated in Matplotlib 3.1 and will be removed in 3.3. Use Tick.tick2line.set_visible instead.\n",
      "  t.tick2On = False\n"
     ]
    },
    {
     "data": {
      "image/png": "[encoded data removed]",
      "text/plain": [
       "<Figure size 648x648 with 1 Axes>"
      ]
     },
     "metadata": {
      "needs_background": "light"
     },
     "output_type": "display_data"
    }
   ],
   "source": [
    "from pretty_confusion_matrix import *\n",
    "pp_matrix_from_data(y_test, rf_predictions, columns = ['Negative', 'Neutral', 'Positive'])"
   ]
  },
  {
   "cell_type": "markdown",
   "id": "86baf321",
   "metadata": {},
   "source": [
    "# TRY IT OUT - Predict on a test data point"
   ]
  },
  {
   "cell_type": "code",
   "execution_count": 82,
   "id": "5ae5065f",
   "metadata": {},
   "outputs": [
    {
     "name": "stdout",
     "output_type": "stream",
     "text": [
      "really bad service\n",
      "excellent service\n"
     ]
    },
    {
     "data": {
      "text/plain": [
       "array(['Negative', 'Positive'], dtype=object)"
      ]
     },
     "execution_count": 82,
     "metadata": {},
     "output_type": "execute_result"
    }
   ],
   "source": [
    "# predict\n",
    "# load\n",
    "tfidf_vectorizer = joblib.load(f'{current_path}/random_forest_model_files/tfidf_vectorizer.joblib')\n",
    "rf_clf = joblib.load(f'{current_path}/random_forest_model_files/random_forest.joblib')\n",
    "negative_tweet_text = 'That is a really bad service'\n",
    "positive_tweet_text = 'i had an excellent service'\n",
    "def predict(tweet_texts, tfidf_vectorizer):\n",
    "    processed_texts = []\n",
    "    for tweet_text in tweet_texts:            \n",
    "        print(preprocess_tweet(tweet_text))\n",
    "        processed_texts.append(preprocess_tweet(tweet_text))\n",
    "    tweet_texts_tfidf = tfidf_vectorizer.transform(processed_texts)\n",
    "    predictions = rf_clf.predict(tweet_texts_tfidf)\n",
    "    return predictions\n",
    "predict([negative_tweet_text, positive_tweet_text], tfidf_vectorizer)"
   ]
  },
  {
   "cell_type": "markdown",
   "id": "ce89556f",
   "metadata": {},
   "source": [
    "# YAY. We have now trained a TF - IDF model "
   ]
  },
  {
   "cell_type": "markdown",
   "id": "ac6ef66e",
   "metadata": {},
   "source": [
    "# Keras tokenization word embedding model"
   ]
  },
  {
   "cell_type": "markdown",
   "id": "657d2324",
   "metadata": {},
   "source": [
    "# Keras model - Load tokenizer and save tokenizer"
   ]
  },
  {
   "cell_type": "code",
   "execution_count": 85,
   "id": "082ef143",
   "metadata": {},
   "outputs": [
    {
     "name": "stdout",
     "output_type": "stream",
     "text": [
      "Train text to sequences [2977, 49, 206, 3211, 150, 36, 1257, 836, 1565, 1816]\n",
      "\n",
      "Train text to sequences after padding [2977   49  206 3211  150   36 1257  836 1565 1816    0    0    0    0\n",
      "    0    0    0    0    0    0    0    0    0    0    0    0    0    0\n",
      "    0    0    0    0    0    0    0    0    0    0    0    0    0    0\n",
      "    0    0    0    0    0    0    0    0]\n"
     ]
    },
    {
     "name": "stderr",
     "output_type": "stream",
     "text": [
      "/home/ec2-user/anaconda3/envs/tensorflow_p36/lib/python3.6/site-packages/ipykernel/__main__.py:26: SettingWithCopyWarning: \n",
      "A value is trying to be set on a copy of a slice from a DataFrame.\n",
      "Try using .loc[row_indexer,col_indexer] = value instead\n",
      "\n",
      "See the caveats in the documentation: https://pandas.pydata.org/pandas-docs/stable/user_guide/indexing.html#returning-a-view-versus-a-copy\n",
      "/home/ec2-user/anaconda3/envs/tensorflow_p36/lib/python3.6/site-packages/ipykernel/__main__.py:32: SettingWithCopyWarning: \n",
      "A value is trying to be set on a copy of a slice from a DataFrame.\n",
      "Try using .loc[row_indexer,col_indexer] = value instead\n",
      "\n",
      "See the caveats in the documentation: https://pandas.pydata.org/pandas-docs/stable/user_guide/indexing.html#returning-a-view-versus-a-copy\n"
     ]
    }
   ],
   "source": [
    "max_words = 5000\n",
    "max_len=50\n",
    "\n",
    "keras_tokenizer = Tokenizer(num_words=max_words, lower=True, split=' ')\n",
    "\n",
    "\n",
    "def tokenize_pad_sequences(tweet_text):\n",
    "    '''\n",
    "    This function tokenize the input text into sequnences of intergers and then\n",
    "    pad each sequence to the same length\n",
    "    '''\n",
    "    tweet_text = tokenizer.texts_to_sequences(tweet_text)\n",
    "    # Pad sequences to the same length\n",
    "    tweet_text = pad_sequences(tweet_text, padding='post', maxlen=max_len)\n",
    "    # return sequences\n",
    "    return tweet_text\n",
    "\n",
    "keras_tokenizer.fit_on_texts(train_df['tweet_text_preprocessed'])\n",
    "train_texts_to_sequences = keras_tokenizer.texts_to_sequences(train_df['tweet_text_preprocessed'])\n",
    "print('Train text to sequences', train_texts_to_sequences[0])\n",
    "print()\n",
    "\n",
    "train_texts_to_sequences = pad_sequences(train_texts_to_sequences, padding='post', maxlen=max_len)\n",
    "print('Train text to sequences after padding', train_texts_to_sequences[0])\n",
    "\n",
    "train_df['tweet_keras_tokenized'] = list(train_texts_to_sequences)\n",
    "\n",
    "\n",
    "test_texts_to_sequences = keras_tokenizer.texts_to_sequences(test_df['tweet_text_preprocessed'])\n",
    "test_texts_to_sequences = pad_sequences(test_texts_to_sequences, padding='post', maxlen=max_len)\n",
    "\n",
    "test_df['tweet_keras_tokenized'] = list(test_texts_to_sequences)\n",
    "\n",
    "\n",
    "# saving\n",
    "# with open('keras_tokenizer.pickle', 'wb') as handle:\n",
    "#     pickle.dump(keras_tokenizer, handle, protocol=pickle.HIGHEST_PROTOCOL)\n",
    "\n",
    "tokenizer_json =  keras_tokenizer.to_json()\n",
    "with io.open(f'{current_path}/keras_model_files/keras_tokenizer.json', 'w', encoding='utf-8') as f:\n",
    "    f.write(json.dumps(tokenizer_json, ensure_ascii=False))\n"
   ]
  },
  {
   "cell_type": "markdown",
   "id": "d0d63787",
   "metadata": {},
   "source": [
    "# Define Keras model"
   ]
  },
  {
   "cell_type": "code",
   "execution_count": 86,
   "id": "c7f6f604",
   "metadata": {},
   "outputs": [],
   "source": [
    "keras_model = Sequential()\n",
    "embedding_vector_size = 36\n",
    "lstm_units = 50\n",
    "keras_model.add(Embedding(max_words,embedding_vector_size,input_length=max_len))\n",
    "keras_model.add(Bidirectional(LSTM(20, return_sequences=True)))\n",
    "keras_model.add(Bidirectional(LSTM(lstm_units)))\n",
    "keras_model.add(Dense(3, activation='softmax'))\n",
    "keras_model.compile(\n",
    "     loss='sparse_categorical_crossentropy',\n",
    "     optimizer='adam',\n",
    "     metrics=['accuracy'])"
   ]
  },
  {
   "cell_type": "markdown",
   "id": "9fd670ec",
   "metadata": {},
   "source": [
    "# Train Keras Model"
   ]
  },
  {
   "cell_type": "code",
   "execution_count": 89,
   "id": "8f64f80f",
   "metadata": {},
   "outputs": [
    {
     "name": "stdout",
     "output_type": "stream",
     "text": [
      "Epoch 1/5\n",
      "713/713 [==============================] - 37s 52ms/step - loss: 0.4047 - accuracy: 0.8382 - val_loss: 0.6275 - val_accuracy: 0.7508\n",
      "Epoch 2/5\n",
      "713/713 [==============================] - 37s 52ms/step - loss: 0.3471 - accuracy: 0.8617 - val_loss: 0.6636 - val_accuracy: 0.7542\n",
      "Epoch 3/5\n",
      "713/713 [==============================] - 37s 52ms/step - loss: 0.3056 - accuracy: 0.8786 - val_loss: 0.6886 - val_accuracy: 0.7633\n",
      "Epoch 4/5\n",
      "713/713 [==============================] - 37s 52ms/step - loss: 0.2727 - accuracy: 0.8902 - val_loss: 0.7112 - val_accuracy: 0.7658\n",
      "Epoch 5/5\n",
      "713/713 [==============================] - 38s 53ms/step - loss: 0.2493 - accuracy: 0.9003 - val_loss: 0.7479 - val_accuracy: 0.7567\n"
     ]
    },
    {
     "data": {
      "text/plain": [
       "<tensorflow.python.keras.callbacks.History at 0x7f8e1fc0c9b0>"
      ]
     },
     "execution_count": 89,
     "metadata": {},
     "output_type": "execute_result"
    }
   ],
   "source": [
    "X_train_keras = train_texts_to_sequences\n",
    "y_train_keras = train_df['sentiment_index']\n",
    "\n",
    "X_test_keras = test_texts_to_sequences\n",
    "y_test_keras = test_df['sentiment_index']\n",
    "\n",
    "keras_model.fit(\n",
    "     X_train_keras, y_train_keras,\n",
    "     validation_data=(X_test_keras, y_test_keras),\n",
    "     epochs=5)"
   ]
  },
  {
   "cell_type": "markdown",
   "id": "b5ae603d",
   "metadata": {},
   "source": [
    "# Test model on test data set"
   ]
  },
  {
   "cell_type": "code",
   "execution_count": 90,
   "id": "a7e09841",
   "metadata": {},
   "outputs": [
    {
     "name": "stderr",
     "output_type": "stream",
     "text": [
      "/home/ec2-user/SageMaker/ConcurMLWorkshop/03_Model_Building/pretty_confusion_matrix.py:200: MatplotlibDeprecationWarning: \n",
      "The tick1On function was deprecated in Matplotlib 3.1 and will be removed in 3.3. Use Tick.tick1line.set_visible instead.\n",
      "  t.tick1On = False\n",
      "/home/ec2-user/SageMaker/ConcurMLWorkshop/03_Model_Building/pretty_confusion_matrix.py:201: MatplotlibDeprecationWarning: \n",
      "The tick2On function was deprecated in Matplotlib 3.1 and will be removed in 3.3. Use Tick.tick2line.set_visible instead.\n",
      "  t.tick2On = False\n",
      "/home/ec2-user/SageMaker/ConcurMLWorkshop/03_Model_Building/pretty_confusion_matrix.py:203: MatplotlibDeprecationWarning: \n",
      "The tick1On function was deprecated in Matplotlib 3.1 and will be removed in 3.3. Use Tick.tick1line.set_visible instead.\n",
      "  t.tick1On = False\n",
      "/home/ec2-user/SageMaker/ConcurMLWorkshop/03_Model_Building/pretty_confusion_matrix.py:204: MatplotlibDeprecationWarning: \n",
      "The tick2On function was deprecated in Matplotlib 3.1 and will be removed in 3.3. Use Tick.tick2line.set_visible instead.\n",
      "  t.tick2On = False\n"
     ]
    },
    {
     "data": {
      "image/png": "[encoded data removed]",
      "text/plain": [
       "<Figure size 648x648 with 1 Axes>"
      ]
     },
     "metadata": {
      "needs_background": "light"
     },
     "output_type": "display_data"
    }
   ],
   "source": [
    "#Generate predictions\n",
    "keras_predictions = np.argmax(keras_model.predict(test_texts_to_sequences), axis=1)\n",
    "\n",
    "#Assign labels to predictions and test data\n",
    "keras_prediction_labels = ids_to_names(keras_predictions)\n",
    "#y_test_labels = ids_to_names(y_test)\n",
    "\n",
    "from pretty_confusion_matrix import *\n",
    "pp_matrix_from_data(test_df['sentiment'], keras_prediction_labels, columns = ['Negative', 'Neutral', 'Positive'])"
   ]
  },
  {
   "cell_type": "markdown",
   "id": "90f72e98",
   "metadata": {},
   "source": [
    "# Save model"
   ]
  },
  {
   "cell_type": "code",
   "execution_count": 91,
   "id": "4ebfa7e1",
   "metadata": {},
   "outputs": [
    {
     "name": "stderr",
     "output_type": "stream",
     "text": [
      "WARNING:absl:Found untraced functions such as lstm_cell_1_layer_call_and_return_conditional_losses, lstm_cell_1_layer_call_fn, lstm_cell_2_layer_call_and_return_conditional_losses, lstm_cell_2_layer_call_fn, lstm_cell_4_layer_call_and_return_conditional_losses while saving (showing 5 of 20). These functions will not be directly callable after loading.\n"
     ]
    },
    {
     "name": "stdout",
     "output_type": "stream",
     "text": [
      "INFO:tensorflow:Assets written to: /home/ec2-user/SageMaker/ConcurMLWorkshop/03_Model_Building/keras_model_files/assets\n"
     ]
    },
    {
     "name": "stderr",
     "output_type": "stream",
     "text": [
      "INFO:tensorflow:Assets written to: /home/ec2-user/SageMaker/ConcurMLWorkshop/03_Model_Building/keras_model_files/assets\n"
     ]
    }
   ],
   "source": [
    "save_model(keras_model, f'{current_path}/keras_model_files/', save_format='tf')"
   ]
  },
  {
   "cell_type": "markdown",
   "id": "e763a86a",
   "metadata": {},
   "source": [
    "# Combine datasets results and save it to S3"
   ]
  },
  {
   "cell_type": "code",
   "execution_count": 92,
   "id": "a7ef449c",
   "metadata": {},
   "outputs": [
    {
     "name": "stderr",
     "output_type": "stream",
     "text": [
      "/home/ec2-user/anaconda3/envs/tensorflow_p36/lib/python3.6/site-packages/ipykernel/__main__.py:1: SettingWithCopyWarning: \n",
      "A value is trying to be set on a copy of a slice from a DataFrame.\n",
      "Try using .loc[row_indexer,col_indexer] = value instead\n",
      "\n",
      "See the caveats in the documentation: https://pandas.pydata.org/pandas-docs/stable/user_guide/indexing.html#returning-a-view-versus-a-copy\n",
      "  if __name__ == '__main__':\n",
      "/home/ec2-user/anaconda3/envs/tensorflow_p36/lib/python3.6/site-packages/ipykernel/__main__.py:2: SettingWithCopyWarning: \n",
      "A value is trying to be set on a copy of a slice from a DataFrame.\n",
      "Try using .loc[row_indexer,col_indexer] = value instead\n",
      "\n",
      "See the caveats in the documentation: https://pandas.pydata.org/pandas-docs/stable/user_guide/indexing.html#returning-a-view-versus-a-copy\n",
      "  from ipykernel import kernelapp as app\n"
     ]
    },
    {
     "data": {
      "text/plain": [
       "{'paths': ['s3://twitter-sentiment-adithya-kumar/model-training/model-results/9ae18a83e5c4415e91ad3a06f0d7ea69.snappy.parquet'],\n",
       " 'partitions_values': {}}"
      ]
     },
     "execution_count": 92,
     "metadata": {},
     "output_type": "execute_result"
    }
   ],
   "source": [
    "test_df['rf_output_labels'] = rf_predictions\n",
    "test_df['keras_output_labels'] = keras_prediction_labels\n",
    "test_df = test_df.reset_index(drop = True)\n",
    "wr.s3.to_parquet(\n",
    "    df=test_df[['tweet_id', 'tweet_text', 'sentiment', 'rf_output_labels', 'keras_output_labels']],\n",
    "    path=S3_BUCKET_FOLDER,\n",
    "    dataset=True\n",
    ")"
   ]
  },
  {
   "cell_type": "markdown",
   "id": "74dbb7e5",
   "metadata": {},
   "source": [
    "# Predict for a test data point"
   ]
  },
  {
   "cell_type": "code",
   "execution_count": 93,
   "id": "f0ea7582",
   "metadata": {},
   "outputs": [
    {
     "data": {
      "text/plain": [
       "array(['Negative', 'Positive'], dtype='<U8')"
      ]
     },
     "execution_count": 93,
     "metadata": {},
     "output_type": "execute_result"
    }
   ],
   "source": [
    "# Predict in Keras\n",
    "with open(f'{current_path}/keras_model_files/keras_tokenizer.json') as f:\n",
    "    data = json.load(f)\n",
    "    keras_tokenizer = tokenizer_from_json(data)\n",
    "\n",
    "reconstructed_keras_model = load_model(f'{current_path}/keras_model_files/')\n",
    "\n",
    "preprocessed_tweet = [preprocess_tweet(tweet_text) for tweet_text in [negative_tweet_text, positive_tweet_text]]\n",
    "\n",
    "predict_texts_to_sequences = keras_tokenizer.texts_to_sequences(preprocessed_tweet)\n",
    "predict_texts_to_sequences = pad_sequences(predict_texts_to_sequences, padding='post', maxlen=max_len)\n",
    "\n",
    "keras_predictions = np.argmax(reconstructed_keras_model.predict(predict_texts_to_sequences), axis=1)\n",
    "\n",
    "keras_prediction_labels_test = ids_to_names(keras_predictions)\n",
    "\n",
    "keras_prediction_labels_test"
   ]
  },
  {
   "cell_type": "markdown",
   "id": "0db728e0",
   "metadata": {},
   "source": [
    "# TRY IT OUT : Train model on full dataset and see if you see the model accuracy improving"
   ]
  },
  {
   "cell_type": "markdown",
   "id": "ecbffb6f",
   "metadata": {},
   "source": [
    "# TRY IT OUT : Add callbacks to Keras model to stop model training if validation loss stops improving"
   ]
  },
  {
   "cell_type": "code",
   "execution_count": null,
   "id": "46b749be",
   "metadata": {},
   "outputs": [],
   "source": []
  }
 ],
 "metadata": {
  "kernelspec": {
   "display_name": "conda_tensorflow_p36",
   "language": "python",
   "name": "conda_tensorflow_p36"
  },
  "language_info": {
   "codemirror_mode": {
    "name": "ipython",
    "version": 3
   },
   "file_extension": ".py",
   "mimetype": "text/x-python",
   "name": "python",
   "nbconvert_exporter": "python",
   "pygments_lexer": "ipython3",
   "version": "3.6.13"
  }
 },
 "nbformat": 4,
 "nbformat_minor": 5
}
