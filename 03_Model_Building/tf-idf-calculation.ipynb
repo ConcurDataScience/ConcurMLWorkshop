{
 "cells": [
  {
   "cell_type": "code",
   "execution_count": 11,
   "id": "a4f655ef",
   "metadata": {},
   "outputs": [
    {
     "data": {
      "text/html": [
       "<div>\n",
       "<style scoped>\n",
       "    .dataframe tbody tr th:only-of-type {\n",
       "        vertical-align: middle;\n",
       "    }\n",
       "\n",
       "    .dataframe tbody tr th {\n",
       "        vertical-align: top;\n",
       "    }\n",
       "\n",
       "    .dataframe thead th {\n",
       "        text-align: right;\n",
       "    }\n",
       "</style>\n",
       "<table border=\"1\" class=\"dataframe\">\n",
       "  <thead>\n",
       "    <tr style=\"text-align: right;\">\n",
       "      <th></th>\n",
       "      <th>am</th>\n",
       "      <th>are</th>\n",
       "      <th>doing</th>\n",
       "      <th>fine</th>\n",
       "      <th>hello</th>\n",
       "      <th>hope</th>\n",
       "      <th>how</th>\n",
       "      <th>thank</th>\n",
       "      <th>well</th>\n",
       "      <th>you</th>\n",
       "    </tr>\n",
       "  </thead>\n",
       "  <tbody>\n",
       "    <tr>\n",
       "      <th>0</th>\n",
       "      <td>0.000000</td>\n",
       "      <td>0.420753</td>\n",
       "      <td>0.000000</td>\n",
       "      <td>0.000000</td>\n",
       "      <td>0.659191</td>\n",
       "      <td>0.000000</td>\n",
       "      <td>0.519714</td>\n",
       "      <td>0.000000</td>\n",
       "      <td>0.000000</td>\n",
       "      <td>0.343993</td>\n",
       "    </tr>\n",
       "    <tr>\n",
       "      <th>1</th>\n",
       "      <td>0.000000</td>\n",
       "      <td>0.488291</td>\n",
       "      <td>0.488291</td>\n",
       "      <td>0.000000</td>\n",
       "      <td>0.000000</td>\n",
       "      <td>0.000000</td>\n",
       "      <td>0.603137</td>\n",
       "      <td>0.000000</td>\n",
       "      <td>0.000000</td>\n",
       "      <td>0.399210</td>\n",
       "    </tr>\n",
       "    <tr>\n",
       "      <th>2</th>\n",
       "      <td>0.521305</td>\n",
       "      <td>0.000000</td>\n",
       "      <td>0.332742</td>\n",
       "      <td>0.521305</td>\n",
       "      <td>0.000000</td>\n",
       "      <td>0.000000</td>\n",
       "      <td>0.000000</td>\n",
       "      <td>0.521305</td>\n",
       "      <td>0.000000</td>\n",
       "      <td>0.272039</td>\n",
       "    </tr>\n",
       "    <tr>\n",
       "      <th>3</th>\n",
       "      <td>0.000000</td>\n",
       "      <td>0.363277</td>\n",
       "      <td>0.363277</td>\n",
       "      <td>0.000000</td>\n",
       "      <td>0.000000</td>\n",
       "      <td>0.569144</td>\n",
       "      <td>0.000000</td>\n",
       "      <td>0.000000</td>\n",
       "      <td>0.569144</td>\n",
       "      <td>0.297003</td>\n",
       "    </tr>\n",
       "  </tbody>\n",
       "</table>\n",
       "</div>"
      ],
      "text/plain": [
       "         am       are     doing      fine     hello      hope       how  \\\n",
       "0  0.000000  0.420753  0.000000  0.000000  0.659191  0.000000  0.519714   \n",
       "1  0.000000  0.488291  0.488291  0.000000  0.000000  0.000000  0.603137   \n",
       "2  0.521305  0.000000  0.332742  0.521305  0.000000  0.000000  0.000000   \n",
       "3  0.000000  0.363277  0.363277  0.000000  0.000000  0.569144  0.000000   \n",
       "\n",
       "      thank      well       you  \n",
       "0  0.000000  0.000000  0.343993  \n",
       "1  0.000000  0.000000  0.399210  \n",
       "2  0.521305  0.000000  0.272039  \n",
       "3  0.000000  0.569144  0.297003  "
      ]
     },
     "execution_count": 11,
     "metadata": {},
     "output_type": "execute_result"
    }
   ],
   "source": [
    "# How TF - IDF works\n",
    "import re \n",
    "import numpy as np\n",
    "import pandas as pd\n",
    "from sklearn.feature_extraction.text import TfidfVectorizer, TfidfTransformer, CountVectorizer\n",
    "\n",
    "\n",
    "texts = ['hello how are you',\n",
    "        'how are you doing',\n",
    "         'thank you i am doing fine',\n",
    "         'hope you are doing well'\n",
    "        ]\n",
    "\n",
    "vectorizer = TfidfVectorizer()\n",
    "response = vectorizer.fit_transform(texts)\n",
    "terms = vectorizer.get_feature_names()\n",
    "\n",
    "tfidf_sklearn = pd.DataFrame(response.toarray(), columns=terms)\n",
    "chosen_words = list(tfidf_sklearn.columns)\n",
    "tfidf_sklearn"
   ]
  },
  {
   "cell_type": "markdown",
   "id": "590e8f55",
   "metadata": {},
   "source": [
    "# How did we get the above calculation\n",
    "# Lets take row 3 for example - How did we get the value of 0.538029 for \"hope\" ?"
   ]
  },
  {
   "cell_type": "code",
   "execution_count": null,
   "id": "093896a8",
   "metadata": {},
   "outputs": [],
   "source": [
    "# Term Frequency (word, doc) -> (Number of times doing appears in document 3)/ (Total Number of words in document3)\n",
    "# Inverse Document Frequency (word) -> log((Number of documents)+1/ (Number of documents containing the word)+1)+1"
   ]
  },
  {
   "cell_type": "code",
   "execution_count": null,
   "id": "191fb754",
   "metadata": {},
   "outputs": [],
   "source": [
    "# Term Frequency\n",
    "tf = 1/4"
   ]
  },
  {
   "cell_type": "code",
   "execution_count": null,
   "id": "df036eb7",
   "metadata": {},
   "outputs": [],
   "source": [
    "# IDF\n",
    "idf = np.log((4+1)/(1+1))+1"
   ]
  },
  {
   "cell_type": "code",
   "execution_count": null,
   "id": "2d6b41f4",
   "metadata": {},
   "outputs": [],
   "source": [
    "# Product of TF-IDF\n",
    "product = tf * idf\n",
    "print(product)"
   ]
  },
  {
   "cell_type": "code",
   "execution_count": null,
   "id": "797033d8",
   "metadata": {},
   "outputs": [],
   "source": [
    "# create dictionary\n",
    "def calculate_tf(word, document):\n",
    "    count = 0\n",
    "    text_split = document.split(' ')\n",
    "    for each_word in text_split:\n",
    "        if word == each_word:\n",
    "            count+=1\n",
    "    return count/len(text_split)\n",
    "\n",
    "def calculate_idf(word):\n",
    "    number_of_occurences_of_word_in_all_documents = 0\n",
    "    for text in texts:\n",
    "        text_split = text.split(' ')\n",
    "        if word in text_split:\n",
    "            number_of_occurences_of_word_in_all_documents+=1\n",
    "    return np.log((len(texts)+1)/(number_of_occurences_of_word_in_all_documents+1))+1\n",
    "\n",
    "\n",
    "#chosen_words = ['doing', 'fine', 'hello', 'hope', 'thank']\n",
    "dfs = []\n",
    "for index, text in enumerate(texts):\n",
    "    temp_dicts = []\n",
    "    for word in chosen_words:\n",
    "        temp_dict = {}\n",
    "        temp_dict['word'] = word     \n",
    "        temp_dict['tf'] = calculate_tf(word, text)          \n",
    "        temp_dicts.append(temp_dict)\n",
    "    temp_df = pd.DataFrame(temp_dicts).T\n",
    "    temp_df.columns = chosen_words    \n",
    "    dfs.append(temp_df[1:])\n",
    "tfidf_calc = pd.concat(dfs)\n",
    "tfidf_calc.reset_index(drop = True, inplace = True)\n",
    "tfidf_calc"
   ]
  },
  {
   "cell_type": "code",
   "execution_count": null,
   "id": "f2dd840f",
   "metadata": {},
   "outputs": [],
   "source": [
    "# calculate IDF matrix\n",
    "import pandas as pd\n",
    "cv = CountVectorizer()\n",
    "word_count_vector = cv.fit_transform(texts)\n",
    "\n",
    "\n",
    "tfidf_transformer = TfidfTransformer()\n",
    "X = tfidf_transformer.fit_transform(word_count_vector)\n",
    "idf = pd.DataFrame({'feature_name':cv.get_feature_names(), 'idf_weights':tfidf_transformer.idf_}).T[1:]\n",
    "idf.columns = chosen_words\n",
    "idf"
   ]
  },
  {
   "cell_type": "code",
   "execution_count": null,
   "id": "b1827e1a",
   "metadata": {},
   "outputs": [],
   "source": [
    "# Multiple TF-IDF\n",
    "\n",
    "sum_of_squares = []\n",
    "for index, row in tfidf_calc.iterrows():\n",
    "    sum_square = 0\n",
    "    for column in tfidf_calc.columns:\n",
    "        row[column] = row[column] * idf[column][0]\n",
    "        sum_square+=np.square(row[column])\n",
    "    sum_of_squares.append(np.sqrt(sum_square))\n",
    "\n",
    "\n",
    "tfidf_calc['sum_of_squares'] = sum_of_squares\n",
    "tfidf_calc  "
   ]
  },
  {
   "cell_type": "code",
   "execution_count": null,
   "id": "c80d633e",
   "metadata": {},
   "outputs": [],
   "source": [
    "word_columns = list(tfidf_calc.columns)\n",
    "word_columns.remove('sum_of_squares')\n",
    "for index, row in tfidf_calc.iterrows():\n",
    "    for column in word_columns:\n",
    "        row[column] = row[column]/row['sum_of_squares']\n",
    "        tfidf_calc.iloc[index] = row\n",
    "tfidf_calc"
   ]
  },
  {
   "cell_type": "code",
   "execution_count": null,
   "id": "0d9b572e",
   "metadata": {},
   "outputs": [],
   "source": [
    "tfidf_sklearn"
   ]
  },
  {
   "cell_type": "markdown",
   "id": "020813ce",
   "metadata": {},
   "source": [
    "# Now we can see the values matches with what we get from SKLEARN"
   ]
  },
  {
   "cell_type": "code",
   "execution_count": null,
   "id": "ca13da10",
   "metadata": {},
   "outputs": [],
   "source": []
  }
 ],
 "metadata": {
  "kernelspec": {
   "display_name": "conda_python3",
   "language": "python",
   "name": "conda_python3"
  },
  "language_info": {
   "codemirror_mode": {
    "name": "ipython",
    "version": 3
   },
   "file_extension": ".py",
   "mimetype": "text/x-python",
   "name": "python",
   "nbconvert_exporter": "python",
   "pygments_lexer": "ipython3",
   "version": "3.6.13"
  }
 },
 "nbformat": 4,
 "nbformat_minor": 5
}
